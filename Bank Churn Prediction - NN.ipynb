{
 "cells": [
  {
   "cell_type": "markdown",
   "metadata": {},
   "source": [
    "# Description\n",
    "## Background and Context\n",
    "\n",
    "Businesses like banks that provide service have to worry about the problem of 'Churn' i.e. customers leaving and joining another service provider. It is important to understand which aspects of the service influence a customer's decision in this regard. Management can concentrate efforts on the improvement of service, keeping in mind these priorities.\n",
    "\n",
    "## Objective\n",
    "\n",
    "Given a Bank customer, build a neural network-based classifier that can determine whether they will leave or not in the next 6 months.\n",
    "\n",
    "## Data Description\n",
    "\n",
    "The case study is from an open-source dataset from Kaggle. The dataset contains 10,000 sample points with 14 distinct features such as CustomerId, CreditScore, Geography, Gender, Age, Tenure, Balance, etc.\n",
    "\n",
    "## Data Dictionary\n",
    "\n",
    "- CustomerId: Unique ID which is assigned to each customer\n",
    "- Surname: Last name of the customer \n",
    "- CreditScore: It defines the credit history of the customer.  \n",
    "- Geography: A customer’s location    \n",
    "- Gender: It defines the Gender of the customer   \n",
    "- Age: Age of the customer     \n",
    "- Tenure: Number of years for which the customer has been with the bank\n",
    "- NumOfProducts: It refers to the number of products that a customer has purchased through the bank.\n",
    "- Balance: Account balance\n",
    "- HasCrCard: It is a categorical variable that decides whether the customer has a credit card or not.\n",
    "- EstimatedSalary: Estimated salary \n",
    "- isActiveMember: It is a categorical variable that decides whether the customer is an active member of the bank or not ( Active member in the sense, using bank products regularly, making transactions, etc )\n",
    "- Excited: It is a categorical variable that decides whether the customer left the bank within six months or not. It can take two values \n",
    "                    0=No ( Customer did not leave the bank )\n",
    "\n",
    "                    1=Yes ( Customer left the bank )"
   ]
  },
  {
   "cell_type": "markdown",
   "metadata": {},
   "source": [
    "## Import necessary Libraries"
   ]
  },
  {
   "cell_type": "code",
   "execution_count": 1,
   "metadata": {},
   "outputs": [
    {
     "data": {
      "application/javascript": [
       "\n",
       "            setTimeout(function() {\n",
       "                var nbb_cell_id = 1;\n",
       "                var nbb_unformatted_code = \"# Libraries to help with reading and manipulating data\\nimport pandas as pd\\nimport numpy as np\\n\\n# Libraries to help with data visualization\\nimport matplotlib.pyplot as plt\\n\\n%matplotlib inline\\nimport seaborn as sns\\n\\nsns.set_theme()\\n\\n# to scale the data\\nfrom sklearn import preprocessing\\nfrom sklearn.model_selection import train_test_split\\nfrom sklearn.preprocessing import StandardScaler\\n\\n# To get diferent metric scores\\nfrom sklearn.metrics import (\\n    accuracy_score,\\n    confusion_matrix,\\n    precision_score,\\n    recall_score,\\n    f1_score,\\n    precision_recall_curve,\\n    auc,\\n    roc_auc_score,\\n    roc_curve,\\n)\\nfrom sklearn.decomposition import PCA\\n\\n# importing tensorflow\\nimport tensorflow as tf\\nfrom tensorflow.keras.models import Sequential\\nfrom tensorflow.keras.layers import Dense, Dropout\\nfrom tensorflow.keras import optimizers\\nfrom tensorflow.keras.optimizers import Adam\\nfrom tensorflow.keras.optimizers import RMSprop\\n\\nimport keras\\nfrom keras import backend as K\\nfrom keras.models import Sequential\\nfrom keras.layers import Dense, Dropout, BatchNormalization\\n\\nimport warnings\\n\\nwarnings.filterwarnings(\\\"ignore\\\")\\n\\n# this will help in making the Python code more structured automatically (good coding practice)\\n%reload_ext nb_black\";\n",
       "                var nbb_formatted_code = \"# Libraries to help with reading and manipulating data\\nimport pandas as pd\\nimport numpy as np\\n\\n# Libraries to help with data visualization\\nimport matplotlib.pyplot as plt\\n\\n%matplotlib inline\\nimport seaborn as sns\\n\\nsns.set_theme()\\n\\n# to scale the data\\nfrom sklearn import preprocessing\\nfrom sklearn.model_selection import train_test_split\\nfrom sklearn.preprocessing import StandardScaler\\n\\n# To get diferent metric scores\\nfrom sklearn.metrics import (\\n    accuracy_score,\\n    confusion_matrix,\\n    precision_score,\\n    recall_score,\\n    f1_score,\\n    precision_recall_curve,\\n    auc,\\n    roc_auc_score,\\n    roc_curve,\\n)\\nfrom sklearn.decomposition import PCA\\n\\n# importing tensorflow\\nimport tensorflow as tf\\nfrom tensorflow.keras.models import Sequential\\nfrom tensorflow.keras.layers import Dense, Dropout\\nfrom tensorflow.keras import optimizers\\nfrom tensorflow.keras.optimizers import Adam\\nfrom tensorflow.keras.optimizers import RMSprop\\n\\nimport keras\\nfrom keras import backend as K\\nfrom keras.models import Sequential\\nfrom keras.layers import Dense, Dropout, BatchNormalization\\n\\nimport warnings\\n\\nwarnings.filterwarnings(\\\"ignore\\\")\\n\\n# this will help in making the Python code more structured automatically (good coding practice)\\n%reload_ext nb_black\";\n",
       "                var nbb_cells = Jupyter.notebook.get_cells();\n",
       "                for (var i = 0; i < nbb_cells.length; ++i) {\n",
       "                    if (nbb_cells[i].input_prompt_number == nbb_cell_id) {\n",
       "                        if (nbb_cells[i].get_text() == nbb_unformatted_code) {\n",
       "                             nbb_cells[i].set_text(nbb_formatted_code);\n",
       "                        }\n",
       "                        break;\n",
       "                    }\n",
       "                }\n",
       "            }, 500);\n",
       "            "
      ],
      "text/plain": [
       "<IPython.core.display.Javascript object>"
      ]
     },
     "metadata": {},
     "output_type": "display_data"
    }
   ],
   "source": [
    "# Libraries to help with reading and manipulating data\n",
    "import pandas as pd\n",
    "import numpy as np\n",
    "\n",
    "# Libraries to help with data visualization\n",
    "import matplotlib.pyplot as plt\n",
    "\n",
    "%matplotlib inline\n",
    "import seaborn as sns\n",
    "\n",
    "sns.set_theme()\n",
    "\n",
    "# to scale the data\n",
    "from sklearn import preprocessing\n",
    "from sklearn.model_selection import train_test_split\n",
    "from sklearn.preprocessing import StandardScaler\n",
    "\n",
    "# To get diferent metric scores\n",
    "from sklearn.metrics import (\n",
    "    accuracy_score,\n",
    "    confusion_matrix,\n",
    "    precision_score,\n",
    "    recall_score,\n",
    "    f1_score,\n",
    "    precision_recall_curve,\n",
    "    auc,\n",
    "    roc_auc_score,\n",
    "    roc_curve,\n",
    ")\n",
    "from sklearn.decomposition import PCA\n",
    "\n",
    "# importing tensorflow\n",
    "import tensorflow as tf\n",
    "from tensorflow.keras.models import Sequential\n",
    "from tensorflow.keras.layers import Dense, Dropout\n",
    "from tensorflow.keras import optimizers\n",
    "from tensorflow.keras.optimizers import Adam\n",
    "from tensorflow.keras.optimizers import RMSprop\n",
    "\n",
    "import keras\n",
    "from keras import backend as K\n",
    "from keras.models import Sequential\n",
    "from keras.layers import Dense, Dropout, BatchNormalization\n",
    "\n",
    "import warnings\n",
    "\n",
    "warnings.filterwarnings(\"ignore\")\n",
    "\n",
    "# this will help in making the Python code more structured automatically (good coding practice)\n",
    "%reload_ext nb_black"
   ]
  },
  {
   "cell_type": "markdown",
   "metadata": {},
   "source": [
    "## Reading Dataset and Feature Elimination\n",
    "- Read the dataset properly - Print the overview of the data (statistical summary, shape, info, etc) - Eliminate the unique features from the dataset with proper reasoning"
   ]
  },
  {
   "cell_type": "code",
   "execution_count": 2,
   "metadata": {},
   "outputs": [
    {
     "data": {
      "application/javascript": [
       "\n",
       "            setTimeout(function() {\n",
       "                var nbb_cell_id = 2;\n",
       "                var nbb_unformatted_code = \"# Load the Dataset\\ndf = pd.read_csv(\\\"bank.csv\\\")\";\n",
       "                var nbb_formatted_code = \"# Load the Dataset\\ndf = pd.read_csv(\\\"bank.csv\\\")\";\n",
       "                var nbb_cells = Jupyter.notebook.get_cells();\n",
       "                for (var i = 0; i < nbb_cells.length; ++i) {\n",
       "                    if (nbb_cells[i].input_prompt_number == nbb_cell_id) {\n",
       "                        if (nbb_cells[i].get_text() == nbb_unformatted_code) {\n",
       "                             nbb_cells[i].set_text(nbb_formatted_code);\n",
       "                        }\n",
       "                        break;\n",
       "                    }\n",
       "                }\n",
       "            }, 500);\n",
       "            "
      ],
      "text/plain": [
       "<IPython.core.display.Javascript object>"
      ]
     },
     "metadata": {},
     "output_type": "display_data"
    }
   ],
   "source": [
    "# Load the Dataset\n",
    "df = pd.read_csv(\"bank.csv\")"
   ]
  },
  {
   "cell_type": "markdown",
   "metadata": {},
   "source": [
    "### View sample of the Dataset"
   ]
  },
  {
   "cell_type": "code",
   "execution_count": 3,
   "metadata": {},
   "outputs": [
    {
     "data": {
      "text/html": [
       "<div>\n",
       "<style scoped>\n",
       "    .dataframe tbody tr th:only-of-type {\n",
       "        vertical-align: middle;\n",
       "    }\n",
       "\n",
       "    .dataframe tbody tr th {\n",
       "        vertical-align: top;\n",
       "    }\n",
       "\n",
       "    .dataframe thead th {\n",
       "        text-align: right;\n",
       "    }\n",
       "</style>\n",
       "<table border=\"1\" class=\"dataframe\">\n",
       "  <thead>\n",
       "    <tr style=\"text-align: right;\">\n",
       "      <th></th>\n",
       "      <th>RowNumber</th>\n",
       "      <th>CustomerId</th>\n",
       "      <th>Surname</th>\n",
       "      <th>CreditScore</th>\n",
       "      <th>Geography</th>\n",
       "      <th>Gender</th>\n",
       "      <th>Age</th>\n",
       "      <th>Tenure</th>\n",
       "      <th>Balance</th>\n",
       "      <th>NumOfProducts</th>\n",
       "      <th>HasCrCard</th>\n",
       "      <th>IsActiveMember</th>\n",
       "      <th>EstimatedSalary</th>\n",
       "      <th>Exited</th>\n",
       "    </tr>\n",
       "  </thead>\n",
       "  <tbody>\n",
       "    <tr>\n",
       "      <th>7878</th>\n",
       "      <td>7879</td>\n",
       "      <td>15760456</td>\n",
       "      <td>Eberechukwu</td>\n",
       "      <td>731</td>\n",
       "      <td>France</td>\n",
       "      <td>Female</td>\n",
       "      <td>38</td>\n",
       "      <td>10</td>\n",
       "      <td>123711.73</td>\n",
       "      <td>2</td>\n",
       "      <td>1</td>\n",
       "      <td>0</td>\n",
       "      <td>171340.68</td>\n",
       "      <td>1</td>\n",
       "    </tr>\n",
       "    <tr>\n",
       "      <th>3224</th>\n",
       "      <td>3225</td>\n",
       "      <td>15713463</td>\n",
       "      <td>Tate</td>\n",
       "      <td>645</td>\n",
       "      <td>Germany</td>\n",
       "      <td>Female</td>\n",
       "      <td>41</td>\n",
       "      <td>2</td>\n",
       "      <td>138881.04</td>\n",
       "      <td>1</td>\n",
       "      <td>1</td>\n",
       "      <td>0</td>\n",
       "      <td>129936.53</td>\n",
       "      <td>1</td>\n",
       "    </tr>\n",
       "    <tr>\n",
       "      <th>1919</th>\n",
       "      <td>1920</td>\n",
       "      <td>15739858</td>\n",
       "      <td>Otitodilichukwu</td>\n",
       "      <td>618</td>\n",
       "      <td>France</td>\n",
       "      <td>Male</td>\n",
       "      <td>56</td>\n",
       "      <td>7</td>\n",
       "      <td>0.00</td>\n",
       "      <td>1</td>\n",
       "      <td>1</td>\n",
       "      <td>1</td>\n",
       "      <td>142400.27</td>\n",
       "      <td>1</td>\n",
       "    </tr>\n",
       "    <tr>\n",
       "      <th>4432</th>\n",
       "      <td>4433</td>\n",
       "      <td>15751193</td>\n",
       "      <td>Nnaemeka</td>\n",
       "      <td>621</td>\n",
       "      <td>Spain</td>\n",
       "      <td>Male</td>\n",
       "      <td>33</td>\n",
       "      <td>4</td>\n",
       "      <td>0.00</td>\n",
       "      <td>2</td>\n",
       "      <td>1</td>\n",
       "      <td>1</td>\n",
       "      <td>40299.23</td>\n",
       "      <td>0</td>\n",
       "    </tr>\n",
       "    <tr>\n",
       "      <th>4835</th>\n",
       "      <td>4836</td>\n",
       "      <td>15590623</td>\n",
       "      <td>Kovalyov</td>\n",
       "      <td>561</td>\n",
       "      <td>Spain</td>\n",
       "      <td>Male</td>\n",
       "      <td>34</td>\n",
       "      <td>4</td>\n",
       "      <td>85141.79</td>\n",
       "      <td>2</td>\n",
       "      <td>1</td>\n",
       "      <td>1</td>\n",
       "      <td>29217.37</td>\n",
       "      <td>0</td>\n",
       "    </tr>\n",
       "    <tr>\n",
       "      <th>4895</th>\n",
       "      <td>4896</td>\n",
       "      <td>15589435</td>\n",
       "      <td>Davide</td>\n",
       "      <td>784</td>\n",
       "      <td>France</td>\n",
       "      <td>Male</td>\n",
       "      <td>31</td>\n",
       "      <td>7</td>\n",
       "      <td>0.00</td>\n",
       "      <td>2</td>\n",
       "      <td>1</td>\n",
       "      <td>1</td>\n",
       "      <td>143204.41</td>\n",
       "      <td>0</td>\n",
       "    </tr>\n",
       "    <tr>\n",
       "      <th>7269</th>\n",
       "      <td>7270</td>\n",
       "      <td>15675926</td>\n",
       "      <td>Ardis</td>\n",
       "      <td>655</td>\n",
       "      <td>Germany</td>\n",
       "      <td>Male</td>\n",
       "      <td>34</td>\n",
       "      <td>7</td>\n",
       "      <td>118028.35</td>\n",
       "      <td>1</td>\n",
       "      <td>1</td>\n",
       "      <td>0</td>\n",
       "      <td>51226.32</td>\n",
       "      <td>1</td>\n",
       "    </tr>\n",
       "    <tr>\n",
       "      <th>1451</th>\n",
       "      <td>1452</td>\n",
       "      <td>15684198</td>\n",
       "      <td>McDonald</td>\n",
       "      <td>551</td>\n",
       "      <td>France</td>\n",
       "      <td>Female</td>\n",
       "      <td>38</td>\n",
       "      <td>10</td>\n",
       "      <td>0.00</td>\n",
       "      <td>2</td>\n",
       "      <td>1</td>\n",
       "      <td>1</td>\n",
       "      <td>216.27</td>\n",
       "      <td>0</td>\n",
       "    </tr>\n",
       "    <tr>\n",
       "      <th>1742</th>\n",
       "      <td>1743</td>\n",
       "      <td>15578603</td>\n",
       "      <td>Alexeieva</td>\n",
       "      <td>584</td>\n",
       "      <td>Germany</td>\n",
       "      <td>Female</td>\n",
       "      <td>54</td>\n",
       "      <td>1</td>\n",
       "      <td>77354.37</td>\n",
       "      <td>1</td>\n",
       "      <td>0</td>\n",
       "      <td>0</td>\n",
       "      <td>138192.98</td>\n",
       "      <td>1</td>\n",
       "    </tr>\n",
       "    <tr>\n",
       "      <th>4628</th>\n",
       "      <td>4629</td>\n",
       "      <td>15788151</td>\n",
       "      <td>Moore</td>\n",
       "      <td>650</td>\n",
       "      <td>Spain</td>\n",
       "      <td>Male</td>\n",
       "      <td>32</td>\n",
       "      <td>1</td>\n",
       "      <td>132187.73</td>\n",
       "      <td>2</td>\n",
       "      <td>1</td>\n",
       "      <td>1</td>\n",
       "      <td>178331.36</td>\n",
       "      <td>0</td>\n",
       "    </tr>\n",
       "  </tbody>\n",
       "</table>\n",
       "</div>"
      ],
      "text/plain": [
       "      RowNumber  CustomerId          Surname  CreditScore Geography  Gender  \\\n",
       "7878       7879    15760456      Eberechukwu          731    France  Female   \n",
       "3224       3225    15713463             Tate          645   Germany  Female   \n",
       "1919       1920    15739858  Otitodilichukwu          618    France    Male   \n",
       "4432       4433    15751193         Nnaemeka          621     Spain    Male   \n",
       "4835       4836    15590623         Kovalyov          561     Spain    Male   \n",
       "4895       4896    15589435           Davide          784    France    Male   \n",
       "7269       7270    15675926            Ardis          655   Germany    Male   \n",
       "1451       1452    15684198         McDonald          551    France  Female   \n",
       "1742       1743    15578603        Alexeieva          584   Germany  Female   \n",
       "4628       4629    15788151            Moore          650     Spain    Male   \n",
       "\n",
       "      Age  Tenure    Balance  NumOfProducts  HasCrCard  IsActiveMember  \\\n",
       "7878   38      10  123711.73              2          1               0   \n",
       "3224   41       2  138881.04              1          1               0   \n",
       "1919   56       7       0.00              1          1               1   \n",
       "4432   33       4       0.00              2          1               1   \n",
       "4835   34       4   85141.79              2          1               1   \n",
       "4895   31       7       0.00              2          1               1   \n",
       "7269   34       7  118028.35              1          1               0   \n",
       "1451   38      10       0.00              2          1               1   \n",
       "1742   54       1   77354.37              1          0               0   \n",
       "4628   32       1  132187.73              2          1               1   \n",
       "\n",
       "      EstimatedSalary  Exited  \n",
       "7878        171340.68       1  \n",
       "3224        129936.53       1  \n",
       "1919        142400.27       1  \n",
       "4432         40299.23       0  \n",
       "4835         29217.37       0  \n",
       "4895        143204.41       0  \n",
       "7269         51226.32       1  \n",
       "1451           216.27       0  \n",
       "1742        138192.98       1  \n",
       "4628        178331.36       0  "
      ]
     },
     "execution_count": 3,
     "metadata": {},
     "output_type": "execute_result"
    },
    {
     "data": {
      "application/javascript": [
       "\n",
       "            setTimeout(function() {\n",
       "                var nbb_cell_id = 3;\n",
       "                var nbb_unformatted_code = \"np.random.seed(2)  # To get the same random results every time\\ndf.sample(10)\";\n",
       "                var nbb_formatted_code = \"np.random.seed(2)  # To get the same random results every time\\ndf.sample(10)\";\n",
       "                var nbb_cells = Jupyter.notebook.get_cells();\n",
       "                for (var i = 0; i < nbb_cells.length; ++i) {\n",
       "                    if (nbb_cells[i].input_prompt_number == nbb_cell_id) {\n",
       "                        if (nbb_cells[i].get_text() == nbb_unformatted_code) {\n",
       "                             nbb_cells[i].set_text(nbb_formatted_code);\n",
       "                        }\n",
       "                        break;\n",
       "                    }\n",
       "                }\n",
       "            }, 500);\n",
       "            "
      ],
      "text/plain": [
       "<IPython.core.display.Javascript object>"
      ]
     },
     "metadata": {},
     "output_type": "display_data"
    }
   ],
   "source": [
    "np.random.seed(2)  # To get the same random results every time\n",
    "df.sample(10)"
   ]
  },
  {
   "cell_type": "markdown",
   "metadata": {},
   "source": [
    "### Explore the Dataset"
   ]
  },
  {
   "cell_type": "code",
   "execution_count": 4,
   "metadata": {},
   "outputs": [
    {
     "name": "stdout",
     "output_type": "stream",
     "text": [
      "There are 10000 rows and 14 columns.\n"
     ]
    },
    {
     "data": {
      "application/javascript": [
       "\n",
       "            setTimeout(function() {\n",
       "                var nbb_cell_id = 4;\n",
       "                var nbb_unformatted_code = \"# checking the shape of the data\\nprint(f\\\"There are {df.shape[0]} rows and {df.shape[1]} columns.\\\")  # f-string\";\n",
       "                var nbb_formatted_code = \"# checking the shape of the data\\nprint(f\\\"There are {df.shape[0]} rows and {df.shape[1]} columns.\\\")  # f-string\";\n",
       "                var nbb_cells = Jupyter.notebook.get_cells();\n",
       "                for (var i = 0; i < nbb_cells.length; ++i) {\n",
       "                    if (nbb_cells[i].input_prompt_number == nbb_cell_id) {\n",
       "                        if (nbb_cells[i].get_text() == nbb_unformatted_code) {\n",
       "                             nbb_cells[i].set_text(nbb_formatted_code);\n",
       "                        }\n",
       "                        break;\n",
       "                    }\n",
       "                }\n",
       "            }, 500);\n",
       "            "
      ],
      "text/plain": [
       "<IPython.core.display.Javascript object>"
      ]
     },
     "metadata": {},
     "output_type": "display_data"
    }
   ],
   "source": [
    "# checking the shape of the data\n",
    "print(f\"There are {df.shape[0]} rows and {df.shape[1]} columns.\")  # f-string"
   ]
  },
  {
   "cell_type": "markdown",
   "metadata": {},
   "source": [
    "- `RowNumber`, `CustomerId`, and `Surname` should be droped."
   ]
  },
  {
   "cell_type": "code",
   "execution_count": 5,
   "metadata": {},
   "outputs": [
    {
     "name": "stdout",
     "output_type": "stream",
     "text": [
      "<class 'pandas.core.frame.DataFrame'>\n",
      "RangeIndex: 10000 entries, 0 to 9999\n",
      "Data columns (total 14 columns):\n",
      " #   Column           Non-Null Count  Dtype  \n",
      "---  ------           --------------  -----  \n",
      " 0   RowNumber        10000 non-null  int64  \n",
      " 1   CustomerId       10000 non-null  int64  \n",
      " 2   Surname          10000 non-null  object \n",
      " 3   CreditScore      10000 non-null  int64  \n",
      " 4   Geography        10000 non-null  object \n",
      " 5   Gender           10000 non-null  object \n",
      " 6   Age              10000 non-null  int64  \n",
      " 7   Tenure           10000 non-null  int64  \n",
      " 8   Balance          10000 non-null  float64\n",
      " 9   NumOfProducts    10000 non-null  int64  \n",
      " 10  HasCrCard        10000 non-null  int64  \n",
      " 11  IsActiveMember   10000 non-null  int64  \n",
      " 12  EstimatedSalary  10000 non-null  float64\n",
      " 13  Exited           10000 non-null  int64  \n",
      "dtypes: float64(2), int64(9), object(3)\n",
      "memory usage: 1.1+ MB\n"
     ]
    },
    {
     "data": {
      "application/javascript": [
       "\n",
       "            setTimeout(function() {\n",
       "                var nbb_cell_id = 5;\n",
       "                var nbb_unformatted_code = \"# checking column datatypes and number of non-null values\\ndf.info()\";\n",
       "                var nbb_formatted_code = \"# checking column datatypes and number of non-null values\\ndf.info()\";\n",
       "                var nbb_cells = Jupyter.notebook.get_cells();\n",
       "                for (var i = 0; i < nbb_cells.length; ++i) {\n",
       "                    if (nbb_cells[i].input_prompt_number == nbb_cell_id) {\n",
       "                        if (nbb_cells[i].get_text() == nbb_unformatted_code) {\n",
       "                             nbb_cells[i].set_text(nbb_formatted_code);\n",
       "                        }\n",
       "                        break;\n",
       "                    }\n",
       "                }\n",
       "            }, 500);\n",
       "            "
      ],
      "text/plain": [
       "<IPython.core.display.Javascript object>"
      ]
     },
     "metadata": {},
     "output_type": "display_data"
    }
   ],
   "source": [
    "# checking column datatypes and number of non-null values\n",
    "df.info()"
   ]
  },
  {
   "cell_type": "markdown",
   "metadata": {},
   "source": [
    "- All variables are Numeric except for the `Surname`, `Geography`, and `Gender`. \n",
    "- `Balance` and `EstimatedSalary` are Float variables and the rest of the variables are Integers.\n",
    "- `HasCrCard`, `IsActiveMember`, and `Exited` are boolean Variables with values 0 or 1.\n",
    "- No missing values are found."
   ]
  },
  {
   "cell_type": "code",
   "execution_count": 6,
   "metadata": {},
   "outputs": [
    {
     "data": {
      "text/plain": [
       "0"
      ]
     },
     "execution_count": 6,
     "metadata": {},
     "output_type": "execute_result"
    },
    {
     "data": {
      "application/javascript": [
       "\n",
       "            setTimeout(function() {\n",
       "                var nbb_cell_id = 6;\n",
       "                var nbb_unformatted_code = \"# check for duplicate values\\ndf.duplicated().sum()\";\n",
       "                var nbb_formatted_code = \"# check for duplicate values\\ndf.duplicated().sum()\";\n",
       "                var nbb_cells = Jupyter.notebook.get_cells();\n",
       "                for (var i = 0; i < nbb_cells.length; ++i) {\n",
       "                    if (nbb_cells[i].input_prompt_number == nbb_cell_id) {\n",
       "                        if (nbb_cells[i].get_text() == nbb_unformatted_code) {\n",
       "                             nbb_cells[i].set_text(nbb_formatted_code);\n",
       "                        }\n",
       "                        break;\n",
       "                    }\n",
       "                }\n",
       "            }, 500);\n",
       "            "
      ],
      "text/plain": [
       "<IPython.core.display.Javascript object>"
      ]
     },
     "metadata": {},
     "output_type": "display_data"
    }
   ],
   "source": [
    "# check for duplicate values\n",
    "df.duplicated().sum()"
   ]
  },
  {
   "cell_type": "markdown",
   "metadata": {},
   "source": [
    "### dropping unwanted attributes\n",
    "- Variables which don't add value.\n",
    "- we don't need to compare them with something so they are not needed in this analysis."
   ]
  },
  {
   "cell_type": "code",
   "execution_count": 7,
   "metadata": {},
   "outputs": [
    {
     "name": "stdout",
     "output_type": "stream",
     "text": [
      "There are 10000 rows and 11 columns.\n"
     ]
    },
    {
     "data": {
      "application/javascript": [
       "\n",
       "            setTimeout(function() {\n",
       "                var nbb_cell_id = 7;\n",
       "                var nbb_unformatted_code = \"# dropping `RowNumber`, `CustomerId`, and `Surname`\\ndf.drop([\\\"RowNumber\\\", \\\"CustomerId\\\", \\\"Surname\\\"], axis=1, inplace=True)\\n\\n# checking the shape of the data\\nprint(f\\\"There are {df.shape[0]} rows and {df.shape[1]} columns.\\\")  # f-string\";\n",
       "                var nbb_formatted_code = \"# dropping `RowNumber`, `CustomerId`, and `Surname`\\ndf.drop([\\\"RowNumber\\\", \\\"CustomerId\\\", \\\"Surname\\\"], axis=1, inplace=True)\\n\\n# checking the shape of the data\\nprint(f\\\"There are {df.shape[0]} rows and {df.shape[1]} columns.\\\")  # f-string\";\n",
       "                var nbb_cells = Jupyter.notebook.get_cells();\n",
       "                for (var i = 0; i < nbb_cells.length; ++i) {\n",
       "                    if (nbb_cells[i].input_prompt_number == nbb_cell_id) {\n",
       "                        if (nbb_cells[i].get_text() == nbb_unformatted_code) {\n",
       "                             nbb_cells[i].set_text(nbb_formatted_code);\n",
       "                        }\n",
       "                        break;\n",
       "                    }\n",
       "                }\n",
       "            }, 500);\n",
       "            "
      ],
      "text/plain": [
       "<IPython.core.display.Javascript object>"
      ]
     },
     "metadata": {},
     "output_type": "display_data"
    }
   ],
   "source": [
    "# dropping `RowNumber`, `CustomerId`, and `Surname`\n",
    "df.drop([\"RowNumber\", \"CustomerId\", \"Surname\"], axis=1, inplace=True)\n",
    "\n",
    "# checking the shape of the data\n",
    "print(f\"There are {df.shape[0]} rows and {df.shape[1]} columns.\")  # f-string"
   ]
  },
  {
   "cell_type": "markdown",
   "metadata": {},
   "source": [
    "### Summary of the Dataset"
   ]
  },
  {
   "cell_type": "code",
   "execution_count": 8,
   "metadata": {},
   "outputs": [
    {
     "data": {
      "text/html": [
       "<div>\n",
       "<style scoped>\n",
       "    .dataframe tbody tr th:only-of-type {\n",
       "        vertical-align: middle;\n",
       "    }\n",
       "\n",
       "    .dataframe tbody tr th {\n",
       "        vertical-align: top;\n",
       "    }\n",
       "\n",
       "    .dataframe thead th {\n",
       "        text-align: right;\n",
       "    }\n",
       "</style>\n",
       "<table border=\"1\" class=\"dataframe\">\n",
       "  <thead>\n",
       "    <tr style=\"text-align: right;\">\n",
       "      <th></th>\n",
       "      <th>count</th>\n",
       "      <th>unique</th>\n",
       "      <th>top</th>\n",
       "      <th>freq</th>\n",
       "      <th>mean</th>\n",
       "      <th>std</th>\n",
       "      <th>min</th>\n",
       "      <th>25%</th>\n",
       "      <th>50%</th>\n",
       "      <th>75%</th>\n",
       "      <th>max</th>\n",
       "    </tr>\n",
       "  </thead>\n",
       "  <tbody>\n",
       "    <tr>\n",
       "      <th>CreditScore</th>\n",
       "      <td>10000</td>\n",
       "      <td>NaN</td>\n",
       "      <td>NaN</td>\n",
       "      <td>NaN</td>\n",
       "      <td>650.529</td>\n",
       "      <td>96.6533</td>\n",
       "      <td>350</td>\n",
       "      <td>584</td>\n",
       "      <td>652</td>\n",
       "      <td>718</td>\n",
       "      <td>850</td>\n",
       "    </tr>\n",
       "    <tr>\n",
       "      <th>Geography</th>\n",
       "      <td>10000</td>\n",
       "      <td>3</td>\n",
       "      <td>France</td>\n",
       "      <td>5014</td>\n",
       "      <td>NaN</td>\n",
       "      <td>NaN</td>\n",
       "      <td>NaN</td>\n",
       "      <td>NaN</td>\n",
       "      <td>NaN</td>\n",
       "      <td>NaN</td>\n",
       "      <td>NaN</td>\n",
       "    </tr>\n",
       "    <tr>\n",
       "      <th>Gender</th>\n",
       "      <td>10000</td>\n",
       "      <td>2</td>\n",
       "      <td>Male</td>\n",
       "      <td>5457</td>\n",
       "      <td>NaN</td>\n",
       "      <td>NaN</td>\n",
       "      <td>NaN</td>\n",
       "      <td>NaN</td>\n",
       "      <td>NaN</td>\n",
       "      <td>NaN</td>\n",
       "      <td>NaN</td>\n",
       "    </tr>\n",
       "    <tr>\n",
       "      <th>Age</th>\n",
       "      <td>10000</td>\n",
       "      <td>NaN</td>\n",
       "      <td>NaN</td>\n",
       "      <td>NaN</td>\n",
       "      <td>38.9218</td>\n",
       "      <td>10.4878</td>\n",
       "      <td>18</td>\n",
       "      <td>32</td>\n",
       "      <td>37</td>\n",
       "      <td>44</td>\n",
       "      <td>92</td>\n",
       "    </tr>\n",
       "    <tr>\n",
       "      <th>Tenure</th>\n",
       "      <td>10000</td>\n",
       "      <td>NaN</td>\n",
       "      <td>NaN</td>\n",
       "      <td>NaN</td>\n",
       "      <td>5.0128</td>\n",
       "      <td>2.89217</td>\n",
       "      <td>0</td>\n",
       "      <td>3</td>\n",
       "      <td>5</td>\n",
       "      <td>7</td>\n",
       "      <td>10</td>\n",
       "    </tr>\n",
       "    <tr>\n",
       "      <th>Balance</th>\n",
       "      <td>10000</td>\n",
       "      <td>NaN</td>\n",
       "      <td>NaN</td>\n",
       "      <td>NaN</td>\n",
       "      <td>76485.9</td>\n",
       "      <td>62397.4</td>\n",
       "      <td>0</td>\n",
       "      <td>0</td>\n",
       "      <td>97198.5</td>\n",
       "      <td>127644</td>\n",
       "      <td>250898</td>\n",
       "    </tr>\n",
       "    <tr>\n",
       "      <th>NumOfProducts</th>\n",
       "      <td>10000</td>\n",
       "      <td>NaN</td>\n",
       "      <td>NaN</td>\n",
       "      <td>NaN</td>\n",
       "      <td>1.5302</td>\n",
       "      <td>0.581654</td>\n",
       "      <td>1</td>\n",
       "      <td>1</td>\n",
       "      <td>1</td>\n",
       "      <td>2</td>\n",
       "      <td>4</td>\n",
       "    </tr>\n",
       "    <tr>\n",
       "      <th>HasCrCard</th>\n",
       "      <td>10000</td>\n",
       "      <td>NaN</td>\n",
       "      <td>NaN</td>\n",
       "      <td>NaN</td>\n",
       "      <td>0.7055</td>\n",
       "      <td>0.45584</td>\n",
       "      <td>0</td>\n",
       "      <td>0</td>\n",
       "      <td>1</td>\n",
       "      <td>1</td>\n",
       "      <td>1</td>\n",
       "    </tr>\n",
       "    <tr>\n",
       "      <th>IsActiveMember</th>\n",
       "      <td>10000</td>\n",
       "      <td>NaN</td>\n",
       "      <td>NaN</td>\n",
       "      <td>NaN</td>\n",
       "      <td>0.5151</td>\n",
       "      <td>0.499797</td>\n",
       "      <td>0</td>\n",
       "      <td>0</td>\n",
       "      <td>1</td>\n",
       "      <td>1</td>\n",
       "      <td>1</td>\n",
       "    </tr>\n",
       "    <tr>\n",
       "      <th>EstimatedSalary</th>\n",
       "      <td>10000</td>\n",
       "      <td>NaN</td>\n",
       "      <td>NaN</td>\n",
       "      <td>NaN</td>\n",
       "      <td>100090</td>\n",
       "      <td>57510.5</td>\n",
       "      <td>11.58</td>\n",
       "      <td>51002.1</td>\n",
       "      <td>100194</td>\n",
       "      <td>149388</td>\n",
       "      <td>199992</td>\n",
       "    </tr>\n",
       "    <tr>\n",
       "      <th>Exited</th>\n",
       "      <td>10000</td>\n",
       "      <td>NaN</td>\n",
       "      <td>NaN</td>\n",
       "      <td>NaN</td>\n",
       "      <td>0.2037</td>\n",
       "      <td>0.402769</td>\n",
       "      <td>0</td>\n",
       "      <td>0</td>\n",
       "      <td>0</td>\n",
       "      <td>0</td>\n",
       "      <td>1</td>\n",
       "    </tr>\n",
       "  </tbody>\n",
       "</table>\n",
       "</div>"
      ],
      "text/plain": [
       "                 count unique     top  freq     mean       std    min  \\\n",
       "CreditScore      10000    NaN     NaN   NaN  650.529   96.6533    350   \n",
       "Geography        10000      3  France  5014      NaN       NaN    NaN   \n",
       "Gender           10000      2    Male  5457      NaN       NaN    NaN   \n",
       "Age              10000    NaN     NaN   NaN  38.9218   10.4878     18   \n",
       "Tenure           10000    NaN     NaN   NaN   5.0128   2.89217      0   \n",
       "Balance          10000    NaN     NaN   NaN  76485.9   62397.4      0   \n",
       "NumOfProducts    10000    NaN     NaN   NaN   1.5302  0.581654      1   \n",
       "HasCrCard        10000    NaN     NaN   NaN   0.7055   0.45584      0   \n",
       "IsActiveMember   10000    NaN     NaN   NaN   0.5151  0.499797      0   \n",
       "EstimatedSalary  10000    NaN     NaN   NaN   100090   57510.5  11.58   \n",
       "Exited           10000    NaN     NaN   NaN   0.2037  0.402769      0   \n",
       "\n",
       "                     25%      50%     75%     max  \n",
       "CreditScore          584      652     718     850  \n",
       "Geography            NaN      NaN     NaN     NaN  \n",
       "Gender               NaN      NaN     NaN     NaN  \n",
       "Age                   32       37      44      92  \n",
       "Tenure                 3        5       7      10  \n",
       "Balance                0  97198.5  127644  250898  \n",
       "NumOfProducts          1        1       2       4  \n",
       "HasCrCard              0        1       1       1  \n",
       "IsActiveMember         0        1       1       1  \n",
       "EstimatedSalary  51002.1   100194  149388  199992  \n",
       "Exited                 0        0       0       1  "
      ]
     },
     "execution_count": 8,
     "metadata": {},
     "output_type": "execute_result"
    },
    {
     "data": {
      "application/javascript": [
       "\n",
       "            setTimeout(function() {\n",
       "                var nbb_cell_id = 8;\n",
       "                var nbb_unformatted_code = \"# view the statistical summary of all the columns in the data\\ndf.describe(include=\\\"all\\\").T\";\n",
       "                var nbb_formatted_code = \"# view the statistical summary of all the columns in the data\\ndf.describe(include=\\\"all\\\").T\";\n",
       "                var nbb_cells = Jupyter.notebook.get_cells();\n",
       "                for (var i = 0; i < nbb_cells.length; ++i) {\n",
       "                    if (nbb_cells[i].input_prompt_number == nbb_cell_id) {\n",
       "                        if (nbb_cells[i].get_text() == nbb_unformatted_code) {\n",
       "                             nbb_cells[i].set_text(nbb_formatted_code);\n",
       "                        }\n",
       "                        break;\n",
       "                    }\n",
       "                }\n",
       "            }, 500);\n",
       "            "
      ],
      "text/plain": [
       "<IPython.core.display.Javascript object>"
      ]
     },
     "metadata": {},
     "output_type": "display_data"
    }
   ],
   "source": [
    "# view the statistical summary of all the columns in the data\n",
    "df.describe(include=\"all\").T"
   ]
  },
  {
   "cell_type": "markdown",
   "metadata": {},
   "source": [
    "#### Observations:\n",
    "- France is the Top value from the 3 Unique values of `Geography`.\n",
    "- Males are more than the females in the Dataset, with frequency 5457. \n",
    "- `CreditScore` and `Tenure`, and `EstimatedSalary` have approximately same mean and median.\n",
    "- Mean are greater than the median for `Age`, `NumOfProducts` and the 3 boolean variables, which suggests that those variables are right skewed.\n",
    "- `Age` ranges from 18 up to 92. \n",
    "- 50% of the customers' age are less than or equal to 37.\n",
    "- Number of years for which the customer has been with the bank `Tenure` have minimum value 0 and maximum 10 years.\n",
    "- `NumOfProducts` are from 1 up to 4, that variable could be converted into category type."
   ]
  },
  {
   "cell_type": "markdown",
   "metadata": {},
   "source": [
    "## Perform an Exploratory Data Analysis on the data\n",
    "- Checked whether the dataset is balanced or not - Bivariate analysis - Use appropriate visualizations to identify the patterns and insights - Any other exploratory deep dive"
   ]
  },
  {
   "cell_type": "code",
   "execution_count": 9,
   "metadata": {},
   "outputs": [
    {
     "data": {
      "application/javascript": [
       "\n",
       "            setTimeout(function() {\n",
       "                var nbb_cell_id = 9;\n",
       "                var nbb_unformatted_code = \"num_col = [\\\"CreditScore\\\", \\\"Age\\\", \\\"Balance\\\", \\\"EstimatedSalary\\\"]\";\n",
       "                var nbb_formatted_code = \"num_col = [\\\"CreditScore\\\", \\\"Age\\\", \\\"Balance\\\", \\\"EstimatedSalary\\\"]\";\n",
       "                var nbb_cells = Jupyter.notebook.get_cells();\n",
       "                for (var i = 0; i < nbb_cells.length; ++i) {\n",
       "                    if (nbb_cells[i].input_prompt_number == nbb_cell_id) {\n",
       "                        if (nbb_cells[i].get_text() == nbb_unformatted_code) {\n",
       "                             nbb_cells[i].set_text(nbb_formatted_code);\n",
       "                        }\n",
       "                        break;\n",
       "                    }\n",
       "                }\n",
       "            }, 500);\n",
       "            "
      ],
      "text/plain": [
       "<IPython.core.display.Javascript object>"
      ]
     },
     "metadata": {},
     "output_type": "display_data"
    }
   ],
   "source": [
    "num_col = [\"CreditScore\", \"Age\", \"Balance\", \"EstimatedSalary\"]"
   ]
  },
  {
   "cell_type": "code",
   "execution_count": 10,
   "metadata": {},
   "outputs": [
    {
     "name": "stdout",
     "output_type": "stream",
     "text": [
      "France     5014\n",
      "Germany    2509\n",
      "Spain      2477\n",
      "Name: Geography, dtype: int64\n",
      "**************************************************\n",
      "Male      5457\n",
      "Female    4543\n",
      "Name: Gender, dtype: int64\n",
      "**************************************************\n",
      "2     1048\n",
      "1     1035\n",
      "7     1028\n",
      "8     1025\n",
      "5     1012\n",
      "3     1009\n",
      "4      989\n",
      "9      984\n",
      "6      967\n",
      "10     490\n",
      "0      413\n",
      "Name: Tenure, dtype: int64\n",
      "**************************************************\n",
      "1    5084\n",
      "2    4590\n",
      "3     266\n",
      "4      60\n",
      "Name: NumOfProducts, dtype: int64\n",
      "**************************************************\n",
      "1    7055\n",
      "0    2945\n",
      "Name: HasCrCard, dtype: int64\n",
      "**************************************************\n",
      "1    5151\n",
      "0    4849\n",
      "Name: IsActiveMember, dtype: int64\n",
      "**************************************************\n",
      "0    7963\n",
      "1    2037\n",
      "Name: Exited, dtype: int64\n",
      "**************************************************\n"
     ]
    },
    {
     "data": {
      "application/javascript": [
       "\n",
       "            setTimeout(function() {\n",
       "                var nbb_cell_id = 10;\n",
       "                var nbb_unformatted_code = \"cat_col = [\\n    \\\"Geography\\\",\\n    \\\"Gender\\\",\\n    \\\"Tenure\\\",\\n    \\\"NumOfProducts\\\",\\n    \\\"HasCrCard\\\",\\n    \\\"IsActiveMember\\\",\\n    \\\"Exited\\\",\\n]\\nfor i in cat_col:\\n    print(df[i].value_counts())\\n    print(\\\"*\\\" * 50)\";\n",
       "                var nbb_formatted_code = \"cat_col = [\\n    \\\"Geography\\\",\\n    \\\"Gender\\\",\\n    \\\"Tenure\\\",\\n    \\\"NumOfProducts\\\",\\n    \\\"HasCrCard\\\",\\n    \\\"IsActiveMember\\\",\\n    \\\"Exited\\\",\\n]\\nfor i in cat_col:\\n    print(df[i].value_counts())\\n    print(\\\"*\\\" * 50)\";\n",
       "                var nbb_cells = Jupyter.notebook.get_cells();\n",
       "                for (var i = 0; i < nbb_cells.length; ++i) {\n",
       "                    if (nbb_cells[i].input_prompt_number == nbb_cell_id) {\n",
       "                        if (nbb_cells[i].get_text() == nbb_unformatted_code) {\n",
       "                             nbb_cells[i].set_text(nbb_formatted_code);\n",
       "                        }\n",
       "                        break;\n",
       "                    }\n",
       "                }\n",
       "            }, 500);\n",
       "            "
      ],
      "text/plain": [
       "<IPython.core.display.Javascript object>"
      ]
     },
     "metadata": {},
     "output_type": "display_data"
    }
   ],
   "source": [
    "cat_col = [\n",
    "    \"Geography\",\n",
    "    \"Gender\",\n",
    "    \"Tenure\",\n",
    "    \"NumOfProducts\",\n",
    "    \"HasCrCard\",\n",
    "    \"IsActiveMember\",\n",
    "    \"Exited\",\n",
    "]\n",
    "for i in cat_col:\n",
    "    print(df[i].value_counts())\n",
    "    print(\"*\" * 50)"
   ]
  },
  {
   "cell_type": "markdown",
   "metadata": {},
   "source": [
    "### Univariate Analysis"
   ]
  },
  {
   "cell_type": "code",
   "execution_count": 11,
   "metadata": {},
   "outputs": [
    {
     "data": {
      "application/javascript": [
       "\n",
       "            setTimeout(function() {\n",
       "                var nbb_cell_id = 11;\n",
       "                var nbb_unformatted_code = \"# creating a function to plot a histogram and boxplot for the univariate analysis of the numerical variables.\\n# This function takes the numerical column as the input and returns the boxplots and histograms for the variable.\\n\\n\\ndef histogram_boxplot(data, feature, figsize=(15, 10), kde=False, bins=None):\\n    \\\"\\\"\\\"\\n    Boxplot and histogram combined\\n\\n    data: dataframe\\n    feature: dataframe column\\n    figsize: size of figure (default (15,10))\\n    kde: whether to show the density curve (default False)\\n    bins: number of bins for histogram (default None)\\n    \\\"\\\"\\\"\\n    f2, (ax_box2, ax_hist2) = plt.subplots(\\n        nrows=2,  # Number of rows of the subplot grid= 2\\n        sharex=True,  # x-axis will be shared among all subplots\\n        gridspec_kw={\\\"height_ratios\\\": (0.25, 0.75)},\\n        figsize=figsize,\\n    )  # creating the 2 subplots\\n    sns.boxplot(\\n        data=data, x=feature, ax=ax_box2, showmeans=True, color=\\\"violet\\\"\\n    )  # boxplot will be created and a star will indicate the mean value of the column\\n    sns.histplot(\\n        data=data, x=feature, kde=kde, ax=ax_hist2, bins=bins, palette=\\\"winter\\\"\\n    ) if bins else sns.histplot(\\n        data=data, x=feature, kde=kde, ax=ax_hist2\\n    )  # For histogram\\n    ax_hist2.axvline(\\n        data[feature].mean(), color=\\\"green\\\", linestyle=\\\"--\\\"\\n    )  # Add mean to the histogram\\n    ax_hist2.axvline(\\n        data[feature].median(), color=\\\"black\\\", linestyle=\\\"-\\\"\\n    )  # Add median to the histogram\";\n",
       "                var nbb_formatted_code = \"# creating a function to plot a histogram and boxplot for the univariate analysis of the numerical variables.\\n# This function takes the numerical column as the input and returns the boxplots and histograms for the variable.\\n\\n\\ndef histogram_boxplot(data, feature, figsize=(15, 10), kde=False, bins=None):\\n    \\\"\\\"\\\"\\n    Boxplot and histogram combined\\n\\n    data: dataframe\\n    feature: dataframe column\\n    figsize: size of figure (default (15,10))\\n    kde: whether to show the density curve (default False)\\n    bins: number of bins for histogram (default None)\\n    \\\"\\\"\\\"\\n    f2, (ax_box2, ax_hist2) = plt.subplots(\\n        nrows=2,  # Number of rows of the subplot grid= 2\\n        sharex=True,  # x-axis will be shared among all subplots\\n        gridspec_kw={\\\"height_ratios\\\": (0.25, 0.75)},\\n        figsize=figsize,\\n    )  # creating the 2 subplots\\n    sns.boxplot(\\n        data=data, x=feature, ax=ax_box2, showmeans=True, color=\\\"violet\\\"\\n    )  # boxplot will be created and a star will indicate the mean value of the column\\n    sns.histplot(\\n        data=data, x=feature, kde=kde, ax=ax_hist2, bins=bins, palette=\\\"winter\\\"\\n    ) if bins else sns.histplot(\\n        data=data, x=feature, kde=kde, ax=ax_hist2\\n    )  # For histogram\\n    ax_hist2.axvline(\\n        data[feature].mean(), color=\\\"green\\\", linestyle=\\\"--\\\"\\n    )  # Add mean to the histogram\\n    ax_hist2.axvline(\\n        data[feature].median(), color=\\\"black\\\", linestyle=\\\"-\\\"\\n    )  # Add median to the histogram\";\n",
       "                var nbb_cells = Jupyter.notebook.get_cells();\n",
       "                for (var i = 0; i < nbb_cells.length; ++i) {\n",
       "                    if (nbb_cells[i].input_prompt_number == nbb_cell_id) {\n",
       "                        if (nbb_cells[i].get_text() == nbb_unformatted_code) {\n",
       "                             nbb_cells[i].set_text(nbb_formatted_code);\n",
       "                        }\n",
       "                        break;\n",
       "                    }\n",
       "                }\n",
       "            }, 500);\n",
       "            "
      ],
      "text/plain": [
       "<IPython.core.display.Javascript object>"
      ]
     },
     "metadata": {},
     "output_type": "display_data"
    }
   ],
   "source": [
    "# creating a function to plot a histogram and boxplot for the univariate analysis of the numerical variables.\n",
    "# This function takes the numerical column as the input and returns the boxplots and histograms for the variable.\n",
    "\n",
    "\n",
    "def histogram_boxplot(data, feature, figsize=(15, 10), kde=False, bins=None):\n",
    "    \"\"\"\n",
    "    Boxplot and histogram combined\n",
    "\n",
    "    data: dataframe\n",
    "    feature: dataframe column\n",
    "    figsize: size of figure (default (15,10))\n",
    "    kde: whether to show the density curve (default False)\n",
    "    bins: number of bins for histogram (default None)\n",
    "    \"\"\"\n",
    "    f2, (ax_box2, ax_hist2) = plt.subplots(\n",
    "        nrows=2,  # Number of rows of the subplot grid= 2\n",
    "        sharex=True,  # x-axis will be shared among all subplots\n",
    "        gridspec_kw={\"height_ratios\": (0.25, 0.75)},\n",
    "        figsize=figsize,\n",
    "    )  # creating the 2 subplots\n",
    "    sns.boxplot(\n",
    "        data=data, x=feature, ax=ax_box2, showmeans=True, color=\"violet\"\n",
    "    )  # boxplot will be created and a star will indicate the mean value of the column\n",
    "    sns.histplot(\n",
    "        data=data, x=feature, kde=kde, ax=ax_hist2, bins=bins, palette=\"winter\"\n",
    "    ) if bins else sns.histplot(\n",
    "        data=data, x=feature, kde=kde, ax=ax_hist2\n",
    "    )  # For histogram\n",
    "    ax_hist2.axvline(\n",
    "        data[feature].mean(), color=\"green\", linestyle=\"--\"\n",
    "    )  # Add mean to the histogram\n",
    "    ax_hist2.axvline(\n",
    "        data[feature].median(), color=\"black\", linestyle=\"-\"\n",
    "    )  # Add median to the histogram"
   ]
  },
  {
   "cell_type": "code",
   "execution_count": 12,
   "metadata": {},
   "outputs": [
    {
     "data": {
      "image/png": "[encoded data removed]",
      "text/plain": [
       "<Figure size 576x288 with 2 Axes>"
      ]
     },
     "metadata": {},
     "output_type": "display_data"
    },
    {
     "data": {
      "image/png": "[encoded data removed]",
      "text/plain": [
       "<Figure size 576x288 with 2 Axes>"
      ]
     },
     "metadata": {},
     "output_type": "display_data"
    },
    {
     "data": {
      "image/png": "[encoded data removed]",
      "text/plain": [
       "<Figure size 576x288 with 2 Axes>"
      ]
     },
     "metadata": {},
     "output_type": "display_data"
    },
    {
     "data": {
      "image/png": "[encoded data removed]",
      "text/plain": [
       "<Figure size 576x288 with 2 Axes>"
      ]
     },
     "metadata": {},
     "output_type": "display_data"
    },
    {
     "data": {
      "application/javascript": [
       "\n",
       "            setTimeout(function() {\n",
       "                var nbb_cell_id = 12;\n",
       "                var nbb_unformatted_code = \"for item in num_col:\\n    histogram_boxplot(df, item, kde=True, figsize=(8, 4))\";\n",
       "                var nbb_formatted_code = \"for item in num_col:\\n    histogram_boxplot(df, item, kde=True, figsize=(8, 4))\";\n",
       "                var nbb_cells = Jupyter.notebook.get_cells();\n",
       "                for (var i = 0; i < nbb_cells.length; ++i) {\n",
       "                    if (nbb_cells[i].input_prompt_number == nbb_cell_id) {\n",
       "                        if (nbb_cells[i].get_text() == nbb_unformatted_code) {\n",
       "                             nbb_cells[i].set_text(nbb_formatted_code);\n",
       "                        }\n",
       "                        break;\n",
       "                    }\n",
       "                }\n",
       "            }, 500);\n",
       "            "
      ],
      "text/plain": [
       "<IPython.core.display.Javascript object>"
      ]
     },
     "metadata": {},
     "output_type": "display_data"
    }
   ],
   "source": [
    "for item in num_col:\n",
    "    histogram_boxplot(df, item, kde=True, figsize=(8, 4))"
   ]
  },
  {
   "cell_type": "markdown",
   "metadata": {},
   "source": [
    "#### Observations:\n",
    "- `CreditScore` and `EstimatedSalary` are normally distributed with approximately equal mean and median.\n",
    "- The distribution of `Age` is slightly right-skewed with mean greater than median.\n",
    "- From the boxplot for `Balance`, we can see that the third quartile(Q3) is equal to 128000 which means 75% of the customers' balance are less than 128 thousand.\n",
    "- There are outliers in `Age` and `CreditScore`, but those outliers are valuable and the variation (in both Age & Score) is always expected in real-world scenarios."
   ]
  },
  {
   "cell_type": "code",
   "execution_count": 13,
   "metadata": {},
   "outputs": [
    {
     "data": {
      "application/javascript": [
       "\n",
       "            setTimeout(function() {\n",
       "                var nbb_cell_id = 13;\n",
       "                var nbb_unformatted_code = \"# function to create labeled barplots\\n\\n\\ndef labeled_barplot(data, feature, perc=False, n=None):\\n    \\\"\\\"\\\"\\n    Barplot with percentage at the top\\n\\n    data: dataframe\\n    feature: dataframe column\\n    perc: whether to display percentages instead of count (default is False)\\n    n: displays the top n category levels (default is None, i.e., display all levels)\\n    \\\"\\\"\\\"\\n\\n    total = len(data[feature])  # length of the column\\n    count = data[feature].nunique()\\n    if n is None:\\n        plt.figure(figsize=(count + 1, 5))\\n    else:\\n        plt.figure(figsize=(n + 1, 5))\\n\\n    plt.xticks(rotation=90, fontsize=15)\\n    ax = sns.countplot(\\n        data=data,\\n        x=feature,\\n        palette=\\\"Paired\\\",\\n        order=data[feature].value_counts().index[:n].sort_values(),\\n    )\\n\\n    for p in ax.patches:\\n        if perc == True:\\n            label = \\\"{:.1f}%\\\".format(\\n                100 * p.get_height() / total\\n            )  # percentage of each class of the category\\n        else:\\n            label = p.get_height()  # count of each level of the category\\n\\n        x = p.get_x() + p.get_width() / 2  # width of the plot\\n        y = p.get_height()  # height of the plot\\n\\n        ax.annotate(\\n            label,\\n            (x, y),\\n            ha=\\\"center\\\",\\n            va=\\\"center\\\",\\n            size=12,\\n            xytext=(0, 5),\\n            textcoords=\\\"offset points\\\",\\n        )  # annotate the percentage\\n\\n    plt.show()  # show the plot\";\n",
       "                var nbb_formatted_code = \"# function to create labeled barplots\\n\\n\\ndef labeled_barplot(data, feature, perc=False, n=None):\\n    \\\"\\\"\\\"\\n    Barplot with percentage at the top\\n\\n    data: dataframe\\n    feature: dataframe column\\n    perc: whether to display percentages instead of count (default is False)\\n    n: displays the top n category levels (default is None, i.e., display all levels)\\n    \\\"\\\"\\\"\\n\\n    total = len(data[feature])  # length of the column\\n    count = data[feature].nunique()\\n    if n is None:\\n        plt.figure(figsize=(count + 1, 5))\\n    else:\\n        plt.figure(figsize=(n + 1, 5))\\n\\n    plt.xticks(rotation=90, fontsize=15)\\n    ax = sns.countplot(\\n        data=data,\\n        x=feature,\\n        palette=\\\"Paired\\\",\\n        order=data[feature].value_counts().index[:n].sort_values(),\\n    )\\n\\n    for p in ax.patches:\\n        if perc == True:\\n            label = \\\"{:.1f}%\\\".format(\\n                100 * p.get_height() / total\\n            )  # percentage of each class of the category\\n        else:\\n            label = p.get_height()  # count of each level of the category\\n\\n        x = p.get_x() + p.get_width() / 2  # width of the plot\\n        y = p.get_height()  # height of the plot\\n\\n        ax.annotate(\\n            label,\\n            (x, y),\\n            ha=\\\"center\\\",\\n            va=\\\"center\\\",\\n            size=12,\\n            xytext=(0, 5),\\n            textcoords=\\\"offset points\\\",\\n        )  # annotate the percentage\\n\\n    plt.show()  # show the plot\";\n",
       "                var nbb_cells = Jupyter.notebook.get_cells();\n",
       "                for (var i = 0; i < nbb_cells.length; ++i) {\n",
       "                    if (nbb_cells[i].input_prompt_number == nbb_cell_id) {\n",
       "                        if (nbb_cells[i].get_text() == nbb_unformatted_code) {\n",
       "                             nbb_cells[i].set_text(nbb_formatted_code);\n",
       "                        }\n",
       "                        break;\n",
       "                    }\n",
       "                }\n",
       "            }, 500);\n",
       "            "
      ],
      "text/plain": [
       "<IPython.core.display.Javascript object>"
      ]
     },
     "metadata": {},
     "output_type": "display_data"
    }
   ],
   "source": [
    "# function to create labeled barplots\n",
    "\n",
    "\n",
    "def labeled_barplot(data, feature, perc=False, n=None):\n",
    "    \"\"\"\n",
    "    Barplot with percentage at the top\n",
    "\n",
    "    data: dataframe\n",
    "    feature: dataframe column\n",
    "    perc: whether to display percentages instead of count (default is False)\n",
    "    n: displays the top n category levels (default is None, i.e., display all levels)\n",
    "    \"\"\"\n",
    "\n",
    "    total = len(data[feature])  # length of the column\n",
    "    count = data[feature].nunique()\n",
    "    if n is None:\n",
    "        plt.figure(figsize=(count + 1, 5))\n",
    "    else:\n",
    "        plt.figure(figsize=(n + 1, 5))\n",
    "\n",
    "    plt.xticks(rotation=90, fontsize=15)\n",
    "    ax = sns.countplot(\n",
    "        data=data,\n",
    "        x=feature,\n",
    "        palette=\"Paired\",\n",
    "        order=data[feature].value_counts().index[:n].sort_values(),\n",
    "    )\n",
    "\n",
    "    for p in ax.patches:\n",
    "        if perc == True:\n",
    "            label = \"{:.1f}%\".format(\n",
    "                100 * p.get_height() / total\n",
    "            )  # percentage of each class of the category\n",
    "        else:\n",
    "            label = p.get_height()  # count of each level of the category\n",
    "\n",
    "        x = p.get_x() + p.get_width() / 2  # width of the plot\n",
    "        y = p.get_height()  # height of the plot\n",
    "\n",
    "        ax.annotate(\n",
    "            label,\n",
    "            (x, y),\n",
    "            ha=\"center\",\n",
    "            va=\"center\",\n",
    "            size=12,\n",
    "            xytext=(0, 5),\n",
    "            textcoords=\"offset points\",\n",
    "        )  # annotate the percentage\n",
    "\n",
    "    plt.show()  # show the plot"
   ]
  },
  {
   "cell_type": "code",
   "execution_count": 14,
   "metadata": {},
   "outputs": [
    {
     "data": {
      "image/png": "[encoded data removed]",
      "text/plain": [
       "<Figure size 288x360 with 1 Axes>"
      ]
     },
     "metadata": {},
     "output_type": "display_data"
    },
    {
     "data": {
      "image/png": "[encoded data removed]",
      "text/plain": [
       "<Figure size 216x360 with 1 Axes>"
      ]
     },
     "metadata": {},
     "output_type": "display_data"
    },
    {
     "data": {
      "image/png": "[encoded data removed]",
      "text/plain": [
       "<Figure size 864x360 with 1 Axes>"
      ]
     },
     "metadata": {},
     "output_type": "display_data"
    },
    {
     "data": {
      "image/png": "[encoded data removed]",
      "text/plain": [
       "<Figure size 360x360 with 1 Axes>"
      ]
     },
     "metadata": {},
     "output_type": "display_data"
    },
    {
     "data": {
      "image/png": "[encoded data removed]",
      "text/plain": [
       "<Figure size 216x360 with 1 Axes>"
      ]
     },
     "metadata": {},
     "output_type": "display_data"
    },
    {
     "data": {
      "image/png": "[encoded data removed]",
      "text/plain": [
       "<Figure size 216x360 with 1 Axes>"
      ]
     },
     "metadata": {},
     "output_type": "display_data"
    },
    {
     "data": {
      "image/png": "[encoded data removed]",
      "text/plain": [
       "<Figure size 216x360 with 1 Axes>"
      ]
     },
     "metadata": {},
     "output_type": "display_data"
    },
    {
     "data": {
      "application/javascript": [
       "\n",
       "            setTimeout(function() {\n",
       "                var nbb_cell_id = 14;\n",
       "                var nbb_unformatted_code = \"for item in cat_col:\\n    labeled_barplot(df, item, perc=True)\";\n",
       "                var nbb_formatted_code = \"for item in cat_col:\\n    labeled_barplot(df, item, perc=True)\";\n",
       "                var nbb_cells = Jupyter.notebook.get_cells();\n",
       "                for (var i = 0; i < nbb_cells.length; ++i) {\n",
       "                    if (nbb_cells[i].input_prompt_number == nbb_cell_id) {\n",
       "                        if (nbb_cells[i].get_text() == nbb_unformatted_code) {\n",
       "                             nbb_cells[i].set_text(nbb_formatted_code);\n",
       "                        }\n",
       "                        break;\n",
       "                    }\n",
       "                }\n",
       "            }, 500);\n",
       "            "
      ],
      "text/plain": [
       "<IPython.core.display.Javascript object>"
      ]
     },
     "metadata": {},
     "output_type": "display_data"
    }
   ],
   "source": [
    "for item in cat_col:\n",
    "    labeled_barplot(df, item, perc=True)"
   ]
  },
  {
   "cell_type": "markdown",
   "metadata": {},
   "source": [
    "#### Observations:\n",
    "- 50% of the Customers in the dataset are from France.\n",
    "- 54.6% of the customers are Males.\n",
    "- only 4% of the custumers have 0 Tenure and 6% have 10, while 10% for each of the values from 1 up to 9.\n",
    "- 50.8% of the customers have purchased only one product, while 45.9% have purchased 2 products.\n",
    "- 70.5% of the customers have creditCard\n",
    "- 51.5% of the customers are active members.\n",
    "- 20.4% of the customers exited the bank and that is the target variable."
   ]
  },
  {
   "cell_type": "markdown",
   "metadata": {},
   "source": [
    "### Bivariate Analysis"
   ]
  },
  {
   "cell_type": "code",
   "execution_count": 15,
   "metadata": {},
   "outputs": [
    {
     "data": {
      "image/png": "[encoded data removed]",
      "text/plain": [
       "<Figure size 1080x504 with 2 Axes>"
      ]
     },
     "metadata": {},
     "output_type": "display_data"
    },
    {
     "data": {
      "application/javascript": [
       "\n",
       "            setTimeout(function() {\n",
       "                var nbb_cell_id = 15;\n",
       "                var nbb_unformatted_code = \"# checking for correlations\\nplt.figure(figsize=(15, 7))\\nsns.heatmap(df.corr(), annot=True, vmin=-1, vmax=1, fmt=\\\".2f\\\", cmap=\\\"Spectral\\\")\\nplt.show()\";\n",
       "                var nbb_formatted_code = \"# checking for correlations\\nplt.figure(figsize=(15, 7))\\nsns.heatmap(df.corr(), annot=True, vmin=-1, vmax=1, fmt=\\\".2f\\\", cmap=\\\"Spectral\\\")\\nplt.show()\";\n",
       "                var nbb_cells = Jupyter.notebook.get_cells();\n",
       "                for (var i = 0; i < nbb_cells.length; ++i) {\n",
       "                    if (nbb_cells[i].input_prompt_number == nbb_cell_id) {\n",
       "                        if (nbb_cells[i].get_text() == nbb_unformatted_code) {\n",
       "                             nbb_cells[i].set_text(nbb_formatted_code);\n",
       "                        }\n",
       "                        break;\n",
       "                    }\n",
       "                }\n",
       "            }, 500);\n",
       "            "
      ],
      "text/plain": [
       "<IPython.core.display.Javascript object>"
      ]
     },
     "metadata": {},
     "output_type": "display_data"
    }
   ],
   "source": [
    "# checking for correlations\n",
    "plt.figure(figsize=(15, 7))\n",
    "sns.heatmap(df.corr(), annot=True, vmin=-1, vmax=1, fmt=\".2f\", cmap=\"Spectral\")\n",
    "plt.show()"
   ]
  },
  {
   "cell_type": "markdown",
   "metadata": {},
   "source": [
    "- There are a positive correlation between the Age and leaving the Bank = 0.29\n",
    "- Exited has 0.12 correlation with Balance and 0.01 with EstimatedSalary.\n",
    "- The rest of the variables have negative zero correlation with Exited.\n",
    "- There is a negative correlation between Balance and the Number of products which the customer has purchased through the bank."
   ]
  },
  {
   "cell_type": "code",
   "execution_count": 16,
   "metadata": {},
   "outputs": [
    {
     "data": {
      "image/png": "[encoded data removed]",
      "text/plain": [
       "<Figure size 864x504 with 4 Axes>"
      ]
     },
     "metadata": {},
     "output_type": "display_data"
    },
    {
     "data": {
      "application/javascript": [
       "\n",
       "            setTimeout(function() {\n",
       "                var nbb_cell_id = 16;\n",
       "                var nbb_unformatted_code = \"plt.figure(figsize=(12, 7))\\n\\nfor i, variable in enumerate(num_col):\\n    plt.subplot(3, 2, i + 1)\\n    sns.boxplot(df[\\\"Exited\\\"], df[variable], palette=\\\"PuBu\\\", showfliers=False)\\n    plt.tight_layout()\\n    plt.title(variable)\\nplt.show()\";\n",
       "                var nbb_formatted_code = \"plt.figure(figsize=(12, 7))\\n\\nfor i, variable in enumerate(num_col):\\n    plt.subplot(3, 2, i + 1)\\n    sns.boxplot(df[\\\"Exited\\\"], df[variable], palette=\\\"PuBu\\\", showfliers=False)\\n    plt.tight_layout()\\n    plt.title(variable)\\nplt.show()\";\n",
       "                var nbb_cells = Jupyter.notebook.get_cells();\n",
       "                for (var i = 0; i < nbb_cells.length; ++i) {\n",
       "                    if (nbb_cells[i].input_prompt_number == nbb_cell_id) {\n",
       "                        if (nbb_cells[i].get_text() == nbb_unformatted_code) {\n",
       "                             nbb_cells[i].set_text(nbb_formatted_code);\n",
       "                        }\n",
       "                        break;\n",
       "                    }\n",
       "                }\n",
       "            }, 500);\n",
       "            "
      ],
      "text/plain": [
       "<IPython.core.display.Javascript object>"
      ]
     },
     "metadata": {},
     "output_type": "display_data"
    }
   ],
   "source": [
    "plt.figure(figsize=(12, 7))\n",
    "\n",
    "for i, variable in enumerate(num_col):\n",
    "    plt.subplot(3, 2, i + 1)\n",
    "    sns.boxplot(df[\"Exited\"], df[variable], palette=\"PuBu\", showfliers=False)\n",
    "    plt.tight_layout()\n",
    "    plt.title(variable)\n",
    "plt.show()"
   ]
  },
  {
   "cell_type": "markdown",
   "metadata": {},
   "source": [
    "- There are no much difference for the CreditScore and the EstimatedSalary with the possibility of Customer leaving the bank.\n",
    "- customers who left the bank could have higher Age and Balance."
   ]
  },
  {
   "cell_type": "code",
   "execution_count": 17,
   "metadata": {},
   "outputs": [
    {
     "data": {
      "application/javascript": [
       "\n",
       "            setTimeout(function() {\n",
       "                var nbb_cell_id = 17;\n",
       "                var nbb_unformatted_code = \"# function to plot stacked bar chart\\n\\n\\ndef stacked_barplot(data, predictor, target):\\n    \\\"\\\"\\\"\\n    Print the category counts and plot a stacked bar chart\\n\\n    data: dataframe\\n    predictor: independent variable\\n    target: target variable\\n    \\\"\\\"\\\"\\n    count = data[predictor].nunique()\\n    sorter = data[target].value_counts().index[-1]\\n    tab1 = pd.crosstab(data[predictor], data[target], margins=True).sort_values(\\n        by=sorter, ascending=False\\n    )\\n    print(tab1)\\n    print(\\\"-\\\" * 120)\\n    tab = pd.crosstab(data[predictor], data[target], normalize=\\\"index\\\").sort_values(\\n        by=sorter, ascending=False\\n    )\\n    tab.plot(kind=\\\"bar\\\", stacked=True, figsize=(count + 5, 6))\\n    plt.legend(\\n        loc=\\\"lower left\\\",\\n        frameon=False,\\n    )\\n    plt.legend(loc=\\\"upper left\\\", bbox_to_anchor=(1, 1))\\n    plt.title(\\\"Relation between \\\" + predictor + \\\" vs. \\\" + target)\\n    plt.show()\";\n",
       "                var nbb_formatted_code = \"# function to plot stacked bar chart\\n\\n\\ndef stacked_barplot(data, predictor, target):\\n    \\\"\\\"\\\"\\n    Print the category counts and plot a stacked bar chart\\n\\n    data: dataframe\\n    predictor: independent variable\\n    target: target variable\\n    \\\"\\\"\\\"\\n    count = data[predictor].nunique()\\n    sorter = data[target].value_counts().index[-1]\\n    tab1 = pd.crosstab(data[predictor], data[target], margins=True).sort_values(\\n        by=sorter, ascending=False\\n    )\\n    print(tab1)\\n    print(\\\"-\\\" * 120)\\n    tab = pd.crosstab(data[predictor], data[target], normalize=\\\"index\\\").sort_values(\\n        by=sorter, ascending=False\\n    )\\n    tab.plot(kind=\\\"bar\\\", stacked=True, figsize=(count + 5, 6))\\n    plt.legend(\\n        loc=\\\"lower left\\\",\\n        frameon=False,\\n    )\\n    plt.legend(loc=\\\"upper left\\\", bbox_to_anchor=(1, 1))\\n    plt.title(\\\"Relation between \\\" + predictor + \\\" vs. \\\" + target)\\n    plt.show()\";\n",
       "                var nbb_cells = Jupyter.notebook.get_cells();\n",
       "                for (var i = 0; i < nbb_cells.length; ++i) {\n",
       "                    if (nbb_cells[i].input_prompt_number == nbb_cell_id) {\n",
       "                        if (nbb_cells[i].get_text() == nbb_unformatted_code) {\n",
       "                             nbb_cells[i].set_text(nbb_formatted_code);\n",
       "                        }\n",
       "                        break;\n",
       "                    }\n",
       "                }\n",
       "            }, 500);\n",
       "            "
      ],
      "text/plain": [
       "<IPython.core.display.Javascript object>"
      ]
     },
     "metadata": {},
     "output_type": "display_data"
    }
   ],
   "source": [
    "# function to plot stacked bar chart\n",
    "\n",
    "\n",
    "def stacked_barplot(data, predictor, target):\n",
    "    \"\"\"\n",
    "    Print the category counts and plot a stacked bar chart\n",
    "\n",
    "    data: dataframe\n",
    "    predictor: independent variable\n",
    "    target: target variable\n",
    "    \"\"\"\n",
    "    count = data[predictor].nunique()\n",
    "    sorter = data[target].value_counts().index[-1]\n",
    "    tab1 = pd.crosstab(data[predictor], data[target], margins=True).sort_values(\n",
    "        by=sorter, ascending=False\n",
    "    )\n",
    "    print(tab1)\n",
    "    print(\"-\" * 120)\n",
    "    tab = pd.crosstab(data[predictor], data[target], normalize=\"index\").sort_values(\n",
    "        by=sorter, ascending=False\n",
    "    )\n",
    "    tab.plot(kind=\"bar\", stacked=True, figsize=(count + 5, 6))\n",
    "    plt.legend(\n",
    "        loc=\"lower left\",\n",
    "        frameon=False,\n",
    "    )\n",
    "    plt.legend(loc=\"upper left\", bbox_to_anchor=(1, 1))\n",
    "    plt.title(\"Relation between \" + predictor + \" vs. \" + target)\n",
    "    plt.show()"
   ]
  },
  {
   "cell_type": "code",
   "execution_count": 18,
   "metadata": {},
   "outputs": [
    {
     "name": "stdout",
     "output_type": "stream",
     "text": [
      "Exited        0     1    All\n",
      "Geography                   \n",
      "All        7963  2037  10000\n",
      "Germany    1695   814   2509\n",
      "France     4204   810   5014\n",
      "Spain      2064   413   2477\n",
      "------------------------------------------------------------------------------------------------------------------------\n"
     ]
    },
    {
     "data": {
      "image/png": "[encoded data removed]",
      "text/plain": [
       "<Figure size 576x432 with 1 Axes>"
      ]
     },
     "metadata": {},
     "output_type": "display_data"
    },
    {
     "data": {
      "application/javascript": [
       "\n",
       "            setTimeout(function() {\n",
       "                var nbb_cell_id = 18;\n",
       "                var nbb_unformatted_code = \"stacked_barplot(df, \\\"Geography\\\", \\\"Exited\\\")\";\n",
       "                var nbb_formatted_code = \"stacked_barplot(df, \\\"Geography\\\", \\\"Exited\\\")\";\n",
       "                var nbb_cells = Jupyter.notebook.get_cells();\n",
       "                for (var i = 0; i < nbb_cells.length; ++i) {\n",
       "                    if (nbb_cells[i].input_prompt_number == nbb_cell_id) {\n",
       "                        if (nbb_cells[i].get_text() == nbb_unformatted_code) {\n",
       "                             nbb_cells[i].set_text(nbb_formatted_code);\n",
       "                        }\n",
       "                        break;\n",
       "                    }\n",
       "                }\n",
       "            }, 500);\n",
       "            "
      ],
      "text/plain": [
       "<IPython.core.display.Javascript object>"
      ]
     },
     "metadata": {},
     "output_type": "display_data"
    }
   ],
   "source": [
    "stacked_barplot(df, \"Geography\", \"Exited\")"
   ]
  },
  {
   "cell_type": "markdown",
   "metadata": {},
   "source": [
    "- 35% of the customers from Germany left the bank and that is the highest percentage per the Geography.\n",
    "- less than 20% of the customers from Spain and France left the bank."
   ]
  },
  {
   "cell_type": "code",
   "execution_count": 19,
   "metadata": {},
   "outputs": [
    {
     "name": "stdout",
     "output_type": "stream",
     "text": [
      "Exited     0     1    All\n",
      "Gender                   \n",
      "All     7963  2037  10000\n",
      "Female  3404  1139   4543\n",
      "Male    4559   898   5457\n",
      "------------------------------------------------------------------------------------------------------------------------\n"
     ]
    },
    {
     "data": {
      "image/png": "[encoded data removed]",
      "text/plain": [
       "<Figure size 504x432 with 1 Axes>"
      ]
     },
     "metadata": {},
     "output_type": "display_data"
    },
    {
     "data": {
      "application/javascript": [
       "\n",
       "            setTimeout(function() {\n",
       "                var nbb_cell_id = 19;\n",
       "                var nbb_unformatted_code = \"stacked_barplot(df, \\\"Gender\\\", \\\"Exited\\\")\";\n",
       "                var nbb_formatted_code = \"stacked_barplot(df, \\\"Gender\\\", \\\"Exited\\\")\";\n",
       "                var nbb_cells = Jupyter.notebook.get_cells();\n",
       "                for (var i = 0; i < nbb_cells.length; ++i) {\n",
       "                    if (nbb_cells[i].input_prompt_number == nbb_cell_id) {\n",
       "                        if (nbb_cells[i].get_text() == nbb_unformatted_code) {\n",
       "                             nbb_cells[i].set_text(nbb_formatted_code);\n",
       "                        }\n",
       "                        break;\n",
       "                    }\n",
       "                }\n",
       "            }, 500);\n",
       "            "
      ],
      "text/plain": [
       "<IPython.core.display.Javascript object>"
      ]
     },
     "metadata": {},
     "output_type": "display_data"
    }
   ],
   "source": [
    "stacked_barplot(df, \"Gender\", \"Exited\")"
   ]
  },
  {
   "cell_type": "markdown",
   "metadata": {},
   "source": [
    "- Females are higher to leave the bank than Males."
   ]
  },
  {
   "cell_type": "code",
   "execution_count": 20,
   "metadata": {},
   "outputs": [
    {
     "name": "stdout",
     "output_type": "stream",
     "text": [
      "Exited     0     1    All\n",
      "Tenure                   \n",
      "All     7963  2037  10000\n",
      "1        803   232   1035\n",
      "3        796   213   1009\n",
      "9        771   213    984\n",
      "5        803   209   1012\n",
      "4        786   203    989\n",
      "2        847   201   1048\n",
      "8        828   197   1025\n",
      "6        771   196    967\n",
      "7        851   177   1028\n",
      "10       389   101    490\n",
      "0        318    95    413\n",
      "------------------------------------------------------------------------------------------------------------------------\n"
     ]
    },
    {
     "data": {
      "image/png": "[encoded data removed]",
      "text/plain": [
       "<Figure size 1152x432 with 1 Axes>"
      ]
     },
     "metadata": {},
     "output_type": "display_data"
    },
    {
     "data": {
      "application/javascript": [
       "\n",
       "            setTimeout(function() {\n",
       "                var nbb_cell_id = 20;\n",
       "                var nbb_unformatted_code = \"stacked_barplot(df, \\\"Tenure\\\", \\\"Exited\\\")\";\n",
       "                var nbb_formatted_code = \"stacked_barplot(df, \\\"Tenure\\\", \\\"Exited\\\")\";\n",
       "                var nbb_cells = Jupyter.notebook.get_cells();\n",
       "                for (var i = 0; i < nbb_cells.length; ++i) {\n",
       "                    if (nbb_cells[i].input_prompt_number == nbb_cell_id) {\n",
       "                        if (nbb_cells[i].get_text() == nbb_unformatted_code) {\n",
       "                             nbb_cells[i].set_text(nbb_formatted_code);\n",
       "                        }\n",
       "                        break;\n",
       "                    }\n",
       "                }\n",
       "            }, 500);\n",
       "            "
      ],
      "text/plain": [
       "<IPython.core.display.Javascript object>"
      ]
     },
     "metadata": {},
     "output_type": "display_data"
    }
   ],
   "source": [
    "stacked_barplot(df, \"Tenure\", \"Exited\")"
   ]
  },
  {
   "cell_type": "markdown",
   "metadata": {},
   "source": [
    "- Customers with 0 or 1 `Tenure` (number of years for which they have been with the bank) are the higher to leave the bank.\n",
    "- 20% of the customers with 10 `Tenure` could leave the bank."
   ]
  },
  {
   "cell_type": "code",
   "execution_count": 21,
   "metadata": {},
   "outputs": [
    {
     "name": "stdout",
     "output_type": "stream",
     "text": [
      "Exited            0     1    All\n",
      "NumOfProducts                   \n",
      "All            7963  2037  10000\n",
      "1              3675  1409   5084\n",
      "2              4242   348   4590\n",
      "3                46   220    266\n",
      "4                 0    60     60\n",
      "------------------------------------------------------------------------------------------------------------------------\n"
     ]
    },
    {
     "data": {
      "image/png": "[encoded data removed]",
      "text/plain": [
       "<Figure size 648x432 with 1 Axes>"
      ]
     },
     "metadata": {},
     "output_type": "display_data"
    },
    {
     "data": {
      "application/javascript": [
       "\n",
       "            setTimeout(function() {\n",
       "                var nbb_cell_id = 21;\n",
       "                var nbb_unformatted_code = \"stacked_barplot(df, \\\"NumOfProducts\\\", \\\"Exited\\\")\";\n",
       "                var nbb_formatted_code = \"stacked_barplot(df, \\\"NumOfProducts\\\", \\\"Exited\\\")\";\n",
       "                var nbb_cells = Jupyter.notebook.get_cells();\n",
       "                for (var i = 0; i < nbb_cells.length; ++i) {\n",
       "                    if (nbb_cells[i].input_prompt_number == nbb_cell_id) {\n",
       "                        if (nbb_cells[i].get_text() == nbb_unformatted_code) {\n",
       "                             nbb_cells[i].set_text(nbb_formatted_code);\n",
       "                        }\n",
       "                        break;\n",
       "                    }\n",
       "                }\n",
       "            }, 500);\n",
       "            "
      ],
      "text/plain": [
       "<IPython.core.display.Javascript object>"
      ]
     },
     "metadata": {},
     "output_type": "display_data"
    }
   ],
   "source": [
    "stacked_barplot(df, \"NumOfProducts\", \"Exited\")"
   ]
  },
  {
   "cell_type": "markdown",
   "metadata": {},
   "source": [
    "- 100% of the customers who purchased 4 products through the bank, left the bank.\n",
    "- Customers who purchased only two 2 products have the lowest percentage of leaving the bank.\n",
    "- There are a strong relation between the numbers of the Products and the number of customers who could leave the bank."
   ]
  },
  {
   "cell_type": "code",
   "execution_count": 22,
   "metadata": {},
   "outputs": [
    {
     "name": "stdout",
     "output_type": "stream",
     "text": [
      "Exited        0     1    All\n",
      "HasCrCard                   \n",
      "All        7963  2037  10000\n",
      "1          5631  1424   7055\n",
      "0          2332   613   2945\n",
      "------------------------------------------------------------------------------------------------------------------------\n"
     ]
    },
    {
     "data": {
      "image/png": "[encoded data removed]",
      "text/plain": [
       "<Figure size 504x432 with 1 Axes>"
      ]
     },
     "metadata": {},
     "output_type": "display_data"
    },
    {
     "data": {
      "application/javascript": [
       "\n",
       "            setTimeout(function() {\n",
       "                var nbb_cell_id = 22;\n",
       "                var nbb_unformatted_code = \"stacked_barplot(df, \\\"HasCrCard\\\", \\\"Exited\\\")\";\n",
       "                var nbb_formatted_code = \"stacked_barplot(df, \\\"HasCrCard\\\", \\\"Exited\\\")\";\n",
       "                var nbb_cells = Jupyter.notebook.get_cells();\n",
       "                for (var i = 0; i < nbb_cells.length; ++i) {\n",
       "                    if (nbb_cells[i].input_prompt_number == nbb_cell_id) {\n",
       "                        if (nbb_cells[i].get_text() == nbb_unformatted_code) {\n",
       "                             nbb_cells[i].set_text(nbb_formatted_code);\n",
       "                        }\n",
       "                        break;\n",
       "                    }\n",
       "                }\n",
       "            }, 500);\n",
       "            "
      ],
      "text/plain": [
       "<IPython.core.display.Javascript object>"
      ]
     },
     "metadata": {},
     "output_type": "display_data"
    }
   ],
   "source": [
    "stacked_barplot(df, \"HasCrCard\", \"Exited\")"
   ]
  },
  {
   "cell_type": "markdown",
   "metadata": {},
   "source": [
    "- Customers who have Credit Card are slightly less to leave the Bank."
   ]
  },
  {
   "cell_type": "code",
   "execution_count": 23,
   "metadata": {},
   "outputs": [
    {
     "name": "stdout",
     "output_type": "stream",
     "text": [
      "Exited             0     1    All\n",
      "IsActiveMember                   \n",
      "All             7963  2037  10000\n",
      "0               3547  1302   4849\n",
      "1               4416   735   5151\n",
      "------------------------------------------------------------------------------------------------------------------------\n"
     ]
    },
    {
     "data": {
      "image/png": "[encoded data removed]",
      "text/plain": [
       "<Figure size 504x432 with 1 Axes>"
      ]
     },
     "metadata": {},
     "output_type": "display_data"
    },
    {
     "data": {
      "application/javascript": [
       "\n",
       "            setTimeout(function() {\n",
       "                var nbb_cell_id = 23;\n",
       "                var nbb_unformatted_code = \"stacked_barplot(df, \\\"IsActiveMember\\\", \\\"Exited\\\")\";\n",
       "                var nbb_formatted_code = \"stacked_barplot(df, \\\"IsActiveMember\\\", \\\"Exited\\\")\";\n",
       "                var nbb_cells = Jupyter.notebook.get_cells();\n",
       "                for (var i = 0; i < nbb_cells.length; ++i) {\n",
       "                    if (nbb_cells[i].input_prompt_number == nbb_cell_id) {\n",
       "                        if (nbb_cells[i].get_text() == nbb_unformatted_code) {\n",
       "                             nbb_cells[i].set_text(nbb_formatted_code);\n",
       "                        }\n",
       "                        break;\n",
       "                    }\n",
       "                }\n",
       "            }, 500);\n",
       "            "
      ],
      "text/plain": [
       "<IPython.core.display.Javascript object>"
      ]
     },
     "metadata": {},
     "output_type": "display_data"
    }
   ],
   "source": [
    "stacked_barplot(df, \"IsActiveMember\", \"Exited\")"
   ]
  },
  {
   "cell_type": "markdown",
   "metadata": {},
   "source": [
    "- Almost 30% of the customers who are not an active member, left the Bank.\n",
    "- Customers who are not an active member are more higher to leave the Bank."
   ]
  },
  {
   "cell_type": "markdown",
   "metadata": {},
   "source": [
    "## Illustrate the insights based on EDA\n",
    "- Key meaningful observations"
   ]
  },
  {
   "cell_type": "markdown",
   "metadata": {},
   "source": [
    "##### Univariate Analysis\n",
    "- `CreditScore` are normally distributed with approximately equal mean and median 650. There are Outliers at the left.\n",
    "- `Age` ranges from 18 up to 92 with median at 37. The distribution of `Age` is slightly right-skewed with mean greater than median. There are outliers at the right.\n",
    "- From the boxplot for `Balance`, we can see that the third quartile(Q3) is equal to 128000 which means 75% of the customers' balance are less than 128 thousand.\n",
    "- `EstimatedSalary` are normally distributed with approximately equal mean and median 100,000.\n",
    "- There are outliers in `Age` and `CreditScore`, but those outliers are valuable and the variation (in both Age & Score) is always expected in real-world scenarios.\n",
    "- France is the Top value from the 3 Unique values of `Geography`. 50% of the Customers in the dataset are from France.\n",
    "- 54.6% of the customers are `Males`.\n",
    "- only 4% of the custumers have 0 `Tenure` and 6% have 10, while 10% for each of the values from 1 up to 9.\n",
    "- `NumOfProducts` are from 1 up to 4. 50.8% of the customers have purchased only one `product`, while 45.9% have purchased 2 products.\n",
    "- 70.5% of the customers have `creditCard`.\n",
    "- 51.5% of the customers are `active members`.\n",
    "- 20.4% of the customers `exited` the bank and that is the target variable.\n",
    "\n",
    "##### Bivariate Analysis\n",
    "- There are a positive correlation between the Age and leaving the Bank = 0.29\n",
    "- Exited has 0.12 correlation with Balance and 0.01 with EstimatedSalary.\n",
    "- The rest of the variables have negative zero correlation with Exited.\n",
    "- There is a negative correlation between Balance and the Number of products which the customer has purchased through the bank.\n",
    "- customers with higher Age and Balance are more possible to leave the bank.\n",
    "- 35% of the customers from Germany left the bank and that is the highest percentage per the Geography. less than 20% of the customers from Spain and France left the bank.\n",
    "- Females are higher to leave the bank than Males.\n",
    "- Customers with 0 or 1 Tenure (number of years for which they have been with the bank) are the higher to leave the bank. 20% of the customers with 10 Tenure could leave the bank\n",
    "- There are a strong relation between the numbers of the Products and the number of customers who could leave the bank.. 100% of the customers who purchased 4 products through the bank, left the bank. While Customers who purchased only two 2 products have the lowest percentage of leaving the bank.\n",
    "- Customers who have Credit Card are slightly less to leave the Bank.\n",
    "- Customers who are not an active member are more higher to leave the Bank. Almost 30% of the customers who are not an active member, left the Bank."
   ]
  },
  {
   "cell_type": "markdown",
   "metadata": {},
   "source": [
    "## Data Pre-processing\n",
    "- Split the target variable and predictors - Split the data into train and test - Rescale the data"
   ]
  },
  {
   "cell_type": "code",
   "execution_count": 24,
   "metadata": {},
   "outputs": [
    {
     "data": {
      "application/javascript": [
       "\n",
       "            setTimeout(function() {\n",
       "                var nbb_cell_id = 24;\n",
       "                var nbb_unformatted_code = \"# Split the Data\\nX_data = df.drop([\\\"Exited\\\"], axis=1)\\ny_data = df[\\\"Exited\\\"]  # target variable\";\n",
       "                var nbb_formatted_code = \"# Split the Data\\nX_data = df.drop([\\\"Exited\\\"], axis=1)\\ny_data = df[\\\"Exited\\\"]  # target variable\";\n",
       "                var nbb_cells = Jupyter.notebook.get_cells();\n",
       "                for (var i = 0; i < nbb_cells.length; ++i) {\n",
       "                    if (nbb_cells[i].input_prompt_number == nbb_cell_id) {\n",
       "                        if (nbb_cells[i].get_text() == nbb_unformatted_code) {\n",
       "                             nbb_cells[i].set_text(nbb_formatted_code);\n",
       "                        }\n",
       "                        break;\n",
       "                    }\n",
       "                }\n",
       "            }, 500);\n",
       "            "
      ],
      "text/plain": [
       "<IPython.core.display.Javascript object>"
      ]
     },
     "metadata": {},
     "output_type": "display_data"
    }
   ],
   "source": [
    "# Split the Data\n",
    "X_data = df.drop([\"Exited\"], axis=1)\n",
    "y_data = df[\"Exited\"]  # target variable"
   ]
  },
  {
   "cell_type": "code",
   "execution_count": 25,
   "metadata": {},
   "outputs": [
    {
     "data": {
      "text/html": [
       "<div>\n",
       "<style scoped>\n",
       "    .dataframe tbody tr th:only-of-type {\n",
       "        vertical-align: middle;\n",
       "    }\n",
       "\n",
       "    .dataframe tbody tr th {\n",
       "        vertical-align: top;\n",
       "    }\n",
       "\n",
       "    .dataframe thead th {\n",
       "        text-align: right;\n",
       "    }\n",
       "</style>\n",
       "<table border=\"1\" class=\"dataframe\">\n",
       "  <thead>\n",
       "    <tr style=\"text-align: right;\">\n",
       "      <th></th>\n",
       "      <th>CreditScore</th>\n",
       "      <th>Age</th>\n",
       "      <th>Tenure</th>\n",
       "      <th>Balance</th>\n",
       "      <th>NumOfProducts</th>\n",
       "      <th>HasCrCard</th>\n",
       "      <th>IsActiveMember</th>\n",
       "      <th>EstimatedSalary</th>\n",
       "      <th>Geography_France</th>\n",
       "      <th>Geography_Germany</th>\n",
       "      <th>Geography_Spain</th>\n",
       "      <th>Gender_Female</th>\n",
       "      <th>Gender_Male</th>\n",
       "    </tr>\n",
       "  </thead>\n",
       "  <tbody>\n",
       "    <tr>\n",
       "      <th>856</th>\n",
       "      <td>567</td>\n",
       "      <td>49</td>\n",
       "      <td>5</td>\n",
       "      <td>134956.02</td>\n",
       "      <td>1</td>\n",
       "      <td>1</td>\n",
       "      <td>0</td>\n",
       "      <td>93953.84</td>\n",
       "      <td>0</td>\n",
       "      <td>1</td>\n",
       "      <td>0</td>\n",
       "      <td>1</td>\n",
       "      <td>0</td>\n",
       "    </tr>\n",
       "    <tr>\n",
       "      <th>9050</th>\n",
       "      <td>667</td>\n",
       "      <td>33</td>\n",
       "      <td>9</td>\n",
       "      <td>124573.33</td>\n",
       "      <td>2</td>\n",
       "      <td>0</td>\n",
       "      <td>0</td>\n",
       "      <td>683.37</td>\n",
       "      <td>0</td>\n",
       "      <td>1</td>\n",
       "      <td>0</td>\n",
       "      <td>0</td>\n",
       "      <td>1</td>\n",
       "    </tr>\n",
       "    <tr>\n",
       "      <th>6671</th>\n",
       "      <td>677</td>\n",
       "      <td>49</td>\n",
       "      <td>3</td>\n",
       "      <td>0.00</td>\n",
       "      <td>2</td>\n",
       "      <td>1</td>\n",
       "      <td>1</td>\n",
       "      <td>187811.71</td>\n",
       "      <td>1</td>\n",
       "      <td>0</td>\n",
       "      <td>0</td>\n",
       "      <td>1</td>\n",
       "      <td>0</td>\n",
       "    </tr>\n",
       "    <tr>\n",
       "      <th>7925</th>\n",
       "      <td>586</td>\n",
       "      <td>33</td>\n",
       "      <td>7</td>\n",
       "      <td>0.00</td>\n",
       "      <td>2</td>\n",
       "      <td>1</td>\n",
       "      <td>1</td>\n",
       "      <td>168261.40</td>\n",
       "      <td>0</td>\n",
       "      <td>0</td>\n",
       "      <td>1</td>\n",
       "      <td>1</td>\n",
       "      <td>0</td>\n",
       "    </tr>\n",
       "    <tr>\n",
       "      <th>4741</th>\n",
       "      <td>651</td>\n",
       "      <td>45</td>\n",
       "      <td>2</td>\n",
       "      <td>165901.59</td>\n",
       "      <td>2</td>\n",
       "      <td>1</td>\n",
       "      <td>0</td>\n",
       "      <td>23054.51</td>\n",
       "      <td>1</td>\n",
       "      <td>0</td>\n",
       "      <td>0</td>\n",
       "      <td>0</td>\n",
       "      <td>1</td>\n",
       "    </tr>\n",
       "    <tr>\n",
       "      <th>9208</th>\n",
       "      <td>726</td>\n",
       "      <td>44</td>\n",
       "      <td>2</td>\n",
       "      <td>0.00</td>\n",
       "      <td>2</td>\n",
       "      <td>1</td>\n",
       "      <td>1</td>\n",
       "      <td>26733.86</td>\n",
       "      <td>1</td>\n",
       "      <td>0</td>\n",
       "      <td>0</td>\n",
       "      <td>1</td>\n",
       "      <td>0</td>\n",
       "    </tr>\n",
       "    <tr>\n",
       "      <th>9246</th>\n",
       "      <td>762</td>\n",
       "      <td>20</td>\n",
       "      <td>1</td>\n",
       "      <td>139432.55</td>\n",
       "      <td>1</td>\n",
       "      <td>1</td>\n",
       "      <td>1</td>\n",
       "      <td>85606.83</td>\n",
       "      <td>1</td>\n",
       "      <td>0</td>\n",
       "      <td>0</td>\n",
       "      <td>0</td>\n",
       "      <td>1</td>\n",
       "    </tr>\n",
       "    <tr>\n",
       "      <th>8958</th>\n",
       "      <td>573</td>\n",
       "      <td>52</td>\n",
       "      <td>8</td>\n",
       "      <td>0.00</td>\n",
       "      <td>2</td>\n",
       "      <td>0</td>\n",
       "      <td>1</td>\n",
       "      <td>178229.04</td>\n",
       "      <td>1</td>\n",
       "      <td>0</td>\n",
       "      <td>0</td>\n",
       "      <td>0</td>\n",
       "      <td>1</td>\n",
       "    </tr>\n",
       "    <tr>\n",
       "      <th>8987</th>\n",
       "      <td>766</td>\n",
       "      <td>36</td>\n",
       "      <td>5</td>\n",
       "      <td>78381.13</td>\n",
       "      <td>1</td>\n",
       "      <td>0</td>\n",
       "      <td>1</td>\n",
       "      <td>153831.60</td>\n",
       "      <td>0</td>\n",
       "      <td>0</td>\n",
       "      <td>1</td>\n",
       "      <td>0</td>\n",
       "      <td>1</td>\n",
       "    </tr>\n",
       "    <tr>\n",
       "      <th>5275</th>\n",
       "      <td>683</td>\n",
       "      <td>42</td>\n",
       "      <td>8</td>\n",
       "      <td>0.00</td>\n",
       "      <td>2</td>\n",
       "      <td>0</td>\n",
       "      <td>1</td>\n",
       "      <td>198134.90</td>\n",
       "      <td>1</td>\n",
       "      <td>0</td>\n",
       "      <td>0</td>\n",
       "      <td>1</td>\n",
       "      <td>0</td>\n",
       "    </tr>\n",
       "  </tbody>\n",
       "</table>\n",
       "</div>"
      ],
      "text/plain": [
       "      CreditScore  Age  Tenure    Balance  NumOfProducts  HasCrCard  \\\n",
       "856           567   49       5  134956.02              1          1   \n",
       "9050          667   33       9  124573.33              2          0   \n",
       "6671          677   49       3       0.00              2          1   \n",
       "7925          586   33       7       0.00              2          1   \n",
       "4741          651   45       2  165901.59              2          1   \n",
       "9208          726   44       2       0.00              2          1   \n",
       "9246          762   20       1  139432.55              1          1   \n",
       "8958          573   52       8       0.00              2          0   \n",
       "8987          766   36       5   78381.13              1          0   \n",
       "5275          683   42       8       0.00              2          0   \n",
       "\n",
       "      IsActiveMember  EstimatedSalary  Geography_France  Geography_Germany  \\\n",
       "856                0         93953.84                 0                  1   \n",
       "9050               0           683.37                 0                  1   \n",
       "6671               1        187811.71                 1                  0   \n",
       "7925               1        168261.40                 0                  0   \n",
       "4741               0         23054.51                 1                  0   \n",
       "9208               1         26733.86                 1                  0   \n",
       "9246               1         85606.83                 1                  0   \n",
       "8958               1        178229.04                 1                  0   \n",
       "8987               1        153831.60                 0                  0   \n",
       "5275               1        198134.90                 1                  0   \n",
       "\n",
       "      Geography_Spain  Gender_Female  Gender_Male  \n",
       "856                 0              1            0  \n",
       "9050                0              0            1  \n",
       "6671                0              1            0  \n",
       "7925                1              1            0  \n",
       "4741                0              0            1  \n",
       "9208                0              1            0  \n",
       "9246                0              0            1  \n",
       "8958                0              0            1  \n",
       "8987                1              0            1  \n",
       "5275                0              1            0  "
      ]
     },
     "execution_count": 25,
     "metadata": {},
     "output_type": "execute_result"
    },
    {
     "data": {
      "application/javascript": [
       "\n",
       "            setTimeout(function() {\n",
       "                var nbb_cell_id = 25;\n",
       "                var nbb_unformatted_code = \"# Creating Dummy variables for the 2 object variables\\nX_data = pd.get_dummies(X_data, columns=[\\\"Geography\\\", \\\"Gender\\\"])\\nX_data.sample(10)\";\n",
       "                var nbb_formatted_code = \"# Creating Dummy variables for the 2 object variables\\nX_data = pd.get_dummies(X_data, columns=[\\\"Geography\\\", \\\"Gender\\\"])\\nX_data.sample(10)\";\n",
       "                var nbb_cells = Jupyter.notebook.get_cells();\n",
       "                for (var i = 0; i < nbb_cells.length; ++i) {\n",
       "                    if (nbb_cells[i].input_prompt_number == nbb_cell_id) {\n",
       "                        if (nbb_cells[i].get_text() == nbb_unformatted_code) {\n",
       "                             nbb_cells[i].set_text(nbb_formatted_code);\n",
       "                        }\n",
       "                        break;\n",
       "                    }\n",
       "                }\n",
       "            }, 500);\n",
       "            "
      ],
      "text/plain": [
       "<IPython.core.display.Javascript object>"
      ]
     },
     "metadata": {},
     "output_type": "display_data"
    }
   ],
   "source": [
    "# Creating Dummy variables for the 2 object variables\n",
    "X_data = pd.get_dummies(X_data, columns=[\"Geography\", \"Gender\"])\n",
    "X_data.sample(10)"
   ]
  },
  {
   "cell_type": "code",
   "execution_count": 26,
   "metadata": {},
   "outputs": [
    {
     "data": {
      "text/plain": [
       "(10000, 13)"
      ]
     },
     "execution_count": 26,
     "metadata": {},
     "output_type": "execute_result"
    },
    {
     "data": {
      "application/javascript": [
       "\n",
       "            setTimeout(function() {\n",
       "                var nbb_cell_id = 26;\n",
       "                var nbb_unformatted_code = \"X_data.shape\";\n",
       "                var nbb_formatted_code = \"X_data.shape\";\n",
       "                var nbb_cells = Jupyter.notebook.get_cells();\n",
       "                for (var i = 0; i < nbb_cells.length; ++i) {\n",
       "                    if (nbb_cells[i].input_prompt_number == nbb_cell_id) {\n",
       "                        if (nbb_cells[i].get_text() == nbb_unformatted_code) {\n",
       "                             nbb_cells[i].set_text(nbb_formatted_code);\n",
       "                        }\n",
       "                        break;\n",
       "                    }\n",
       "                }\n",
       "            }, 500);\n",
       "            "
      ],
      "text/plain": [
       "<IPython.core.display.Javascript object>"
      ]
     },
     "metadata": {},
     "output_type": "display_data"
    }
   ],
   "source": [
    "X_data.shape"
   ]
  },
  {
   "cell_type": "code",
   "execution_count": 27,
   "metadata": {},
   "outputs": [
    {
     "data": {
      "application/javascript": [
       "\n",
       "            setTimeout(function() {\n",
       "                var nbb_cell_id = 27;\n",
       "                var nbb_unformatted_code = \"# Split the data up in train and test sets\\nX_train, X_test, y_train, y_test = train_test_split(\\n    X_data, y_data, test_size=0.2, random_state=7\\n)\";\n",
       "                var nbb_formatted_code = \"# Split the data up in train and test sets\\nX_train, X_test, y_train, y_test = train_test_split(\\n    X_data, y_data, test_size=0.2, random_state=7\\n)\";\n",
       "                var nbb_cells = Jupyter.notebook.get_cells();\n",
       "                for (var i = 0; i < nbb_cells.length; ++i) {\n",
       "                    if (nbb_cells[i].input_prompt_number == nbb_cell_id) {\n",
       "                        if (nbb_cells[i].get_text() == nbb_unformatted_code) {\n",
       "                             nbb_cells[i].set_text(nbb_formatted_code);\n",
       "                        }\n",
       "                        break;\n",
       "                    }\n",
       "                }\n",
       "            }, 500);\n",
       "            "
      ],
      "text/plain": [
       "<IPython.core.display.Javascript object>"
      ]
     },
     "metadata": {},
     "output_type": "display_data"
    }
   ],
   "source": [
    "# Split the data up in train and test sets\n",
    "X_train, X_test, y_train, y_test = train_test_split(\n",
    "    X_data, y_data, test_size=0.2, random_state=7\n",
    ")"
   ]
  },
  {
   "cell_type": "code",
   "execution_count": 28,
   "metadata": {},
   "outputs": [
    {
     "data": {
      "application/javascript": [
       "\n",
       "            setTimeout(function() {\n",
       "                var nbb_cell_id = 28;\n",
       "                var nbb_unformatted_code = \"# Define the scaler\\nscaler = StandardScaler().fit(X_train)\\n\\n# Scale the train set\\nX_train = scaler.transform(X_train)\\n\\n# Scale the test set\\nX_test = scaler.transform(X_test)\";\n",
       "                var nbb_formatted_code = \"# Define the scaler\\nscaler = StandardScaler().fit(X_train)\\n\\n# Scale the train set\\nX_train = scaler.transform(X_train)\\n\\n# Scale the test set\\nX_test = scaler.transform(X_test)\";\n",
       "                var nbb_cells = Jupyter.notebook.get_cells();\n",
       "                for (var i = 0; i < nbb_cells.length; ++i) {\n",
       "                    if (nbb_cells[i].input_prompt_number == nbb_cell_id) {\n",
       "                        if (nbb_cells[i].get_text() == nbb_unformatted_code) {\n",
       "                             nbb_cells[i].set_text(nbb_formatted_code);\n",
       "                        }\n",
       "                        break;\n",
       "                    }\n",
       "                }\n",
       "            }, 500);\n",
       "            "
      ],
      "text/plain": [
       "<IPython.core.display.Javascript object>"
      ]
     },
     "metadata": {},
     "output_type": "display_data"
    }
   ],
   "source": [
    "# Define the scaler\n",
    "scaler = StandardScaler().fit(X_train)\n",
    "\n",
    "# Scale the train set\n",
    "X_train = scaler.transform(X_train)\n",
    "\n",
    "# Scale the test set\n",
    "X_test = scaler.transform(X_test)"
   ]
  },
  {
   "cell_type": "markdown",
   "metadata": {},
   "source": [
    "## Deep neural network\n",
    "\n",
    "- The NN takes a vector of length 13 as input. This represents the information related to each customer, ie each line with 13 columns from the dataset. For each customer, the final layer will output a probability distribution (sigmoid activation function) and classify either as not Exited (0) or Exited (1).\n",
    "\n",
    "### Creating the Model"
   ]
  },
  {
   "cell_type": "code",
   "execution_count": 29,
   "metadata": {},
   "outputs": [
    {
     "data": {
      "application/javascript": [
       "\n",
       "            setTimeout(function() {\n",
       "                var nbb_cell_id = 29;\n",
       "                var nbb_unformatted_code = \"# initialize the model\\nmodel = Sequential()\";\n",
       "                var nbb_formatted_code = \"# initialize the model\\nmodel = Sequential()\";\n",
       "                var nbb_cells = Jupyter.notebook.get_cells();\n",
       "                for (var i = 0; i < nbb_cells.length; ++i) {\n",
       "                    if (nbb_cells[i].input_prompt_number == nbb_cell_id) {\n",
       "                        if (nbb_cells[i].get_text() == nbb_unformatted_code) {\n",
       "                             nbb_cells[i].set_text(nbb_formatted_code);\n",
       "                        }\n",
       "                        break;\n",
       "                    }\n",
       "                }\n",
       "            }, 500);\n",
       "            "
      ],
      "text/plain": [
       "<IPython.core.display.Javascript object>"
      ]
     },
     "metadata": {},
     "output_type": "display_data"
    }
   ],
   "source": [
    "# initialize the model\n",
    "model = Sequential()"
   ]
  },
  {
   "cell_type": "markdown",
   "metadata": {},
   "source": [
    "### Adding layers [layers and activations]"
   ]
  },
  {
   "cell_type": "code",
   "execution_count": 30,
   "metadata": {},
   "outputs": [
    {
     "data": {
      "application/javascript": [
       "\n",
       "            setTimeout(function() {\n",
       "                var nbb_cell_id = 30;\n",
       "                var nbb_unformatted_code = \"# This adds the input layer (by specifying input dimension) AND the first hidden layer (units)\\nmodel.add(Dense(units=8, input_dim=13, activation=\\\"relu\\\"))  # input of 13 columns\\n# hidden layer\\nmodel.add(Dense(units=16, activation=\\\"relu\\\"))\\n# Adding the output layer\\n# we have an output of 1 node, which is the the desired dimensions of our output (Exited or not)\\n# We use the sigmoid because we want probability outcomes\\nmodel.add(Dense(1, activation=\\\"sigmoid\\\"))\";\n",
       "                var nbb_formatted_code = \"# This adds the input layer (by specifying input dimension) AND the first hidden layer (units)\\nmodel.add(Dense(units=8, input_dim=13, activation=\\\"relu\\\"))  # input of 13 columns\\n# hidden layer\\nmodel.add(Dense(units=16, activation=\\\"relu\\\"))\\n# Adding the output layer\\n# we have an output of 1 node, which is the the desired dimensions of our output (Exited or not)\\n# We use the sigmoid because we want probability outcomes\\nmodel.add(Dense(1, activation=\\\"sigmoid\\\"))\";\n",
       "                var nbb_cells = Jupyter.notebook.get_cells();\n",
       "                for (var i = 0; i < nbb_cells.length; ++i) {\n",
       "                    if (nbb_cells[i].input_prompt_number == nbb_cell_id) {\n",
       "                        if (nbb_cells[i].get_text() == nbb_unformatted_code) {\n",
       "                             nbb_cells[i].set_text(nbb_formatted_code);\n",
       "                        }\n",
       "                        break;\n",
       "                    }\n",
       "                }\n",
       "            }, 500);\n",
       "            "
      ],
      "text/plain": [
       "<IPython.core.display.Javascript object>"
      ]
     },
     "metadata": {},
     "output_type": "display_data"
    }
   ],
   "source": [
    "# This adds the input layer (by specifying input dimension) AND the first hidden layer (units)\n",
    "model.add(Dense(units=8, input_dim=13, activation=\"relu\"))  # input of 13 columns\n",
    "# hidden layer\n",
    "model.add(Dense(units=16, activation=\"relu\"))\n",
    "# Adding the output layer\n",
    "# we have an output of 1 node, which is the the desired dimensions of our output (Exited or not)\n",
    "# We use the sigmoid because we want probability outcomes\n",
    "model.add(Dense(1, activation=\"sigmoid\"))"
   ]
  },
  {
   "cell_type": "markdown",
   "metadata": {},
   "source": [
    "### Model compile [optimizers and loss functions]"
   ]
  },
  {
   "cell_type": "code",
   "execution_count": 31,
   "metadata": {},
   "outputs": [
    {
     "data": {
      "application/javascript": [
       "\n",
       "            setTimeout(function() {\n",
       "                var nbb_cell_id = 31;\n",
       "                var nbb_unformatted_code = \"# Create optimizer with default learning rate\\n# Compile the model\\nmodel.compile(optimizer=\\\"adam\\\", loss=\\\"binary_crossentropy\\\", metrics=[\\\"accuracy\\\"])\";\n",
       "                var nbb_formatted_code = \"# Create optimizer with default learning rate\\n# Compile the model\\nmodel.compile(optimizer=\\\"adam\\\", loss=\\\"binary_crossentropy\\\", metrics=[\\\"accuracy\\\"])\";\n",
       "                var nbb_cells = Jupyter.notebook.get_cells();\n",
       "                for (var i = 0; i < nbb_cells.length; ++i) {\n",
       "                    if (nbb_cells[i].input_prompt_number == nbb_cell_id) {\n",
       "                        if (nbb_cells[i].get_text() == nbb_unformatted_code) {\n",
       "                             nbb_cells[i].set_text(nbb_formatted_code);\n",
       "                        }\n",
       "                        break;\n",
       "                    }\n",
       "                }\n",
       "            }, 500);\n",
       "            "
      ],
      "text/plain": [
       "<IPython.core.display.Javascript object>"
      ]
     },
     "metadata": {},
     "output_type": "display_data"
    }
   ],
   "source": [
    "# Create optimizer with default learning rate\n",
    "# Compile the model\n",
    "model.compile(optimizer=\"adam\", loss=\"binary_crossentropy\", metrics=[\"accuracy\"])"
   ]
  },
  {
   "cell_type": "code",
   "execution_count": 32,
   "metadata": {},
   "outputs": [
    {
     "name": "stdout",
     "output_type": "stream",
     "text": [
      "Model: \"sequential\"\n",
      "_________________________________________________________________\n",
      "Layer (type)                 Output Shape              Param #   \n",
      "=================================================================\n",
      "dense (Dense)                (None, 8)                 112       \n",
      "_________________________________________________________________\n",
      "dense_1 (Dense)              (None, 16)                144       \n",
      "_________________________________________________________________\n",
      "dense_2 (Dense)              (None, 1)                 17        \n",
      "=================================================================\n",
      "Total params: 273\n",
      "Trainable params: 273\n",
      "Non-trainable params: 0\n",
      "_________________________________________________________________\n"
     ]
    },
    {
     "data": {
      "application/javascript": [
       "\n",
       "            setTimeout(function() {\n",
       "                var nbb_cell_id = 32;\n",
       "                var nbb_unformatted_code = \"# print the summary of the model\\nmodel.summary()\";\n",
       "                var nbb_formatted_code = \"# print the summary of the model\\nmodel.summary()\";\n",
       "                var nbb_cells = Jupyter.notebook.get_cells();\n",
       "                for (var i = 0; i < nbb_cells.length; ++i) {\n",
       "                    if (nbb_cells[i].input_prompt_number == nbb_cell_id) {\n",
       "                        if (nbb_cells[i].get_text() == nbb_unformatted_code) {\n",
       "                             nbb_cells[i].set_text(nbb_formatted_code);\n",
       "                        }\n",
       "                        break;\n",
       "                    }\n",
       "                }\n",
       "            }, 500);\n",
       "            "
      ],
      "text/plain": [
       "<IPython.core.display.Javascript object>"
      ]
     },
     "metadata": {},
     "output_type": "display_data"
    }
   ],
   "source": [
    "# print the summary of the model\n",
    "model.summary()"
   ]
  },
  {
   "cell_type": "markdown",
   "metadata": {},
   "source": [
    "### Training the Model\n",
    "- Forward pass and Backpropagation"
   ]
  },
  {
   "cell_type": "code",
   "execution_count": 33,
   "metadata": {},
   "outputs": [
    {
     "name": "stdout",
     "output_type": "stream",
     "text": [
      "Epoch 1/10\n",
      "427/427 [==============================] - 1s 2ms/step - loss: 0.5828 - accuracy: 0.7089 - val_loss: 0.4802 - val_accuracy: 0.7894\n",
      "Epoch 2/10\n",
      "427/427 [==============================] - 1s 1ms/step - loss: 0.4371 - accuracy: 0.8077 - val_loss: 0.4325 - val_accuracy: 0.8112\n",
      "Epoch 3/10\n",
      "427/427 [==============================] - 1s 1ms/step - loss: 0.3997 - accuracy: 0.8269 - val_loss: 0.4018 - val_accuracy: 0.8288\n",
      "Epoch 4/10\n",
      "427/427 [==============================] - 1s 1ms/step - loss: 0.3774 - accuracy: 0.8367 - val_loss: 0.3895 - val_accuracy: 0.8344\n",
      "Epoch 5/10\n",
      "427/427 [==============================] - 1s 1ms/step - loss: 0.3652 - accuracy: 0.8433 - val_loss: 0.3829 - val_accuracy: 0.8438\n",
      "Epoch 6/10\n",
      "427/427 [==============================] - 1s 1ms/step - loss: 0.3580 - accuracy: 0.8448 - val_loss: 0.3748 - val_accuracy: 0.8550\n",
      "Epoch 7/10\n",
      "427/427 [==============================] - 1s 1ms/step - loss: 0.3523 - accuracy: 0.8514 - val_loss: 0.3691 - val_accuracy: 0.8506\n",
      "Epoch 8/10\n",
      "427/427 [==============================] - 1s 1ms/step - loss: 0.3482 - accuracy: 0.8525 - val_loss: 0.3720 - val_accuracy: 0.8531\n",
      "Epoch 9/10\n",
      "427/427 [==============================] - 1s 1ms/step - loss: 0.3454 - accuracy: 0.8553 - val_loss: 0.3667 - val_accuracy: 0.8537\n",
      "Epoch 10/10\n",
      "427/427 [==============================] - 1s 1ms/step - loss: 0.3433 - accuracy: 0.8572 - val_loss: 0.3646 - val_accuracy: 0.8544\n"
     ]
    },
    {
     "data": {
      "application/javascript": [
       "\n",
       "            setTimeout(function() {\n",
       "                var nbb_cell_id = 33;\n",
       "                var nbb_unformatted_code = \"# fitting the model\\nhistory = model.fit(X_train, y_train, batch_size=15, epochs=10, validation_split=0.2)\";\n",
       "                var nbb_formatted_code = \"# fitting the model\\nhistory = model.fit(X_train, y_train, batch_size=15, epochs=10, validation_split=0.2)\";\n",
       "                var nbb_cells = Jupyter.notebook.get_cells();\n",
       "                for (var i = 0; i < nbb_cells.length; ++i) {\n",
       "                    if (nbb_cells[i].input_prompt_number == nbb_cell_id) {\n",
       "                        if (nbb_cells[i].get_text() == nbb_unformatted_code) {\n",
       "                             nbb_cells[i].set_text(nbb_formatted_code);\n",
       "                        }\n",
       "                        break;\n",
       "                    }\n",
       "                }\n",
       "            }, 500);\n",
       "            "
      ],
      "text/plain": [
       "<IPython.core.display.Javascript object>"
      ]
     },
     "metadata": {},
     "output_type": "display_data"
    }
   ],
   "source": [
    "# fitting the model\n",
    "history = model.fit(X_train, y_train, batch_size=15, epochs=10, validation_split=0.2)"
   ]
  },
  {
   "cell_type": "markdown",
   "metadata": {},
   "source": [
    "- Ploting the Train and Test loss"
   ]
  },
  {
   "cell_type": "code",
   "execution_count": 34,
   "metadata": {},
   "outputs": [
    {
     "data": {
      "text/plain": [
       "<matplotlib.legend.Legend at 0x2e0ddde9a60>"
      ]
     },
     "execution_count": 34,
     "metadata": {},
     "output_type": "execute_result"
    },
    {
     "data": {
      "image/png": "[encoded data removed]",
      "text/plain": [
       "<Figure size 432x288 with 1 Axes>"
      ]
     },
     "metadata": {},
     "output_type": "display_data"
    },
    {
     "data": {
      "application/javascript": [
       "\n",
       "            setTimeout(function() {\n",
       "                var nbb_cell_id = 34;\n",
       "                var nbb_unformatted_code = \"# Capturing learning history per epoch\\nhist = pd.DataFrame(history.history)\\nhist[\\\"epoch\\\"] = history.epoch\\n\\n# Plotting accuracy at different epochs\\nplt.plot(hist[\\\"loss\\\"])\\nplt.plot(hist[\\\"val_loss\\\"])\\nplt.legend((\\\"train\\\", \\\"valid\\\"), loc=0)\";\n",
       "                var nbb_formatted_code = \"# Capturing learning history per epoch\\nhist = pd.DataFrame(history.history)\\nhist[\\\"epoch\\\"] = history.epoch\\n\\n# Plotting accuracy at different epochs\\nplt.plot(hist[\\\"loss\\\"])\\nplt.plot(hist[\\\"val_loss\\\"])\\nplt.legend((\\\"train\\\", \\\"valid\\\"), loc=0)\";\n",
       "                var nbb_cells = Jupyter.notebook.get_cells();\n",
       "                for (var i = 0; i < nbb_cells.length; ++i) {\n",
       "                    if (nbb_cells[i].input_prompt_number == nbb_cell_id) {\n",
       "                        if (nbb_cells[i].get_text() == nbb_unformatted_code) {\n",
       "                             nbb_cells[i].set_text(nbb_formatted_code);\n",
       "                        }\n",
       "                        break;\n",
       "                    }\n",
       "                }\n",
       "            }, 500);\n",
       "            "
      ],
      "text/plain": [
       "<IPython.core.display.Javascript object>"
      ]
     },
     "metadata": {},
     "output_type": "display_data"
    }
   ],
   "source": [
    "# Capturing learning history per epoch\n",
    "hist = pd.DataFrame(history.history)\n",
    "hist[\"epoch\"] = history.epoch\n",
    "\n",
    "# Plotting accuracy at different epochs\n",
    "plt.plot(hist[\"loss\"])\n",
    "plt.plot(hist[\"val_loss\"])\n",
    "plt.legend((\"train\", \"valid\"), loc=0)"
   ]
  },
  {
   "cell_type": "markdown",
   "metadata": {},
   "source": [
    "### Evaluation"
   ]
  },
  {
   "cell_type": "code",
   "execution_count": 35,
   "metadata": {},
   "outputs": [
    {
     "name": "stdout",
     "output_type": "stream",
     "text": [
      "63/63 [==============================] - 0s 984us/step - loss: 0.3591 - accuracy: 0.8550\n"
     ]
    },
    {
     "data": {
      "application/javascript": [
       "\n",
       "            setTimeout(function() {\n",
       "                var nbb_cell_id = 35;\n",
       "                var nbb_unformatted_code = \"score = model.evaluate(X_test, y_test)\";\n",
       "                var nbb_formatted_code = \"score = model.evaluate(X_test, y_test)\";\n",
       "                var nbb_cells = Jupyter.notebook.get_cells();\n",
       "                for (var i = 0; i < nbb_cells.length; ++i) {\n",
       "                    if (nbb_cells[i].input_prompt_number == nbb_cell_id) {\n",
       "                        if (nbb_cells[i].get_text() == nbb_unformatted_code) {\n",
       "                             nbb_cells[i].set_text(nbb_formatted_code);\n",
       "                        }\n",
       "                        break;\n",
       "                    }\n",
       "                }\n",
       "            }, 500);\n",
       "            "
      ],
      "text/plain": [
       "<IPython.core.display.Javascript object>"
      ]
     },
     "metadata": {},
     "output_type": "display_data"
    }
   ],
   "source": [
    "score = model.evaluate(X_test, y_test)"
   ]
  },
  {
   "cell_type": "code",
   "execution_count": 36,
   "metadata": {},
   "outputs": [
    {
     "data": {
      "application/javascript": [
       "\n",
       "            setTimeout(function() {\n",
       "                var nbb_cell_id = 36;\n",
       "                var nbb_unformatted_code = \"def make_confusion_matrix(\\n    cf,\\n    group_names=None,\\n    categories=\\\"auto\\\",\\n    count=True,\\n    percent=True,\\n    cbar=True,\\n    xyticks=True,\\n    xyplotlabels=True,\\n    sum_stats=True,\\n    figsize=None,\\n    cmap=\\\"Blues\\\",\\n    title=None,\\n):\\n    \\\"\\\"\\\"\\n    This function will make a pretty plot of an sklearn Confusion Matrix cm using a Seaborn heatmap visualization.\\n    Arguments\\n    \\\"\\\"\\\"\\n\\n    # CODE TO GENERATE TEXT INSIDE EACH SQUARE\\n    blanks = [\\\"\\\" for i in range(cf.size)]\\n\\n    if group_names and len(group_names) == cf.size:\\n        group_labels = [\\\"{}\\\\n\\\".format(value) for value in group_names]\\n    else:\\n        group_labels = blanks\\n\\n    if count:\\n        group_counts = [\\\"{0:0.0f}\\\\n\\\".format(value) for value in cf.flatten()]\\n    else:\\n        group_counts = blanks\\n\\n    if percent:\\n        group_percentages = [\\n            \\\"{0:.2%}\\\".format(value) for value in cf.flatten() / np.sum(cf)\\n        ]\\n    else:\\n        group_percentages = blanks\\n\\n    box_labels = [\\n        f\\\"{v1}{v2}{v3}\\\".strip()\\n        for v1, v2, v3 in zip(group_labels, group_counts, group_percentages)\\n    ]\\n    box_labels = np.asarray(box_labels).reshape(cf.shape[0], cf.shape[1])\\n\\n    # CODE TO GENERATE SUMMARY STATISTICS & TEXT FOR SUMMARY STATS\\n    if sum_stats:\\n        # Accuracy is sum of diagonal divided by total observations\\n        accuracy = np.trace(cf) / float(np.sum(cf))\\n\\n        # if it is a binary confusion matrix, show some more stats\\n        if len(cf) == 2:\\n            # Metrics for Binary Confusion Matrices\\n            precision = cf[1, 1] / sum(cf[:, 1])\\n            recall = cf[1, 1] / sum(cf[1, :])\\n            f1_score = 2 * precision * recall / (precision + recall)\\n            stats_text = \\\"\\\\n\\\\nAccuracy={:0.3f}\\\\nPrecision={:0.3f}\\\\nRecall={:0.3f}\\\\nF1 Score={:0.3f}\\\".format(\\n                accuracy, precision, recall, f1_score\\n            )\\n        else:\\n            stats_text = \\\"\\\\n\\\\nAccuracy={:0.3f}\\\".format(accuracy)\\n    else:\\n        stats_text = \\\"\\\"\\n\\n    # SET FIGURE PARAMETERS ACCORDING TO OTHER ARGUMENTS\\n    if figsize == None:\\n        # Get default figure size if not set\\n        figsize = plt.rcParams.get(\\\"figure.figsize\\\")\\n\\n    if xyticks == False:\\n        # Do not show categories if xyticks is False\\n        categories = False\\n\\n    # MAKE THE HEATMAP VISUALIZATION\\n    plt.figure(figsize=figsize)\\n    sns.heatmap(\\n        cf,\\n        annot=box_labels,\\n        fmt=\\\"\\\",\\n        cmap=cmap,\\n        cbar=cbar,\\n        xticklabels=categories,\\n        yticklabels=categories,\\n    )\\n\\n    if xyplotlabels:\\n        plt.ylabel(\\\"True label\\\")\\n        plt.xlabel(\\\"Predicted label\\\" + stats_text)\\n    else:\\n        plt.xlabel(stats_text)\\n\\n    if title:\\n        plt.title(title)\";\n",
       "                var nbb_formatted_code = \"def make_confusion_matrix(\\n    cf,\\n    group_names=None,\\n    categories=\\\"auto\\\",\\n    count=True,\\n    percent=True,\\n    cbar=True,\\n    xyticks=True,\\n    xyplotlabels=True,\\n    sum_stats=True,\\n    figsize=None,\\n    cmap=\\\"Blues\\\",\\n    title=None,\\n):\\n    \\\"\\\"\\\"\\n    This function will make a pretty plot of an sklearn Confusion Matrix cm using a Seaborn heatmap visualization.\\n    Arguments\\n    \\\"\\\"\\\"\\n\\n    # CODE TO GENERATE TEXT INSIDE EACH SQUARE\\n    blanks = [\\\"\\\" for i in range(cf.size)]\\n\\n    if group_names and len(group_names) == cf.size:\\n        group_labels = [\\\"{}\\\\n\\\".format(value) for value in group_names]\\n    else:\\n        group_labels = blanks\\n\\n    if count:\\n        group_counts = [\\\"{0:0.0f}\\\\n\\\".format(value) for value in cf.flatten()]\\n    else:\\n        group_counts = blanks\\n\\n    if percent:\\n        group_percentages = [\\n            \\\"{0:.2%}\\\".format(value) for value in cf.flatten() / np.sum(cf)\\n        ]\\n    else:\\n        group_percentages = blanks\\n\\n    box_labels = [\\n        f\\\"{v1}{v2}{v3}\\\".strip()\\n        for v1, v2, v3 in zip(group_labels, group_counts, group_percentages)\\n    ]\\n    box_labels = np.asarray(box_labels).reshape(cf.shape[0], cf.shape[1])\\n\\n    # CODE TO GENERATE SUMMARY STATISTICS & TEXT FOR SUMMARY STATS\\n    if sum_stats:\\n        # Accuracy is sum of diagonal divided by total observations\\n        accuracy = np.trace(cf) / float(np.sum(cf))\\n\\n        # if it is a binary confusion matrix, show some more stats\\n        if len(cf) == 2:\\n            # Metrics for Binary Confusion Matrices\\n            precision = cf[1, 1] / sum(cf[:, 1])\\n            recall = cf[1, 1] / sum(cf[1, :])\\n            f1_score = 2 * precision * recall / (precision + recall)\\n            stats_text = \\\"\\\\n\\\\nAccuracy={:0.3f}\\\\nPrecision={:0.3f}\\\\nRecall={:0.3f}\\\\nF1 Score={:0.3f}\\\".format(\\n                accuracy, precision, recall, f1_score\\n            )\\n        else:\\n            stats_text = \\\"\\\\n\\\\nAccuracy={:0.3f}\\\".format(accuracy)\\n    else:\\n        stats_text = \\\"\\\"\\n\\n    # SET FIGURE PARAMETERS ACCORDING TO OTHER ARGUMENTS\\n    if figsize == None:\\n        # Get default figure size if not set\\n        figsize = plt.rcParams.get(\\\"figure.figsize\\\")\\n\\n    if xyticks == False:\\n        # Do not show categories if xyticks is False\\n        categories = False\\n\\n    # MAKE THE HEATMAP VISUALIZATION\\n    plt.figure(figsize=figsize)\\n    sns.heatmap(\\n        cf,\\n        annot=box_labels,\\n        fmt=\\\"\\\",\\n        cmap=cmap,\\n        cbar=cbar,\\n        xticklabels=categories,\\n        yticklabels=categories,\\n    )\\n\\n    if xyplotlabels:\\n        plt.ylabel(\\\"True label\\\")\\n        plt.xlabel(\\\"Predicted label\\\" + stats_text)\\n    else:\\n        plt.xlabel(stats_text)\\n\\n    if title:\\n        plt.title(title)\";\n",
       "                var nbb_cells = Jupyter.notebook.get_cells();\n",
       "                for (var i = 0; i < nbb_cells.length; ++i) {\n",
       "                    if (nbb_cells[i].input_prompt_number == nbb_cell_id) {\n",
       "                        if (nbb_cells[i].get_text() == nbb_unformatted_code) {\n",
       "                             nbb_cells[i].set_text(nbb_formatted_code);\n",
       "                        }\n",
       "                        break;\n",
       "                    }\n",
       "                }\n",
       "            }, 500);\n",
       "            "
      ],
      "text/plain": [
       "<IPython.core.display.Javascript object>"
      ]
     },
     "metadata": {},
     "output_type": "display_data"
    }
   ],
   "source": [
    "def make_confusion_matrix(\n",
    "    cf,\n",
    "    group_names=None,\n",
    "    categories=\"auto\",\n",
    "    count=True,\n",
    "    percent=True,\n",
    "    cbar=True,\n",
    "    xyticks=True,\n",
    "    xyplotlabels=True,\n",
    "    sum_stats=True,\n",
    "    figsize=None,\n",
    "    cmap=\"Blues\",\n",
    "    title=None,\n",
    "):\n",
    "    \"\"\"\n",
    "    This function will make a pretty plot of an sklearn Confusion Matrix cm using a Seaborn heatmap visualization.\n",
    "    Arguments\n",
    "    \"\"\"\n",
    "\n",
    "    # CODE TO GENERATE TEXT INSIDE EACH SQUARE\n",
    "    blanks = [\"\" for i in range(cf.size)]\n",
    "\n",
    "    if group_names and len(group_names) == cf.size:\n",
    "        group_labels = [\"{}\\n\".format(value) for value in group_names]\n",
    "    else:\n",
    "        group_labels = blanks\n",
    "\n",
    "    if count:\n",
    "        group_counts = [\"{0:0.0f}\\n\".format(value) for value in cf.flatten()]\n",
    "    else:\n",
    "        group_counts = blanks\n",
    "\n",
    "    if percent:\n",
    "        group_percentages = [\n",
    "            \"{0:.2%}\".format(value) for value in cf.flatten() / np.sum(cf)\n",
    "        ]\n",
    "    else:\n",
    "        group_percentages = blanks\n",
    "\n",
    "    box_labels = [\n",
    "        f\"{v1}{v2}{v3}\".strip()\n",
    "        for v1, v2, v3 in zip(group_labels, group_counts, group_percentages)\n",
    "    ]\n",
    "    box_labels = np.asarray(box_labels).reshape(cf.shape[0], cf.shape[1])\n",
    "\n",
    "    # CODE TO GENERATE SUMMARY STATISTICS & TEXT FOR SUMMARY STATS\n",
    "    if sum_stats:\n",
    "        # Accuracy is sum of diagonal divided by total observations\n",
    "        accuracy = np.trace(cf) / float(np.sum(cf))\n",
    "\n",
    "        # if it is a binary confusion matrix, show some more stats\n",
    "        if len(cf) == 2:\n",
    "            # Metrics for Binary Confusion Matrices\n",
    "            precision = cf[1, 1] / sum(cf[:, 1])\n",
    "            recall = cf[1, 1] / sum(cf[1, :])\n",
    "            f1_score = 2 * precision * recall / (precision + recall)\n",
    "            stats_text = \"\\n\\nAccuracy={:0.3f}\\nPrecision={:0.3f}\\nRecall={:0.3f}\\nF1 Score={:0.3f}\".format(\n",
    "                accuracy, precision, recall, f1_score\n",
    "            )\n",
    "        else:\n",
    "            stats_text = \"\\n\\nAccuracy={:0.3f}\".format(accuracy)\n",
    "    else:\n",
    "        stats_text = \"\"\n",
    "\n",
    "    # SET FIGURE PARAMETERS ACCORDING TO OTHER ARGUMENTS\n",
    "    if figsize == None:\n",
    "        # Get default figure size if not set\n",
    "        figsize = plt.rcParams.get(\"figure.figsize\")\n",
    "\n",
    "    if xyticks == False:\n",
    "        # Do not show categories if xyticks is False\n",
    "        categories = False\n",
    "\n",
    "    # MAKE THE HEATMAP VISUALIZATION\n",
    "    plt.figure(figsize=figsize)\n",
    "    sns.heatmap(\n",
    "        cf,\n",
    "        annot=box_labels,\n",
    "        fmt=\"\",\n",
    "        cmap=cmap,\n",
    "        cbar=cbar,\n",
    "        xticklabels=categories,\n",
    "        yticklabels=categories,\n",
    "    )\n",
    "\n",
    "    if xyplotlabels:\n",
    "        plt.ylabel(\"True label\")\n",
    "        plt.xlabel(\"Predicted label\" + stats_text)\n",
    "    else:\n",
    "        plt.xlabel(stats_text)\n",
    "\n",
    "    if title:\n",
    "        plt.title(title)"
   ]
  },
  {
   "cell_type": "code",
   "execution_count": 37,
   "metadata": {},
   "outputs": [
    {
     "data": {
      "image/png": "[encoded data removed]",
      "text/plain": [
       "<Figure size 432x288 with 2 Axes>"
      ]
     },
     "metadata": {},
     "output_type": "display_data"
    },
    {
     "data": {
      "application/javascript": [
       "\n",
       "            setTimeout(function() {\n",
       "                var nbb_cell_id = 37;\n",
       "                var nbb_unformatted_code = \"## Confusion Matrix on unsee test set\\n\\ny_pred1 = model.predict(X_test)\\nfor i in range(len(y_test)):\\n    if y_pred1[i] > 0.5:\\n        y_pred1[i] = 1\\n    else:\\n        y_pred1[i] = 0\\n\\n\\ncm2 = confusion_matrix(y_test, y_pred1)\\nlabels = [\\\"True Negative\\\", \\\"False Positive\\\", \\\"False Negative\\\", \\\"True Positive\\\"]\\ncategories = [\\\"Not_Exited\\\", \\\"Exited\\\"]\\nmake_confusion_matrix(cm2, group_names=labels, categories=categories, cmap=\\\"Blues\\\")\";\n",
       "                var nbb_formatted_code = \"## Confusion Matrix on unsee test set\\n\\ny_pred1 = model.predict(X_test)\\nfor i in range(len(y_test)):\\n    if y_pred1[i] > 0.5:\\n        y_pred1[i] = 1\\n    else:\\n        y_pred1[i] = 0\\n\\n\\ncm2 = confusion_matrix(y_test, y_pred1)\\nlabels = [\\\"True Negative\\\", \\\"False Positive\\\", \\\"False Negative\\\", \\\"True Positive\\\"]\\ncategories = [\\\"Not_Exited\\\", \\\"Exited\\\"]\\nmake_confusion_matrix(cm2, group_names=labels, categories=categories, cmap=\\\"Blues\\\")\";\n",
       "                var nbb_cells = Jupyter.notebook.get_cells();\n",
       "                for (var i = 0; i < nbb_cells.length; ++i) {\n",
       "                    if (nbb_cells[i].input_prompt_number == nbb_cell_id) {\n",
       "                        if (nbb_cells[i].get_text() == nbb_unformatted_code) {\n",
       "                             nbb_cells[i].set_text(nbb_formatted_code);\n",
       "                        }\n",
       "                        break;\n",
       "                    }\n",
       "                }\n",
       "            }, 500);\n",
       "            "
      ],
      "text/plain": [
       "<IPython.core.display.Javascript object>"
      ]
     },
     "metadata": {},
     "output_type": "display_data"
    }
   ],
   "source": [
    "## Confusion Matrix on unsee test set\n",
    "\n",
    "y_pred1 = model.predict(X_test)\n",
    "for i in range(len(y_test)):\n",
    "    if y_pred1[i] > 0.5:\n",
    "        y_pred1[i] = 1\n",
    "    else:\n",
    "        y_pred1[i] = 0\n",
    "\n",
    "\n",
    "cm2 = confusion_matrix(y_test, y_pred1)\n",
    "labels = [\"True Negative\", \"False Positive\", \"False Negative\", \"True Positive\"]\n",
    "categories = [\"Not_Exited\", \"Exited\"]\n",
    "make_confusion_matrix(cm2, group_names=labels, categories=categories, cmap=\"Blues\")"
   ]
  },
  {
   "cell_type": "markdown",
   "metadata": {},
   "source": [
    "- Accuracy is 0.855 while Recall is very low with value 0.423\n",
    "- Precision is 0.767 while F1-Score is 0.545( which is very low)."
   ]
  },
  {
   "cell_type": "markdown",
   "metadata": {},
   "source": [
    "### Model Performance Improvement\n",
    "- Comment on which metric is right for model performance evaluation and why? \n",
    "- Find the optimal threshold using ROC-AUC curves \n",
    "- Comment on model performance \n",
    "- Can model performance be improved? check and comment \n",
    "- Build another model to implement these improvements \n",
    "- Include all the model which were trained to reach at the final one"
   ]
  },
  {
   "cell_type": "markdown",
   "metadata": {},
   "source": [
    "### Model evaluation criterion\n",
    "#### Model can make wrong predictions as:\n",
    "- Predicting a customer is Exited and the customer is not Exited.\n",
    "- Predicting a customer is not Exited and the customer is Exited.\n",
    "\n",
    "#### Which case is more important?\n",
    "- Predicting that customer is not leaving the bank but he leaves. It might enable a loss to the bank\n",
    "\n",
    "#### How to reduce this loss i.e need to reduce False Negative?\n",
    "- Bank would want Recall to be maximized, greater the Recall higher the chances of minimizing false Negative. Hence, the focus should be on increasing Recall or minimizing the false Negative or in other words identifying the True Positive(i.e. Class 1) so that the Bank can identify the customers who could leave."
   ]
  },
  {
   "cell_type": "markdown",
   "metadata": {},
   "source": [
    "### ROC-AUC\n",
    "- Find the optimal threshold using ROC-AUC curves"
   ]
  },
  {
   "cell_type": "code",
   "execution_count": 38,
   "metadata": {},
   "outputs": [
    {
     "data": {
      "image/png": "[encoded data removed]",
      "text/plain": [
       "<Figure size 504x360 with 1 Axes>"
      ]
     },
     "metadata": {},
     "output_type": "display_data"
    },
    {
     "data": {
      "application/javascript": [
       "\n",
       "            setTimeout(function() {\n",
       "                var nbb_cell_id = 38;\n",
       "                var nbb_unformatted_code = \"# ROC-AUC on training set\\nNN_roc_auc_train = roc_auc_score(y_train, model.predict(X_train))\\nfpr, tpr, thresholds = roc_curve(y_train, model.predict(X_train))\\nplt.figure(figsize=(7, 5))\\nplt.plot(fpr, tpr, label=\\\"NN (area = %0.2f)\\\" % NN_roc_auc_train)\\nplt.plot([0, 1], [0, 1], \\\"r--\\\")\\nplt.xlim([0.0, 1.0])\\nplt.ylim([0.0, 1.05])\\nplt.xlabel(\\\"False Positive Rate\\\")\\nplt.ylabel(\\\"True Positive Rate\\\")\\nplt.title(\\\"Receiver operating characteristic\\\")\\nplt.legend(loc=\\\"lower right\\\")\\nplt.show()\";\n",
       "                var nbb_formatted_code = \"# ROC-AUC on training set\\nNN_roc_auc_train = roc_auc_score(y_train, model.predict(X_train))\\nfpr, tpr, thresholds = roc_curve(y_train, model.predict(X_train))\\nplt.figure(figsize=(7, 5))\\nplt.plot(fpr, tpr, label=\\\"NN (area = %0.2f)\\\" % NN_roc_auc_train)\\nplt.plot([0, 1], [0, 1], \\\"r--\\\")\\nplt.xlim([0.0, 1.0])\\nplt.ylim([0.0, 1.05])\\nplt.xlabel(\\\"False Positive Rate\\\")\\nplt.ylabel(\\\"True Positive Rate\\\")\\nplt.title(\\\"Receiver operating characteristic\\\")\\nplt.legend(loc=\\\"lower right\\\")\\nplt.show()\";\n",
       "                var nbb_cells = Jupyter.notebook.get_cells();\n",
       "                for (var i = 0; i < nbb_cells.length; ++i) {\n",
       "                    if (nbb_cells[i].input_prompt_number == nbb_cell_id) {\n",
       "                        if (nbb_cells[i].get_text() == nbb_unformatted_code) {\n",
       "                             nbb_cells[i].set_text(nbb_formatted_code);\n",
       "                        }\n",
       "                        break;\n",
       "                    }\n",
       "                }\n",
       "            }, 500);\n",
       "            "
      ],
      "text/plain": [
       "<IPython.core.display.Javascript object>"
      ]
     },
     "metadata": {},
     "output_type": "display_data"
    }
   ],
   "source": [
    "# ROC-AUC on training set\n",
    "NN_roc_auc_train = roc_auc_score(y_train, model.predict(X_train))\n",
    "fpr, tpr, thresholds = roc_curve(y_train, model.predict(X_train))\n",
    "plt.figure(figsize=(7, 5))\n",
    "plt.plot(fpr, tpr, label=\"NN (area = %0.2f)\" % NN_roc_auc_train)\n",
    "plt.plot([0, 1], [0, 1], \"r--\")\n",
    "plt.xlim([0.0, 1.0])\n",
    "plt.ylim([0.0, 1.05])\n",
    "plt.xlabel(\"False Positive Rate\")\n",
    "plt.ylabel(\"True Positive Rate\")\n",
    "plt.title(\"Receiver operating characteristic\")\n",
    "plt.legend(loc=\"lower right\")\n",
    "plt.show()"
   ]
  },
  {
   "cell_type": "code",
   "execution_count": 39,
   "metadata": {},
   "outputs": [
    {
     "data": {
      "image/png": "[encoded data removed]",
      "text/plain": [
       "<Figure size 504x360 with 1 Axes>"
      ]
     },
     "metadata": {},
     "output_type": "display_data"
    },
    {
     "data": {
      "application/javascript": [
       "\n",
       "            setTimeout(function() {\n",
       "                var nbb_cell_id = 39;\n",
       "                var nbb_unformatted_code = \"# ROC-AUC on test set\\nNN_roc_auc_test = roc_auc_score(y_test, model.predict(X_test))\\nfpr, tpr, thresholds = roc_curve(y_test, model.predict(X_test))\\nplt.figure(figsize=(7, 5))\\nplt.plot(fpr, tpr, label=\\\"NN (area = %0.2f)\\\" % NN_roc_auc_test)\\nplt.plot([0, 1], [0, 1], \\\"r--\\\")\\nplt.xlim([0.0, 1.0])\\nplt.ylim([0.0, 1.05])\\nplt.xlabel(\\\"False Positive Rate\\\")\\nplt.ylabel(\\\"True Positive Rate\\\")\\nplt.title(\\\"Receiver operating characteristic\\\")\\nplt.legend(loc=\\\"lower right\\\")\\nplt.show()\";\n",
       "                var nbb_formatted_code = \"# ROC-AUC on test set\\nNN_roc_auc_test = roc_auc_score(y_test, model.predict(X_test))\\nfpr, tpr, thresholds = roc_curve(y_test, model.predict(X_test))\\nplt.figure(figsize=(7, 5))\\nplt.plot(fpr, tpr, label=\\\"NN (area = %0.2f)\\\" % NN_roc_auc_test)\\nplt.plot([0, 1], [0, 1], \\\"r--\\\")\\nplt.xlim([0.0, 1.0])\\nplt.ylim([0.0, 1.05])\\nplt.xlabel(\\\"False Positive Rate\\\")\\nplt.ylabel(\\\"True Positive Rate\\\")\\nplt.title(\\\"Receiver operating characteristic\\\")\\nplt.legend(loc=\\\"lower right\\\")\\nplt.show()\";\n",
       "                var nbb_cells = Jupyter.notebook.get_cells();\n",
       "                for (var i = 0; i < nbb_cells.length; ++i) {\n",
       "                    if (nbb_cells[i].input_prompt_number == nbb_cell_id) {\n",
       "                        if (nbb_cells[i].get_text() == nbb_unformatted_code) {\n",
       "                             nbb_cells[i].set_text(nbb_formatted_code);\n",
       "                        }\n",
       "                        break;\n",
       "                    }\n",
       "                }\n",
       "            }, 500);\n",
       "            "
      ],
      "text/plain": [
       "<IPython.core.display.Javascript object>"
      ]
     },
     "metadata": {},
     "output_type": "display_data"
    }
   ],
   "source": [
    "# ROC-AUC on test set\n",
    "NN_roc_auc_test = roc_auc_score(y_test, model.predict(X_test))\n",
    "fpr, tpr, thresholds = roc_curve(y_test, model.predict(X_test))\n",
    "plt.figure(figsize=(7, 5))\n",
    "plt.plot(fpr, tpr, label=\"NN (area = %0.2f)\" % NN_roc_auc_test)\n",
    "plt.plot([0, 1], [0, 1], \"r--\")\n",
    "plt.xlim([0.0, 1.0])\n",
    "plt.ylim([0.0, 1.05])\n",
    "plt.xlabel(\"False Positive Rate\")\n",
    "plt.ylabel(\"True Positive Rate\")\n",
    "plt.title(\"Receiver operating characteristic\")\n",
    "plt.legend(loc=\"lower right\")\n",
    "plt.show()"
   ]
  },
  {
   "cell_type": "markdown",
   "metadata": {},
   "source": [
    "### Optimal threshold using AUC-ROC curve"
   ]
  },
  {
   "cell_type": "code",
   "execution_count": 40,
   "metadata": {},
   "outputs": [
    {
     "name": "stdout",
     "output_type": "stream",
     "text": [
      "0.20968679\n"
     ]
    },
    {
     "data": {
      "application/javascript": [
       "\n",
       "            setTimeout(function() {\n",
       "                var nbb_cell_id = 40;\n",
       "                var nbb_unformatted_code = \"# The optimal cut off would be where tpr is high and fpr is low\\nfpr, tpr, thresholds = roc_curve(y_train, model.predict(X_train))\\n\\noptimal_idx = np.argmax(tpr - fpr)\\noptimal_threshold_auc_roc = thresholds[optimal_idx]\\nprint(optimal_threshold_auc_roc)\";\n",
       "                var nbb_formatted_code = \"# The optimal cut off would be where tpr is high and fpr is low\\nfpr, tpr, thresholds = roc_curve(y_train, model.predict(X_train))\\n\\noptimal_idx = np.argmax(tpr - fpr)\\noptimal_threshold_auc_roc = thresholds[optimal_idx]\\nprint(optimal_threshold_auc_roc)\";\n",
       "                var nbb_cells = Jupyter.notebook.get_cells();\n",
       "                for (var i = 0; i < nbb_cells.length; ++i) {\n",
       "                    if (nbb_cells[i].input_prompt_number == nbb_cell_id) {\n",
       "                        if (nbb_cells[i].get_text() == nbb_unformatted_code) {\n",
       "                             nbb_cells[i].set_text(nbb_formatted_code);\n",
       "                        }\n",
       "                        break;\n",
       "                    }\n",
       "                }\n",
       "            }, 500);\n",
       "            "
      ],
      "text/plain": [
       "<IPython.core.display.Javascript object>"
      ]
     },
     "metadata": {},
     "output_type": "display_data"
    }
   ],
   "source": [
    "# The optimal cut off would be where tpr is high and fpr is low\n",
    "fpr, tpr, thresholds = roc_curve(y_train, model.predict(X_train))\n",
    "\n",
    "optimal_idx = np.argmax(tpr - fpr)\n",
    "optimal_threshold_auc_roc = thresholds[optimal_idx]\n",
    "print(optimal_threshold_auc_roc)"
   ]
  },
  {
   "cell_type": "markdown",
   "metadata": {},
   "source": [
    "### checking the Model performance on test set using the ROC-AUC threshold"
   ]
  },
  {
   "cell_type": "code",
   "execution_count": 41,
   "metadata": {},
   "outputs": [
    {
     "data": {
      "image/png": "[encoded data removed]",
      "text/plain": [
       "<Figure size 432x288 with 2 Axes>"
      ]
     },
     "metadata": {},
     "output_type": "display_data"
    },
    {
     "data": {
      "application/javascript": [
       "\n",
       "            setTimeout(function() {\n",
       "                var nbb_cell_id = 41;\n",
       "                var nbb_unformatted_code = \"## Confusion Matrix on unsee test set\\n\\ny_pred1 = model.predict(X_test)\\nfor i in range(len(y_test)):\\n    if y_pred1[i] > optimal_threshold_auc_roc:\\n        y_pred1[i] = 1\\n    else:\\n        y_pred1[i] = 0\\n\\n\\ncm2 = confusion_matrix(y_test, y_pred1)\\nlabels = [\\\"True Negative\\\", \\\"False Positive\\\", \\\"False Negative\\\", \\\"True Positive\\\"]\\ncategories = [\\\"Not_Exited\\\", \\\"Exited\\\"]\\nmake_confusion_matrix(cm2, group_names=labels, categories=categories, cmap=\\\"Blues\\\")\";\n",
       "                var nbb_formatted_code = \"## Confusion Matrix on unsee test set\\n\\ny_pred1 = model.predict(X_test)\\nfor i in range(len(y_test)):\\n    if y_pred1[i] > optimal_threshold_auc_roc:\\n        y_pred1[i] = 1\\n    else:\\n        y_pred1[i] = 0\\n\\n\\ncm2 = confusion_matrix(y_test, y_pred1)\\nlabels = [\\\"True Negative\\\", \\\"False Positive\\\", \\\"False Negative\\\", \\\"True Positive\\\"]\\ncategories = [\\\"Not_Exited\\\", \\\"Exited\\\"]\\nmake_confusion_matrix(cm2, group_names=labels, categories=categories, cmap=\\\"Blues\\\")\";\n",
       "                var nbb_cells = Jupyter.notebook.get_cells();\n",
       "                for (var i = 0; i < nbb_cells.length; ++i) {\n",
       "                    if (nbb_cells[i].input_prompt_number == nbb_cell_id) {\n",
       "                        if (nbb_cells[i].get_text() == nbb_unformatted_code) {\n",
       "                             nbb_cells[i].set_text(nbb_formatted_code);\n",
       "                        }\n",
       "                        break;\n",
       "                    }\n",
       "                }\n",
       "            }, 500);\n",
       "            "
      ],
      "text/plain": [
       "<IPython.core.display.Javascript object>"
      ]
     },
     "metadata": {},
     "output_type": "display_data"
    }
   ],
   "source": [
    "## Confusion Matrix on unsee test set\n",
    "\n",
    "y_pred1 = model.predict(X_test)\n",
    "for i in range(len(y_test)):\n",
    "    if y_pred1[i] > optimal_threshold_auc_roc:\n",
    "        y_pred1[i] = 1\n",
    "    else:\n",
    "        y_pred1[i] = 0\n",
    "\n",
    "\n",
    "cm2 = confusion_matrix(y_test, y_pred1)\n",
    "labels = [\"True Negative\", \"False Positive\", \"False Negative\", \"True Positive\"]\n",
    "categories = [\"Not_Exited\", \"Exited\"]\n",
    "make_confusion_matrix(cm2, group_names=labels, categories=categories, cmap=\"Blues\")"
   ]
  },
  {
   "cell_type": "markdown",
   "metadata": {},
   "source": [
    "- Recall increased from 0.423 to 0.725\n",
    "- F1-Score increased from 0.545 to 0.582 (very small increase).\n",
    "- Accuracy decreased from 0.855 to 0.786\n",
    "- Precision decreased from 0.767 to 0.486 "
   ]
  },
  {
   "cell_type": "markdown",
   "metadata": {},
   "source": [
    "#### There are some basic Hyperparameters which can help to get the better model performance."
   ]
  },
  {
   "cell_type": "markdown",
   "metadata": {},
   "source": [
    "### Weight Initialization"
   ]
  },
  {
   "cell_type": "code",
   "execution_count": 42,
   "metadata": {},
   "outputs": [
    {
     "data": {
      "application/javascript": [
       "\n",
       "            setTimeout(function() {\n",
       "                var nbb_cell_id = 42;\n",
       "                var nbb_unformatted_code = \"model2 = Sequential()\\n# This adds the input layer (by specifying input dimension) AND the first hidden layer (units)\\ninput_layer = Dense(\\n    8,\\n    input_shape=(X_train.shape[1],),\\n    activation=\\\"relu\\\",\\n    kernel_initializer=\\\"he_normal\\\",\\n)\\nmodel2.add(input_layer)  #\\n# Adding the hidden layer\\n# Notice that we do not need to specify input dim.\\nhidden_layer = Dense(16, activation=\\\"relu\\\", kernel_initializer=\\\"he_normal\\\")\\n# defining the weight initialiazer\\nmodel2.add(hidden_layer)\\n# Adding the output layer\\n# Notice that we do not need to specify input dim.\\n# we have an output of 1 node, which is the the desired dimensions of our output (stay with the bank or not)\\n# We use the sigmoid because we want probability outcomes\\noutput_layer = Dense(1, activation=\\\"relu\\\", kernel_initializer=\\\"he_normal\\\")\\n\\nmodel2.add(output_layer)\";\n",
       "                var nbb_formatted_code = \"model2 = Sequential()\\n# This adds the input layer (by specifying input dimension) AND the first hidden layer (units)\\ninput_layer = Dense(\\n    8,\\n    input_shape=(X_train.shape[1],),\\n    activation=\\\"relu\\\",\\n    kernel_initializer=\\\"he_normal\\\",\\n)\\nmodel2.add(input_layer)  #\\n# Adding the hidden layer\\n# Notice that we do not need to specify input dim.\\nhidden_layer = Dense(16, activation=\\\"relu\\\", kernel_initializer=\\\"he_normal\\\")\\n# defining the weight initialiazer\\nmodel2.add(hidden_layer)\\n# Adding the output layer\\n# Notice that we do not need to specify input dim.\\n# we have an output of 1 node, which is the the desired dimensions of our output (stay with the bank or not)\\n# We use the sigmoid because we want probability outcomes\\noutput_layer = Dense(1, activation=\\\"relu\\\", kernel_initializer=\\\"he_normal\\\")\\n\\nmodel2.add(output_layer)\";\n",
       "                var nbb_cells = Jupyter.notebook.get_cells();\n",
       "                for (var i = 0; i < nbb_cells.length; ++i) {\n",
       "                    if (nbb_cells[i].input_prompt_number == nbb_cell_id) {\n",
       "                        if (nbb_cells[i].get_text() == nbb_unformatted_code) {\n",
       "                             nbb_cells[i].set_text(nbb_formatted_code);\n",
       "                        }\n",
       "                        break;\n",
       "                    }\n",
       "                }\n",
       "            }, 500);\n",
       "            "
      ],
      "text/plain": [
       "<IPython.core.display.Javascript object>"
      ]
     },
     "metadata": {},
     "output_type": "display_data"
    }
   ],
   "source": [
    "model2 = Sequential()\n",
    "# This adds the input layer (by specifying input dimension) AND the first hidden layer (units)\n",
    "input_layer = Dense(\n",
    "    8,\n",
    "    input_shape=(X_train.shape[1],),\n",
    "    activation=\"relu\",\n",
    "    kernel_initializer=\"he_normal\",\n",
    ")\n",
    "model2.add(input_layer)  #\n",
    "# Adding the hidden layer\n",
    "# Notice that we do not need to specify input dim.\n",
    "hidden_layer = Dense(16, activation=\"relu\", kernel_initializer=\"he_normal\")\n",
    "# defining the weight initialiazer\n",
    "model2.add(hidden_layer)\n",
    "# Adding the output layer\n",
    "# Notice that we do not need to specify input dim.\n",
    "# we have an output of 1 node, which is the the desired dimensions of our output (stay with the bank or not)\n",
    "# We use the sigmoid because we want probability outcomes\n",
    "output_layer = Dense(1, activation=\"relu\", kernel_initializer=\"he_normal\")\n",
    "\n",
    "model2.add(output_layer)"
   ]
  },
  {
   "cell_type": "code",
   "execution_count": 43,
   "metadata": {},
   "outputs": [
    {
     "data": {
      "application/javascript": [
       "\n",
       "            setTimeout(function() {\n",
       "                var nbb_cell_id = 43;\n",
       "                var nbb_unformatted_code = \"# Create optimizer with default learning rate\\n# Compile the model\\nmodel2.compile(optimizer=\\\"adam\\\", loss=\\\"binary_crossentropy\\\", metrics=[\\\"accuracy\\\"])\";\n",
       "                var nbb_formatted_code = \"# Create optimizer with default learning rate\\n# Compile the model\\nmodel2.compile(optimizer=\\\"adam\\\", loss=\\\"binary_crossentropy\\\", metrics=[\\\"accuracy\\\"])\";\n",
       "                var nbb_cells = Jupyter.notebook.get_cells();\n",
       "                for (var i = 0; i < nbb_cells.length; ++i) {\n",
       "                    if (nbb_cells[i].input_prompt_number == nbb_cell_id) {\n",
       "                        if (nbb_cells[i].get_text() == nbb_unformatted_code) {\n",
       "                             nbb_cells[i].set_text(nbb_formatted_code);\n",
       "                        }\n",
       "                        break;\n",
       "                    }\n",
       "                }\n",
       "            }, 500);\n",
       "            "
      ],
      "text/plain": [
       "<IPython.core.display.Javascript object>"
      ]
     },
     "metadata": {},
     "output_type": "display_data"
    }
   ],
   "source": [
    "# Create optimizer with default learning rate\n",
    "# Compile the model\n",
    "model2.compile(optimizer=\"adam\", loss=\"binary_crossentropy\", metrics=[\"accuracy\"])"
   ]
  },
  {
   "cell_type": "code",
   "execution_count": 44,
   "metadata": {},
   "outputs": [
    {
     "name": "stdout",
     "output_type": "stream",
     "text": [
      "Model: \"sequential_1\"\n",
      "_________________________________________________________________\n",
      "Layer (type)                 Output Shape              Param #   \n",
      "=================================================================\n",
      "dense_3 (Dense)              (None, 8)                 112       \n",
      "_________________________________________________________________\n",
      "dense_4 (Dense)              (None, 16)                144       \n",
      "_________________________________________________________________\n",
      "dense_5 (Dense)              (None, 1)                 17        \n",
      "=================================================================\n",
      "Total params: 273\n",
      "Trainable params: 273\n",
      "Non-trainable params: 0\n",
      "_________________________________________________________________\n"
     ]
    },
    {
     "data": {
      "application/javascript": [
       "\n",
       "            setTimeout(function() {\n",
       "                var nbb_cell_id = 44;\n",
       "                var nbb_unformatted_code = \"model2.summary()\";\n",
       "                var nbb_formatted_code = \"model2.summary()\";\n",
       "                var nbb_cells = Jupyter.notebook.get_cells();\n",
       "                for (var i = 0; i < nbb_cells.length; ++i) {\n",
       "                    if (nbb_cells[i].input_prompt_number == nbb_cell_id) {\n",
       "                        if (nbb_cells[i].get_text() == nbb_unformatted_code) {\n",
       "                             nbb_cells[i].set_text(nbb_formatted_code);\n",
       "                        }\n",
       "                        break;\n",
       "                    }\n",
       "                }\n",
       "            }, 500);\n",
       "            "
      ],
      "text/plain": [
       "<IPython.core.display.Javascript object>"
      ]
     },
     "metadata": {},
     "output_type": "display_data"
    }
   ],
   "source": [
    "model2.summary()"
   ]
  },
  {
   "cell_type": "code",
   "execution_count": 45,
   "metadata": {},
   "outputs": [
    {
     "name": "stdout",
     "output_type": "stream",
     "text": [
      "Epoch 1/40\n",
      "200/200 [==============================] - 1s 2ms/step - loss: 4.1006 - accuracy: 0.5945 - val_loss: 2.8357 - val_accuracy: 0.7262\n",
      "Epoch 2/40\n",
      "200/200 [==============================] - 0s 1ms/step - loss: 2.4825 - accuracy: 0.7708 - val_loss: 2.6881 - val_accuracy: 0.7550\n",
      "Epoch 3/40\n",
      "200/200 [==============================] - 0s 1ms/step - loss: 2.3286 - accuracy: 0.7788 - val_loss: 2.4953 - val_accuracy: 0.7575\n",
      "Epoch 4/40\n",
      "200/200 [==============================] - 0s 1ms/step - loss: 2.1521 - accuracy: 0.7763 - val_loss: 2.3085 - val_accuracy: 0.7556\n",
      "Epoch 5/40\n",
      "200/200 [==============================] - 0s 2ms/step - loss: 2.0153 - accuracy: 0.7763 - val_loss: 2.0884 - val_accuracy: 0.7500\n",
      "Epoch 6/40\n",
      "200/200 [==============================] - 0s 1ms/step - loss: 1.9067 - accuracy: 0.7678 - val_loss: 2.0317 - val_accuracy: 0.7550\n",
      "Epoch 7/40\n",
      "200/200 [==============================] - 0s 1ms/step - loss: 1.8030 - accuracy: 0.7761 - val_loss: 1.8399 - val_accuracy: 0.7513\n",
      "Epoch 8/40\n",
      "200/200 [==============================] - 0s 2ms/step - loss: 1.6875 - accuracy: 0.7661 - val_loss: 1.8140 - val_accuracy: 0.7456\n",
      "Epoch 9/40\n",
      "200/200 [==============================] - 0s 1ms/step - loss: 1.6407 - accuracy: 0.7669 - val_loss: 1.7275 - val_accuracy: 0.7513\n",
      "Epoch 10/40\n",
      "200/200 [==============================] - 0s 1ms/step - loss: 1.5550 - accuracy: 0.7656 - val_loss: 1.6313 - val_accuracy: 0.7513\n",
      "Epoch 11/40\n",
      "200/200 [==============================] - 0s 1ms/step - loss: 1.4817 - accuracy: 0.7677 - val_loss: 1.5702 - val_accuracy: 0.7569\n",
      "Epoch 12/40\n",
      "200/200 [==============================] - 0s 1ms/step - loss: 1.4552 - accuracy: 0.7727 - val_loss: 1.5370 - val_accuracy: 0.7556\n",
      "Epoch 13/40\n",
      "200/200 [==============================] - 0s 1ms/step - loss: 1.4204 - accuracy: 0.7766 - val_loss: 1.5130 - val_accuracy: 0.7650\n",
      "Epoch 14/40\n",
      "200/200 [==============================] - 0s 1ms/step - loss: 1.3497 - accuracy: 0.7758 - val_loss: 1.4506 - val_accuracy: 0.7625\n",
      "Epoch 15/40\n",
      "200/200 [==============================] - 0s 2ms/step - loss: 1.3200 - accuracy: 0.7769 - val_loss: 1.3748 - val_accuracy: 0.7625\n",
      "Epoch 16/40\n",
      "200/200 [==============================] - 0s 1ms/step - loss: 1.2803 - accuracy: 0.7736 - val_loss: 1.3545 - val_accuracy: 0.7681\n",
      "Epoch 17/40\n",
      "200/200 [==============================] - 0s 1ms/step - loss: 1.2350 - accuracy: 0.7698 - val_loss: 1.2959 - val_accuracy: 0.7244\n",
      "Epoch 18/40\n",
      "200/200 [==============================] - 0s 2ms/step - loss: 1.2347 - accuracy: 0.7095 - val_loss: 1.2614 - val_accuracy: 0.7144\n",
      "Epoch 19/40\n",
      "200/200 [==============================] - 0s 1ms/step - loss: 1.1446 - accuracy: 0.7269 - val_loss: 1.1974 - val_accuracy: 0.7400\n",
      "Epoch 20/40\n",
      "200/200 [==============================] - 0s 2ms/step - loss: 1.0786 - accuracy: 0.7548 - val_loss: 1.1131 - val_accuracy: 0.7538\n",
      "Epoch 21/40\n",
      "200/200 [==============================] - 0s 1ms/step - loss: 1.0988 - accuracy: 0.7750 - val_loss: 1.1095 - val_accuracy: 0.7719\n",
      "Epoch 22/40\n",
      "200/200 [==============================] - 0s 1ms/step - loss: 1.0270 - accuracy: 0.7681 - val_loss: 1.0503 - val_accuracy: 0.7387\n",
      "Epoch 23/40\n",
      "200/200 [==============================] - 0s 1ms/step - loss: 0.9269 - accuracy: 0.7603 - val_loss: 0.9629 - val_accuracy: 0.7613\n",
      "Epoch 24/40\n",
      "200/200 [==============================] - 0s 1ms/step - loss: 0.8981 - accuracy: 0.7767 - val_loss: 0.9673 - val_accuracy: 0.7719\n",
      "Epoch 25/40\n",
      "200/200 [==============================] - 0s 1ms/step - loss: 0.8790 - accuracy: 0.7797 - val_loss: 0.9326 - val_accuracy: 0.7750\n",
      "Epoch 26/40\n",
      "200/200 [==============================] - 0s 1ms/step - loss: 0.8276 - accuracy: 0.7770 - val_loss: 0.8504 - val_accuracy: 0.7606\n",
      "Epoch 27/40\n",
      "200/200 [==============================] - 0s 1ms/step - loss: 0.8032 - accuracy: 0.7770 - val_loss: 0.8771 - val_accuracy: 0.7794\n",
      "Epoch 28/40\n",
      "200/200 [==============================] - 0s 1ms/step - loss: 0.7916 - accuracy: 0.7830 - val_loss: 0.8498 - val_accuracy: 0.7812\n",
      "Epoch 29/40\n",
      "200/200 [==============================] - 0s 1ms/step - loss: 0.7520 - accuracy: 0.7841 - val_loss: 0.7921 - val_accuracy: 0.7581\n",
      "Epoch 30/40\n",
      "200/200 [==============================] - 0s 1ms/step - loss: 0.7466 - accuracy: 0.7648 - val_loss: 0.8378 - val_accuracy: 0.7444\n",
      "Epoch 31/40\n",
      "200/200 [==============================] - 0s 1ms/step - loss: 0.7376 - accuracy: 0.7656 - val_loss: 0.7280 - val_accuracy: 0.7794\n",
      "Epoch 32/40\n",
      "200/200 [==============================] - 0s 1ms/step - loss: 0.7187 - accuracy: 0.7973 - val_loss: 0.7805 - val_accuracy: 0.7919\n",
      "Epoch 33/40\n",
      "200/200 [==============================] - 0s 1ms/step - loss: 0.6820 - accuracy: 0.7955 - val_loss: 0.6775 - val_accuracy: 0.7894\n",
      "Epoch 34/40\n",
      "200/200 [==============================] - 0s 2ms/step - loss: 0.6528 - accuracy: 0.7930 - val_loss: 0.6876 - val_accuracy: 0.7763\n",
      "Epoch 35/40\n",
      "200/200 [==============================] - 0s 1ms/step - loss: 0.6689 - accuracy: 0.7808 - val_loss: 0.6807 - val_accuracy: 0.7869\n",
      "Epoch 36/40\n",
      "200/200 [==============================] - 0s 1ms/step - loss: 0.6478 - accuracy: 0.7841 - val_loss: 0.7066 - val_accuracy: 0.7581\n",
      "Epoch 37/40\n",
      "200/200 [==============================] - 0s 1ms/step - loss: 0.6484 - accuracy: 0.7669 - val_loss: 0.6740 - val_accuracy: 0.7750\n",
      "Epoch 38/40\n",
      "200/200 [==============================] - 0s 1ms/step - loss: 0.6254 - accuracy: 0.7866 - val_loss: 0.6439 - val_accuracy: 0.7819\n",
      "Epoch 39/40\n",
      "200/200 [==============================] - 0s 1ms/step - loss: 0.6070 - accuracy: 0.7948 - val_loss: 0.5987 - val_accuracy: 0.7831\n",
      "Epoch 40/40\n",
      "200/200 [==============================] - 0s 1ms/step - loss: 0.5997 - accuracy: 0.7880 - val_loss: 0.6123 - val_accuracy: 0.7900\n"
     ]
    },
    {
     "data": {
      "application/javascript": [
       "\n",
       "            setTimeout(function() {\n",
       "                var nbb_cell_id = 45;\n",
       "                var nbb_unformatted_code = \"history = model2.fit(X_train, y_train, epochs=40, validation_split=0.2, verbose=1)\";\n",
       "                var nbb_formatted_code = \"history = model2.fit(X_train, y_train, epochs=40, validation_split=0.2, verbose=1)\";\n",
       "                var nbb_cells = Jupyter.notebook.get_cells();\n",
       "                for (var i = 0; i < nbb_cells.length; ++i) {\n",
       "                    if (nbb_cells[i].input_prompt_number == nbb_cell_id) {\n",
       "                        if (nbb_cells[i].get_text() == nbb_unformatted_code) {\n",
       "                             nbb_cells[i].set_text(nbb_formatted_code);\n",
       "                        }\n",
       "                        break;\n",
       "                    }\n",
       "                }\n",
       "            }, 500);\n",
       "            "
      ],
      "text/plain": [
       "<IPython.core.display.Javascript object>"
      ]
     },
     "metadata": {},
     "output_type": "display_data"
    }
   ],
   "source": [
    "history = model2.fit(X_train, y_train, epochs=40, validation_split=0.2, verbose=1)"
   ]
  },
  {
   "cell_type": "code",
   "execution_count": 46,
   "metadata": {},
   "outputs": [
    {
     "data": {
      "text/plain": [
       "<matplotlib.legend.Legend at 0x2e0ddddf100>"
      ]
     },
     "execution_count": 46,
     "metadata": {},
     "output_type": "execute_result"
    },
    {
     "data": {
      "image/png": "[encoded data removed]",
      "text/plain": [
       "<Figure size 432x288 with 1 Axes>"
      ]
     },
     "metadata": {},
     "output_type": "display_data"
    },
    {
     "data": {
      "application/javascript": [
       "\n",
       "            setTimeout(function() {\n",
       "                var nbb_cell_id = 46;\n",
       "                var nbb_unformatted_code = \"# Capturing learning history per epoch\\nhist = pd.DataFrame(history.history)\\nhist[\\\"epoch\\\"] = history.epoch\\n\\n# Plotting accuracy at different epochs\\nplt.plot(hist[\\\"loss\\\"])\\nplt.plot(hist[\\\"val_loss\\\"])\\nplt.legend((\\\"train\\\", \\\"valid\\\"), loc=0)\";\n",
       "                var nbb_formatted_code = \"# Capturing learning history per epoch\\nhist = pd.DataFrame(history.history)\\nhist[\\\"epoch\\\"] = history.epoch\\n\\n# Plotting accuracy at different epochs\\nplt.plot(hist[\\\"loss\\\"])\\nplt.plot(hist[\\\"val_loss\\\"])\\nplt.legend((\\\"train\\\", \\\"valid\\\"), loc=0)\";\n",
       "                var nbb_cells = Jupyter.notebook.get_cells();\n",
       "                for (var i = 0; i < nbb_cells.length; ++i) {\n",
       "                    if (nbb_cells[i].input_prompt_number == nbb_cell_id) {\n",
       "                        if (nbb_cells[i].get_text() == nbb_unformatted_code) {\n",
       "                             nbb_cells[i].set_text(nbb_formatted_code);\n",
       "                        }\n",
       "                        break;\n",
       "                    }\n",
       "                }\n",
       "            }, 500);\n",
       "            "
      ],
      "text/plain": [
       "<IPython.core.display.Javascript object>"
      ]
     },
     "metadata": {},
     "output_type": "display_data"
    }
   ],
   "source": [
    "# Capturing learning history per epoch\n",
    "hist = pd.DataFrame(history.history)\n",
    "hist[\"epoch\"] = history.epoch\n",
    "\n",
    "# Plotting accuracy at different epochs\n",
    "plt.plot(hist[\"loss\"])\n",
    "plt.plot(hist[\"val_loss\"])\n",
    "plt.legend((\"train\", \"valid\"), loc=0)"
   ]
  },
  {
   "cell_type": "code",
   "execution_count": 47,
   "metadata": {},
   "outputs": [
    {
     "data": {
      "image/png": "[encoded data removed]",
      "text/plain": [
       "<Figure size 432x288 with 2 Axes>"
      ]
     },
     "metadata": {},
     "output_type": "display_data"
    },
    {
     "data": {
      "application/javascript": [
       "\n",
       "            setTimeout(function() {\n",
       "                var nbb_cell_id = 47;\n",
       "                var nbb_unformatted_code = \"## Confusion Matrix on unsee test set\\n\\ny_pred1 = model2.predict(X_test)\\nfor i in range(len(y_test)):\\n    if y_pred1[i] > optimal_threshold_auc_roc:\\n        y_pred1[i] = 1\\n    else:\\n        y_pred1[i] = 0\\n\\n\\ncm2 = confusion_matrix(y_test, y_pred1)\\nlabels = [\\\"True Negative\\\", \\\"False Positive\\\", \\\"False Negative\\\", \\\"True Positive\\\"]\\ncategories = [\\\"Not_Exited\\\", \\\"Exited\\\"]\\nmake_confusion_matrix(cm2, group_names=labels, categories=categories, cmap=\\\"Blues\\\")\";\n",
       "                var nbb_formatted_code = \"## Confusion Matrix on unsee test set\\n\\ny_pred1 = model2.predict(X_test)\\nfor i in range(len(y_test)):\\n    if y_pred1[i] > optimal_threshold_auc_roc:\\n        y_pred1[i] = 1\\n    else:\\n        y_pred1[i] = 0\\n\\n\\ncm2 = confusion_matrix(y_test, y_pred1)\\nlabels = [\\\"True Negative\\\", \\\"False Positive\\\", \\\"False Negative\\\", \\\"True Positive\\\"]\\ncategories = [\\\"Not_Exited\\\", \\\"Exited\\\"]\\nmake_confusion_matrix(cm2, group_names=labels, categories=categories, cmap=\\\"Blues\\\")\";\n",
       "                var nbb_cells = Jupyter.notebook.get_cells();\n",
       "                for (var i = 0; i < nbb_cells.length; ++i) {\n",
       "                    if (nbb_cells[i].input_prompt_number == nbb_cell_id) {\n",
       "                        if (nbb_cells[i].get_text() == nbb_unformatted_code) {\n",
       "                             nbb_cells[i].set_text(nbb_formatted_code);\n",
       "                        }\n",
       "                        break;\n",
       "                    }\n",
       "                }\n",
       "            }, 500);\n",
       "            "
      ],
      "text/plain": [
       "<IPython.core.display.Javascript object>"
      ]
     },
     "metadata": {},
     "output_type": "display_data"
    }
   ],
   "source": [
    "## Confusion Matrix on unsee test set\n",
    "\n",
    "y_pred1 = model2.predict(X_test)\n",
    "for i in range(len(y_test)):\n",
    "    if y_pred1[i] > optimal_threshold_auc_roc:\n",
    "        y_pred1[i] = 1\n",
    "    else:\n",
    "        y_pred1[i] = 0\n",
    "\n",
    "\n",
    "cm2 = confusion_matrix(y_test, y_pred1)\n",
    "labels = [\"True Negative\", \"False Positive\", \"False Negative\", \"True Positive\"]\n",
    "categories = [\"Not_Exited\", \"Exited\"]\n",
    "make_confusion_matrix(cm2, group_names=labels, categories=categories, cmap=\"Blues\")"
   ]
  },
  {
   "cell_type": "markdown",
   "metadata": {},
   "source": [
    "- slight increase in the recall with huge decrease in the other metrics."
   ]
  },
  {
   "cell_type": "markdown",
   "metadata": {},
   "source": [
    "#### Model 3 - Adding Batch norm layer"
   ]
  },
  {
   "cell_type": "code",
   "execution_count": 48,
   "metadata": {},
   "outputs": [
    {
     "data": {
      "application/javascript": [
       "\n",
       "            setTimeout(function() {\n",
       "                var nbb_cell_id = 48;\n",
       "                var nbb_unformatted_code = \"model3 = Sequential()\\n# This adds the input layer (by specifying input dimension) AND the first hidden layer (units)\\ninput_layer = Dense(\\n    8,\\n    input_shape=(X_train.shape[1],),\\n    activation=\\\"relu\\\",\\n    kernel_initializer=\\\"he_normal\\\",\\n)\\nmodel3.add(input_layer)  #\\n# Adding the hidden layer\\nmodel3.add(BatchNormalization())  # defining the batchnorm\\n# Notice that we do not need to specify input dim.\\nhidden_layer = Dense(16, activation=\\\"relu\\\", kernel_initializer=\\\"he_normal\\\")\\n# defining the weight initialiazer\\nmodel3.add(hidden_layer)\\n# Adding the output layer\\n# Notice that we do not need to specify input dim.\\n# we have an output of 1 node, which is the the desired dimensions of our output (stay with the bank or not)\\n# We use the sigmoid because we want probability outcomes\\noutput_layer = Dense(1, activation=\\\"relu\\\", kernel_initializer=\\\"he_normal\\\")\\n\\nmodel3.add(output_layer)\";\n",
       "                var nbb_formatted_code = \"model3 = Sequential()\\n# This adds the input layer (by specifying input dimension) AND the first hidden layer (units)\\ninput_layer = Dense(\\n    8,\\n    input_shape=(X_train.shape[1],),\\n    activation=\\\"relu\\\",\\n    kernel_initializer=\\\"he_normal\\\",\\n)\\nmodel3.add(input_layer)  #\\n# Adding the hidden layer\\nmodel3.add(BatchNormalization())  # defining the batchnorm\\n# Notice that we do not need to specify input dim.\\nhidden_layer = Dense(16, activation=\\\"relu\\\", kernel_initializer=\\\"he_normal\\\")\\n# defining the weight initialiazer\\nmodel3.add(hidden_layer)\\n# Adding the output layer\\n# Notice that we do not need to specify input dim.\\n# we have an output of 1 node, which is the the desired dimensions of our output (stay with the bank or not)\\n# We use the sigmoid because we want probability outcomes\\noutput_layer = Dense(1, activation=\\\"relu\\\", kernel_initializer=\\\"he_normal\\\")\\n\\nmodel3.add(output_layer)\";\n",
       "                var nbb_cells = Jupyter.notebook.get_cells();\n",
       "                for (var i = 0; i < nbb_cells.length; ++i) {\n",
       "                    if (nbb_cells[i].input_prompt_number == nbb_cell_id) {\n",
       "                        if (nbb_cells[i].get_text() == nbb_unformatted_code) {\n",
       "                             nbb_cells[i].set_text(nbb_formatted_code);\n",
       "                        }\n",
       "                        break;\n",
       "                    }\n",
       "                }\n",
       "            }, 500);\n",
       "            "
      ],
      "text/plain": [
       "<IPython.core.display.Javascript object>"
      ]
     },
     "metadata": {},
     "output_type": "display_data"
    }
   ],
   "source": [
    "model3 = Sequential()\n",
    "# This adds the input layer (by specifying input dimension) AND the first hidden layer (units)\n",
    "input_layer = Dense(\n",
    "    8,\n",
    "    input_shape=(X_train.shape[1],),\n",
    "    activation=\"relu\",\n",
    "    kernel_initializer=\"he_normal\",\n",
    ")\n",
    "model3.add(input_layer)  #\n",
    "# Adding the hidden layer\n",
    "model3.add(BatchNormalization())  # defining the batchnorm\n",
    "# Notice that we do not need to specify input dim.\n",
    "hidden_layer = Dense(16, activation=\"relu\", kernel_initializer=\"he_normal\")\n",
    "# defining the weight initialiazer\n",
    "model3.add(hidden_layer)\n",
    "# Adding the output layer\n",
    "# Notice that we do not need to specify input dim.\n",
    "# we have an output of 1 node, which is the the desired dimensions of our output (stay with the bank or not)\n",
    "# We use the sigmoid because we want probability outcomes\n",
    "output_layer = Dense(1, activation=\"relu\", kernel_initializer=\"he_normal\")\n",
    "\n",
    "model3.add(output_layer)"
   ]
  },
  {
   "cell_type": "code",
   "execution_count": 49,
   "metadata": {},
   "outputs": [
    {
     "data": {
      "application/javascript": [
       "\n",
       "            setTimeout(function() {\n",
       "                var nbb_cell_id = 49;\n",
       "                var nbb_unformatted_code = \"# Create optimizer with default learning rate\\n# Compile the model\\nmodel3.compile(optimizer=\\\"adam\\\", loss=\\\"binary_crossentropy\\\", metrics=[\\\"accuracy\\\"])\";\n",
       "                var nbb_formatted_code = \"# Create optimizer with default learning rate\\n# Compile the model\\nmodel3.compile(optimizer=\\\"adam\\\", loss=\\\"binary_crossentropy\\\", metrics=[\\\"accuracy\\\"])\";\n",
       "                var nbb_cells = Jupyter.notebook.get_cells();\n",
       "                for (var i = 0; i < nbb_cells.length; ++i) {\n",
       "                    if (nbb_cells[i].input_prompt_number == nbb_cell_id) {\n",
       "                        if (nbb_cells[i].get_text() == nbb_unformatted_code) {\n",
       "                             nbb_cells[i].set_text(nbb_formatted_code);\n",
       "                        }\n",
       "                        break;\n",
       "                    }\n",
       "                }\n",
       "            }, 500);\n",
       "            "
      ],
      "text/plain": [
       "<IPython.core.display.Javascript object>"
      ]
     },
     "metadata": {},
     "output_type": "display_data"
    }
   ],
   "source": [
    "# Create optimizer with default learning rate\n",
    "# Compile the model\n",
    "model3.compile(optimizer=\"adam\", loss=\"binary_crossentropy\", metrics=[\"accuracy\"])"
   ]
  },
  {
   "cell_type": "code",
   "execution_count": 50,
   "metadata": {},
   "outputs": [
    {
     "name": "stdout",
     "output_type": "stream",
     "text": [
      "Model: \"sequential_2\"\n",
      "_________________________________________________________________\n",
      "Layer (type)                 Output Shape              Param #   \n",
      "=================================================================\n",
      "dense_6 (Dense)              (None, 8)                 112       \n",
      "_________________________________________________________________\n",
      "batch_normalization (BatchNo (None, 8)                 32        \n",
      "_________________________________________________________________\n",
      "dense_7 (Dense)              (None, 16)                144       \n",
      "_________________________________________________________________\n",
      "dense_8 (Dense)              (None, 1)                 17        \n",
      "=================================================================\n",
      "Total params: 305\n",
      "Trainable params: 289\n",
      "Non-trainable params: 16\n",
      "_________________________________________________________________\n"
     ]
    },
    {
     "data": {
      "application/javascript": [
       "\n",
       "            setTimeout(function() {\n",
       "                var nbb_cell_id = 50;\n",
       "                var nbb_unformatted_code = \"model3.summary()\";\n",
       "                var nbb_formatted_code = \"model3.summary()\";\n",
       "                var nbb_cells = Jupyter.notebook.get_cells();\n",
       "                for (var i = 0; i < nbb_cells.length; ++i) {\n",
       "                    if (nbb_cells[i].input_prompt_number == nbb_cell_id) {\n",
       "                        if (nbb_cells[i].get_text() == nbb_unformatted_code) {\n",
       "                             nbb_cells[i].set_text(nbb_formatted_code);\n",
       "                        }\n",
       "                        break;\n",
       "                    }\n",
       "                }\n",
       "            }, 500);\n",
       "            "
      ],
      "text/plain": [
       "<IPython.core.display.Javascript object>"
      ]
     },
     "metadata": {},
     "output_type": "display_data"
    }
   ],
   "source": [
    "model3.summary()"
   ]
  },
  {
   "cell_type": "code",
   "execution_count": 51,
   "metadata": {},
   "outputs": [
    {
     "name": "stdout",
     "output_type": "stream",
     "text": [
      "Epoch 1/40\n",
      "200/200 [==============================] - 1s 2ms/step - loss: 4.3480 - accuracy: 0.6472 - val_loss: 3.7439 - val_accuracy: 0.7000\n",
      "Epoch 2/40\n",
      "200/200 [==============================] - 0s 1ms/step - loss: 3.3528 - accuracy: 0.7312 - val_loss: 3.1025 - val_accuracy: 0.7606\n",
      "Epoch 3/40\n",
      "200/200 [==============================] - 0s 2ms/step - loss: 2.9036 - accuracy: 0.7763 - val_loss: 2.9855 - val_accuracy: 0.7638\n",
      "Epoch 4/40\n",
      "200/200 [==============================] - 0s 2ms/step - loss: 2.9143 - accuracy: 0.7669 - val_loss: 3.0054 - val_accuracy: 0.7669\n",
      "Epoch 5/40\n",
      "200/200 [==============================] - 0s 1ms/step - loss: 2.7992 - accuracy: 0.7836 - val_loss: 2.9898 - val_accuracy: 0.7731\n",
      "Epoch 6/40\n",
      "200/200 [==============================] - 0s 1ms/step - loss: 2.7670 - accuracy: 0.7870 - val_loss: 2.9684 - val_accuracy: 0.7750\n",
      "Epoch 7/40\n",
      "200/200 [==============================] - 0s 2ms/step - loss: 2.7869 - accuracy: 0.7894 - val_loss: 2.9534 - val_accuracy: 0.7788\n",
      "Epoch 8/40\n",
      "200/200 [==============================] - 0s 1ms/step - loss: 2.8023 - accuracy: 0.7928 - val_loss: 2.9447 - val_accuracy: 0.7763\n",
      "Epoch 9/40\n",
      "200/200 [==============================] - 0s 2ms/step - loss: 2.7874 - accuracy: 0.7939 - val_loss: 2.9529 - val_accuracy: 0.7819\n",
      "Epoch 10/40\n",
      "200/200 [==============================] - 0s 2ms/step - loss: 2.8530 - accuracy: 0.7734 - val_loss: 3.1420 - val_accuracy: 0.7406\n",
      "Epoch 11/40\n",
      "200/200 [==============================] - 0s 2ms/step - loss: 2.8555 - accuracy: 0.7686 - val_loss: 3.0362 - val_accuracy: 0.7500\n",
      "Epoch 12/40\n",
      "200/200 [==============================] - 0s 2ms/step - loss: 2.8240 - accuracy: 0.7750 - val_loss: 2.9934 - val_accuracy: 0.7594\n",
      "Epoch 13/40\n",
      "200/200 [==============================] - 0s 1ms/step - loss: 2.7850 - accuracy: 0.7725 - val_loss: 2.9909 - val_accuracy: 0.7494\n",
      "Epoch 14/40\n",
      "200/200 [==============================] - 0s 2ms/step - loss: 2.7056 - accuracy: 0.7764 - val_loss: 2.9147 - val_accuracy: 0.7631\n",
      "Epoch 15/40\n",
      "200/200 [==============================] - 0s 2ms/step - loss: 2.7267 - accuracy: 0.7823 - val_loss: 2.8942 - val_accuracy: 0.7656\n",
      "Epoch 16/40\n",
      "200/200 [==============================] - 0s 2ms/step - loss: 2.6893 - accuracy: 0.7798 - val_loss: 2.8786 - val_accuracy: 0.7638\n",
      "Epoch 17/40\n",
      "200/200 [==============================] - 0s 2ms/step - loss: 2.6290 - accuracy: 0.7797 - val_loss: 2.8053 - val_accuracy: 0.7706\n",
      "Epoch 18/40\n",
      "200/200 [==============================] - 0s 2ms/step - loss: 2.5730 - accuracy: 0.7875 - val_loss: 2.7690 - val_accuracy: 0.7700\n",
      "Epoch 19/40\n",
      "200/200 [==============================] - 0s 2ms/step - loss: 2.5715 - accuracy: 0.7878 - val_loss: 2.7404 - val_accuracy: 0.7731\n",
      "Epoch 20/40\n",
      "200/200 [==============================] - 0s 2ms/step - loss: 2.4888 - accuracy: 0.7883 - val_loss: 2.6188 - val_accuracy: 0.7694\n",
      "Epoch 21/40\n",
      "200/200 [==============================] - 0s 1ms/step - loss: 2.3883 - accuracy: 0.7789 - val_loss: 2.4873 - val_accuracy: 0.7575\n",
      "Epoch 22/40\n",
      "200/200 [==============================] - 0s 2ms/step - loss: 2.3295 - accuracy: 0.7717 - val_loss: 2.4402 - val_accuracy: 0.7500\n",
      "Epoch 23/40\n",
      "200/200 [==============================] - 0s 2ms/step - loss: 2.2584 - accuracy: 0.7702 - val_loss: 2.4224 - val_accuracy: 0.7506\n",
      "Epoch 24/40\n",
      "200/200 [==============================] - 0s 2ms/step - loss: 2.1849 - accuracy: 0.7456 - val_loss: 2.3895 - val_accuracy: 0.7237\n",
      "Epoch 25/40\n",
      "200/200 [==============================] - 0s 1ms/step - loss: 2.0424 - accuracy: 0.7502 - val_loss: 2.1254 - val_accuracy: 0.7450\n",
      "Epoch 26/40\n",
      "200/200 [==============================] - 0s 2ms/step - loss: 1.9430 - accuracy: 0.7675 - val_loss: 2.0976 - val_accuracy: 0.7531\n",
      "Epoch 27/40\n",
      "200/200 [==============================] - 0s 2ms/step - loss: 1.9047 - accuracy: 0.7736 - val_loss: 2.0651 - val_accuracy: 0.7638\n",
      "Epoch 28/40\n",
      "200/200 [==============================] - 0s 2ms/step - loss: 1.8291 - accuracy: 0.7825 - val_loss: 1.9908 - val_accuracy: 0.7644\n",
      "Epoch 29/40\n",
      "200/200 [==============================] - 0s 1ms/step - loss: 1.7963 - accuracy: 0.7742 - val_loss: 1.9909 - val_accuracy: 0.7650\n",
      "Epoch 30/40\n",
      "200/200 [==============================] - 0s 2ms/step - loss: 1.8626 - accuracy: 0.7919 - val_loss: 1.9824 - val_accuracy: 0.7700\n",
      "Epoch 31/40\n",
      "200/200 [==============================] - 0s 1ms/step - loss: 1.7916 - accuracy: 0.7912 - val_loss: 1.8948 - val_accuracy: 0.7669\n",
      "Epoch 32/40\n",
      "200/200 [==============================] - 0s 1ms/step - loss: 1.7207 - accuracy: 0.7862 - val_loss: 1.7492 - val_accuracy: 0.7563\n",
      "Epoch 33/40\n",
      "200/200 [==============================] - 0s 1ms/step - loss: 1.6205 - accuracy: 0.7803 - val_loss: 1.7108 - val_accuracy: 0.7619\n",
      "Epoch 34/40\n",
      "200/200 [==============================] - 0s 1ms/step - loss: 1.5755 - accuracy: 0.7770 - val_loss: 1.6651 - val_accuracy: 0.7600\n",
      "Epoch 35/40\n",
      "200/200 [==============================] - 0s 2ms/step - loss: 1.6483 - accuracy: 0.7317 - val_loss: 1.6717 - val_accuracy: 0.7494\n",
      "Epoch 36/40\n",
      "200/200 [==============================] - 0s 2ms/step - loss: 1.4673 - accuracy: 0.7081 - val_loss: 1.5228 - val_accuracy: 0.7131\n",
      "Epoch 37/40\n",
      "200/200 [==============================] - 0s 2ms/step - loss: 1.4028 - accuracy: 0.7192 - val_loss: 1.4011 - val_accuracy: 0.7306\n",
      "Epoch 38/40\n",
      "200/200 [==============================] - 0s 2ms/step - loss: 1.2393 - accuracy: 0.7419 - val_loss: 1.3514 - val_accuracy: 0.7237\n",
      "Epoch 39/40\n",
      "200/200 [==============================] - 0s 1ms/step - loss: 1.1539 - accuracy: 0.7200 - val_loss: 1.2598 - val_accuracy: 0.7163\n",
      "Epoch 40/40\n",
      "200/200 [==============================] - 0s 2ms/step - loss: 1.0694 - accuracy: 0.7445 - val_loss: 1.2476 - val_accuracy: 0.7462\n"
     ]
    },
    {
     "data": {
      "application/javascript": [
       "\n",
       "            setTimeout(function() {\n",
       "                var nbb_cell_id = 51;\n",
       "                var nbb_unformatted_code = \"history = model3.fit(X_train, y_train, epochs=40, validation_split=0.2, verbose=1)\";\n",
       "                var nbb_formatted_code = \"history = model3.fit(X_train, y_train, epochs=40, validation_split=0.2, verbose=1)\";\n",
       "                var nbb_cells = Jupyter.notebook.get_cells();\n",
       "                for (var i = 0; i < nbb_cells.length; ++i) {\n",
       "                    if (nbb_cells[i].input_prompt_number == nbb_cell_id) {\n",
       "                        if (nbb_cells[i].get_text() == nbb_unformatted_code) {\n",
       "                             nbb_cells[i].set_text(nbb_formatted_code);\n",
       "                        }\n",
       "                        break;\n",
       "                    }\n",
       "                }\n",
       "            }, 500);\n",
       "            "
      ],
      "text/plain": [
       "<IPython.core.display.Javascript object>"
      ]
     },
     "metadata": {},
     "output_type": "display_data"
    }
   ],
   "source": [
    "history = model3.fit(X_train, y_train, epochs=40, validation_split=0.2, verbose=1)"
   ]
  },
  {
   "cell_type": "code",
   "execution_count": 52,
   "metadata": {},
   "outputs": [
    {
     "data": {
      "text/plain": [
       "<matplotlib.legend.Legend at 0x2e0df384fd0>"
      ]
     },
     "execution_count": 52,
     "metadata": {},
     "output_type": "execute_result"
    },
    {
     "data": {
      "image/png": "[encoded data removed]",
      "text/plain": [
       "<Figure size 432x288 with 1 Axes>"
      ]
     },
     "metadata": {},
     "output_type": "display_data"
    },
    {
     "data": {
      "application/javascript": [
       "\n",
       "            setTimeout(function() {\n",
       "                var nbb_cell_id = 52;\n",
       "                var nbb_unformatted_code = \"# Capturing learning history per epoch\\nhist = pd.DataFrame(history.history)\\nhist[\\\"epoch\\\"] = history.epoch\\n\\n# Plotting accuracy at different epochs\\nplt.plot(hist[\\\"loss\\\"])\\nplt.plot(hist[\\\"val_loss\\\"])\\nplt.legend((\\\"train\\\", \\\"valid\\\"), loc=0)\";\n",
       "                var nbb_formatted_code = \"# Capturing learning history per epoch\\nhist = pd.DataFrame(history.history)\\nhist[\\\"epoch\\\"] = history.epoch\\n\\n# Plotting accuracy at different epochs\\nplt.plot(hist[\\\"loss\\\"])\\nplt.plot(hist[\\\"val_loss\\\"])\\nplt.legend((\\\"train\\\", \\\"valid\\\"), loc=0)\";\n",
       "                var nbb_cells = Jupyter.notebook.get_cells();\n",
       "                for (var i = 0; i < nbb_cells.length; ++i) {\n",
       "                    if (nbb_cells[i].input_prompt_number == nbb_cell_id) {\n",
       "                        if (nbb_cells[i].get_text() == nbb_unformatted_code) {\n",
       "                             nbb_cells[i].set_text(nbb_formatted_code);\n",
       "                        }\n",
       "                        break;\n",
       "                    }\n",
       "                }\n",
       "            }, 500);\n",
       "            "
      ],
      "text/plain": [
       "<IPython.core.display.Javascript object>"
      ]
     },
     "metadata": {},
     "output_type": "display_data"
    }
   ],
   "source": [
    "# Capturing learning history per epoch\n",
    "hist = pd.DataFrame(history.history)\n",
    "hist[\"epoch\"] = history.epoch\n",
    "\n",
    "# Plotting accuracy at different epochs\n",
    "plt.plot(hist[\"loss\"])\n",
    "plt.plot(hist[\"val_loss\"])\n",
    "plt.legend((\"train\", \"valid\"), loc=0)"
   ]
  },
  {
   "cell_type": "code",
   "execution_count": 53,
   "metadata": {},
   "outputs": [
    {
     "data": {
      "image/png": "[encoded data removed]",
      "text/plain": [
       "<Figure size 432x288 with 2 Axes>"
      ]
     },
     "metadata": {},
     "output_type": "display_data"
    },
    {
     "data": {
      "application/javascript": [
       "\n",
       "            setTimeout(function() {\n",
       "                var nbb_cell_id = 53;\n",
       "                var nbb_unformatted_code = \"## Confusion Matrix on unsee test set\\n\\ny_pred1 = model3.predict(X_test)\\nfor i in range(len(y_test)):\\n    if y_pred1[i] > optimal_threshold_auc_roc:\\n        y_pred1[i] = 1\\n    else:\\n        y_pred1[i] = 0\\n\\n\\ncm2 = confusion_matrix(y_test, y_pred1)\\nlabels = [\\\"True Negative\\\", \\\"False Positive\\\", \\\"False Negative\\\", \\\"True Positive\\\"]\\ncategories = [\\\"Not_Exited\\\", \\\"Exited\\\"]\\nmake_confusion_matrix(cm2, group_names=labels, categories=categories, cmap=\\\"Blues\\\")\";\n",
       "                var nbb_formatted_code = \"## Confusion Matrix on unsee test set\\n\\ny_pred1 = model3.predict(X_test)\\nfor i in range(len(y_test)):\\n    if y_pred1[i] > optimal_threshold_auc_roc:\\n        y_pred1[i] = 1\\n    else:\\n        y_pred1[i] = 0\\n\\n\\ncm2 = confusion_matrix(y_test, y_pred1)\\nlabels = [\\\"True Negative\\\", \\\"False Positive\\\", \\\"False Negative\\\", \\\"True Positive\\\"]\\ncategories = [\\\"Not_Exited\\\", \\\"Exited\\\"]\\nmake_confusion_matrix(cm2, group_names=labels, categories=categories, cmap=\\\"Blues\\\")\";\n",
       "                var nbb_cells = Jupyter.notebook.get_cells();\n",
       "                for (var i = 0; i < nbb_cells.length; ++i) {\n",
       "                    if (nbb_cells[i].input_prompt_number == nbb_cell_id) {\n",
       "                        if (nbb_cells[i].get_text() == nbb_unformatted_code) {\n",
       "                             nbb_cells[i].set_text(nbb_formatted_code);\n",
       "                        }\n",
       "                        break;\n",
       "                    }\n",
       "                }\n",
       "            }, 500);\n",
       "            "
      ],
      "text/plain": [
       "<IPython.core.display.Javascript object>"
      ]
     },
     "metadata": {},
     "output_type": "display_data"
    }
   ],
   "source": [
    "## Confusion Matrix on unsee test set\n",
    "\n",
    "y_pred1 = model3.predict(X_test)\n",
    "for i in range(len(y_test)):\n",
    "    if y_pred1[i] > optimal_threshold_auc_roc:\n",
    "        y_pred1[i] = 1\n",
    "    else:\n",
    "        y_pred1[i] = 0\n",
    "\n",
    "\n",
    "cm2 = confusion_matrix(y_test, y_pred1)\n",
    "labels = [\"True Negative\", \"False Positive\", \"False Negative\", \"True Positive\"]\n",
    "categories = [\"Not_Exited\", \"Exited\"]\n",
    "make_confusion_matrix(cm2, group_names=labels, categories=categories, cmap=\"Blues\")"
   ]
  },
  {
   "cell_type": "markdown",
   "metadata": {},
   "source": [
    "- The True Negative increased to 46% while the True Positive decreased to 13%."
   ]
  },
  {
   "cell_type": "markdown",
   "metadata": {},
   "source": [
    "#### Model 4 -  Weighted loss to account for large class imbalance in train dataset\n",
    "- apply on Model 1"
   ]
  },
  {
   "cell_type": "code",
   "execution_count": 54,
   "metadata": {},
   "outputs": [
    {
     "data": {
      "text/plain": [
       "{0: 0.627549419516787, 1: 2.4600246002460024}"
      ]
     },
     "execution_count": 54,
     "metadata": {},
     "output_type": "execute_result"
    },
    {
     "data": {
      "application/javascript": [
       "\n",
       "            setTimeout(function() {\n",
       "                var nbb_cell_id = 54;\n",
       "                var nbb_unformatted_code = \"from sklearn.utils import class_weight\\n\\nclass_weights = class_weight.compute_class_weight(\\n    class_weight=\\\"balanced\\\",\\n    classes=np.unique(y_train),\\n    y=np.array([y_train.iloc[i] for i in range(len(y_train))]),\\n)\\nclass_weights = dict(enumerate(class_weights))\\nclass_weights\";\n",
       "                var nbb_formatted_code = \"from sklearn.utils import class_weight\\n\\nclass_weights = class_weight.compute_class_weight(\\n    class_weight=\\\"balanced\\\",\\n    classes=np.unique(y_train),\\n    y=np.array([y_train.iloc[i] for i in range(len(y_train))]),\\n)\\nclass_weights = dict(enumerate(class_weights))\\nclass_weights\";\n",
       "                var nbb_cells = Jupyter.notebook.get_cells();\n",
       "                for (var i = 0; i < nbb_cells.length; ++i) {\n",
       "                    if (nbb_cells[i].input_prompt_number == nbb_cell_id) {\n",
       "                        if (nbb_cells[i].get_text() == nbb_unformatted_code) {\n",
       "                             nbb_cells[i].set_text(nbb_formatted_code);\n",
       "                        }\n",
       "                        break;\n",
       "                    }\n",
       "                }\n",
       "            }, 500);\n",
       "            "
      ],
      "text/plain": [
       "<IPython.core.display.Javascript object>"
      ]
     },
     "metadata": {},
     "output_type": "display_data"
    }
   ],
   "source": [
    "from sklearn.utils import class_weight\n",
    "\n",
    "class_weights = class_weight.compute_class_weight(\n",
    "    class_weight=\"balanced\",\n",
    "    classes=np.unique(y_train),\n",
    "    y=np.array([y_train.iloc[i] for i in range(len(y_train))]),\n",
    ")\n",
    "class_weights = dict(enumerate(class_weights))\n",
    "class_weights"
   ]
  },
  {
   "cell_type": "code",
   "execution_count": 55,
   "metadata": {},
   "outputs": [
    {
     "name": "stdout",
     "output_type": "stream",
     "text": [
      "Epoch 1/5\n",
      "534/534 [==============================] - 2s 2ms/step - loss: 0.4805 - accuracy: 0.7866\n",
      "Epoch 2/5\n",
      "534/534 [==============================] - 1s 2ms/step - loss: 0.4714 - accuracy: 0.7815\n",
      "Epoch 3/5\n",
      "534/534 [==============================] - 1s 2ms/step - loss: 0.4682 - accuracy: 0.7801\n",
      "Epoch 4/5\n",
      "534/534 [==============================] - 1s 2ms/step - loss: 0.4664 - accuracy: 0.7854\n",
      "Epoch 5/5\n",
      "534/534 [==============================] - 1s 2ms/step - loss: 0.4650 - accuracy: 0.7862\n"
     ]
    },
    {
     "data": {
      "text/plain": [
       "<keras.callbacks.History at 0x2e0df51a340>"
      ]
     },
     "execution_count": 55,
     "metadata": {},
     "output_type": "execute_result"
    },
    {
     "data": {
      "application/javascript": [
       "\n",
       "            setTimeout(function() {\n",
       "                var nbb_cell_id = 55;\n",
       "                var nbb_unformatted_code = \"model.fit(\\n    X_train, y_train, batch_size=15, epochs=5, class_weight=class_weights, shuffle=True\\n)\";\n",
       "                var nbb_formatted_code = \"model.fit(\\n    X_train, y_train, batch_size=15, epochs=5, class_weight=class_weights, shuffle=True\\n)\";\n",
       "                var nbb_cells = Jupyter.notebook.get_cells();\n",
       "                for (var i = 0; i < nbb_cells.length; ++i) {\n",
       "                    if (nbb_cells[i].input_prompt_number == nbb_cell_id) {\n",
       "                        if (nbb_cells[i].get_text() == nbb_unformatted_code) {\n",
       "                             nbb_cells[i].set_text(nbb_formatted_code);\n",
       "                        }\n",
       "                        break;\n",
       "                    }\n",
       "                }\n",
       "            }, 500);\n",
       "            "
      ],
      "text/plain": [
       "<IPython.core.display.Javascript object>"
      ]
     },
     "metadata": {},
     "output_type": "display_data"
    }
   ],
   "source": [
    "model.fit(\n",
    "    X_train, y_train, batch_size=15, epochs=5, class_weight=class_weights, shuffle=True\n",
    ")"
   ]
  },
  {
   "cell_type": "code",
   "execution_count": 56,
   "metadata": {},
   "outputs": [
    {
     "name": "stdout",
     "output_type": "stream",
     "text": [
      "63/63 [==============================] - 0s 791us/step - loss: 0.4700 - accuracy: 0.7735\n"
     ]
    },
    {
     "data": {
      "application/javascript": [
       "\n",
       "            setTimeout(function() {\n",
       "                var nbb_cell_id = 56;\n",
       "                var nbb_unformatted_code = \"score_weighted = model.evaluate(X_test, y_test)\";\n",
       "                var nbb_formatted_code = \"score_weighted = model.evaluate(X_test, y_test)\";\n",
       "                var nbb_cells = Jupyter.notebook.get_cells();\n",
       "                for (var i = 0; i < nbb_cells.length; ++i) {\n",
       "                    if (nbb_cells[i].input_prompt_number == nbb_cell_id) {\n",
       "                        if (nbb_cells[i].get_text() == nbb_unformatted_code) {\n",
       "                             nbb_cells[i].set_text(nbb_formatted_code);\n",
       "                        }\n",
       "                        break;\n",
       "                    }\n",
       "                }\n",
       "            }, 500);\n",
       "            "
      ],
      "text/plain": [
       "<IPython.core.display.Javascript object>"
      ]
     },
     "metadata": {},
     "output_type": "display_data"
    }
   ],
   "source": [
    "score_weighted = model.evaluate(X_test, y_test)"
   ]
  },
  {
   "cell_type": "code",
   "execution_count": 57,
   "metadata": {},
   "outputs": [
    {
     "data": {
      "image/png": "[encoded data removed]",
      "text/plain": [
       "<Figure size 432x288 with 2 Axes>"
      ]
     },
     "metadata": {},
     "output_type": "display_data"
    },
    {
     "data": {
      "application/javascript": [
       "\n",
       "            setTimeout(function() {\n",
       "                var nbb_cell_id = 57;\n",
       "                var nbb_unformatted_code = \"## Confusion Matrix on unsee test set\\n\\ny_pred1 = model.predict(X_test)\\nfor i in range(len(y_test)):\\n    if y_pred1[i] > optimal_threshold_auc_roc:\\n        y_pred1[i] = 1\\n    else:\\n        y_pred1[i] = 0\\n\\n\\ncm2 = confusion_matrix(y_test, y_pred1)\\nlabels = [\\\"True Negative\\\", \\\"False Positive\\\", \\\"False Negative\\\", \\\"True Positive\\\"]\\ncategories = [\\\"Not_Exited\\\", \\\"Exited\\\"]\\nmake_confusion_matrix(cm2, group_names=labels, categories=categories, cmap=\\\"Blues\\\")\";\n",
       "                var nbb_formatted_code = \"## Confusion Matrix on unsee test set\\n\\ny_pred1 = model.predict(X_test)\\nfor i in range(len(y_test)):\\n    if y_pred1[i] > optimal_threshold_auc_roc:\\n        y_pred1[i] = 1\\n    else:\\n        y_pred1[i] = 0\\n\\n\\ncm2 = confusion_matrix(y_test, y_pred1)\\nlabels = [\\\"True Negative\\\", \\\"False Positive\\\", \\\"False Negative\\\", \\\"True Positive\\\"]\\ncategories = [\\\"Not_Exited\\\", \\\"Exited\\\"]\\nmake_confusion_matrix(cm2, group_names=labels, categories=categories, cmap=\\\"Blues\\\")\";\n",
       "                var nbb_cells = Jupyter.notebook.get_cells();\n",
       "                for (var i = 0; i < nbb_cells.length; ++i) {\n",
       "                    if (nbb_cells[i].input_prompt_number == nbb_cell_id) {\n",
       "                        if (nbb_cells[i].get_text() == nbb_unformatted_code) {\n",
       "                             nbb_cells[i].set_text(nbb_formatted_code);\n",
       "                        }\n",
       "                        break;\n",
       "                    }\n",
       "                }\n",
       "            }, 500);\n",
       "            "
      ],
      "text/plain": [
       "<IPython.core.display.Javascript object>"
      ]
     },
     "metadata": {},
     "output_type": "display_data"
    }
   ],
   "source": [
    "## Confusion Matrix on unsee test set\n",
    "\n",
    "y_pred1 = model.predict(X_test)\n",
    "for i in range(len(y_test)):\n",
    "    if y_pred1[i] > optimal_threshold_auc_roc:\n",
    "        y_pred1[i] = 1\n",
    "    else:\n",
    "        y_pred1[i] = 0\n",
    "\n",
    "\n",
    "cm2 = confusion_matrix(y_test, y_pred1)\n",
    "labels = [\"True Negative\", \"False Positive\", \"False Negative\", \"True Positive\"]\n",
    "categories = [\"Not_Exited\", \"Exited\"]\n",
    "make_confusion_matrix(cm2, group_names=labels, categories=categories, cmap=\"Blues\")"
   ]
  },
  {
   "cell_type": "markdown",
   "metadata": {},
   "source": [
    "- Recall is 0.9 while Accuracy is very low.\n",
    "- the True Negative decreased and the False Positive increased."
   ]
  },
  {
   "cell_type": "markdown",
   "metadata": {},
   "source": [
    " **Conclusion:** \n",
    "\n",
    "\n",
    "\n",
    " As you can see here the Recall is increased but the precision is very bad.  There is still  lot of scope of  improvements  as follows:\n",
    " \n",
    "1) use Precision-Recall curve to find a better threshold\n",
    "\n",
    "2) Different combination of weight initialization and dropout rate might work \n",
    "\n",
    "3) Hyperparameter tuning can be applied to tune the different Hyperparameters\n",
    "\n",
    "\n",
    "\n",
    "We can select the Model-1 after using the ROC-AUC threshold as our final model based on the above analysis "
   ]
  },
  {
   "cell_type": "code",
   "execution_count": null,
   "metadata": {},
   "outputs": [],
   "source": []
  }
 ],
 "metadata": {
  "kernelspec": {
   "display_name": "Python 3",
   "language": "python",
   "name": "python3"
  },
  "language_info": {
   "codemirror_mode": {
    "name": "ipython",
    "version": 3
   },
   "file_extension": ".py",
   "mimetype": "text/x-python",
   "name": "python",
   "nbconvert_exporter": "python",
   "pygments_lexer": "ipython3",
   "version": "3.8.5"
  }
 },
 "nbformat": 4,
 "nbformat_minor": 4
}
